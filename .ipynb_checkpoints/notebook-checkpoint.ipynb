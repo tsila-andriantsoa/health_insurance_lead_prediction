{
 "cells": [
  {
   "cell_type": "markdown",
   "id": "766ff50e-b044-47f2-86dd-7268b9798a37",
   "metadata": {
    "tags": []
   },
   "source": [
    "#### Library importation"
   ]
  },
  {
   "cell_type": "code",
   "execution_count": 1,
   "id": "32b50462-3940-4c54-ae53-307664c1641e",
   "metadata": {
    "tags": []
   },
   "outputs": [],
   "source": [
    "import numpy as np\n",
    "import pandas as pd\n",
    "import matplotlib.pyplot as plt\n",
    "import seaborn as sns\n",
    "%matplotlib inline"
   ]
  },
  {
   "cell_type": "code",
   "execution_count": 2,
   "id": "e69c2a82-7443-4bf7-a8ba-25c96703b6d0",
   "metadata": {
    "tags": []
   },
   "outputs": [],
   "source": [
    "from sklearn.feature_selection import mutual_info_classif\n",
    "from sklearn.model_selection import train_test_split, GridSearchCV, cross_val_score, StratifiedKFold\n",
    "from sklearn.pipeline import Pipeline\n",
    "from sklearn.compose import ColumnTransformer, make_column_selector\n",
    "from sklearn.preprocessing import StandardScaler, OneHotEncoder\n",
    "from sklearn.metrics import roc_auc_score\n",
    "\n",
    "from sklearn.base import BaseEstimator, TransformerMixin\n",
    "\n",
    "from sklearn.ensemble import RandomForestClassifier\n",
    "from sklearn.linear_model import LogisticRegression\n",
    "from sklearn.tree import DecisionTreeClassifier\n",
    "import xgboost as xgb\n",
    "\n",
    "from itertools import combinations\n",
    "\n",
    "import joblib"
   ]
  },
  {
   "cell_type": "code",
   "execution_count": 3,
   "id": "2f7e41ae-6d6c-4dc1-a37a-9616e95a2002",
   "metadata": {
    "tags": []
   },
   "outputs": [],
   "source": [
    "pd.set_option('display.max_rows', 500)\n",
    "pd.set_option('display.max_columns', 500)"
   ]
  },
  {
   "cell_type": "markdown",
   "id": "d0255dd0-2a12-4991-9255-2c914de4597c",
   "metadata": {},
   "source": [
    "#### Data importation"
   ]
  },
  {
   "cell_type": "code",
   "execution_count": 4,
   "id": "3a5aaa38-e1f0-4cc7-ad1e-37643b2f2e9b",
   "metadata": {
    "tags": []
   },
   "outputs": [],
   "source": [
    "RANDOM_STATE = 42"
   ]
  },
  {
   "cell_type": "code",
   "execution_count": 5,
   "id": "be291b49-d153-49b5-9721-09473fc89a7e",
   "metadata": {
    "tags": []
   },
   "outputs": [
    {
     "data": {
      "text/html": [
       "<div>\n",
       "<style scoped>\n",
       "    .dataframe tbody tr th:only-of-type {\n",
       "        vertical-align: middle;\n",
       "    }\n",
       "\n",
       "    .dataframe tbody tr th {\n",
       "        vertical-align: top;\n",
       "    }\n",
       "\n",
       "    .dataframe thead th {\n",
       "        text-align: right;\n",
       "    }\n",
       "</style>\n",
       "<table border=\"1\" class=\"dataframe\">\n",
       "  <thead>\n",
       "    <tr style=\"text-align: right;\">\n",
       "      <th></th>\n",
       "      <th>ID</th>\n",
       "      <th>City_Code</th>\n",
       "      <th>Region_Code</th>\n",
       "      <th>Accomodation_Type</th>\n",
       "      <th>Reco_Insurance_Type</th>\n",
       "      <th>Upper_Age</th>\n",
       "      <th>Lower_Age</th>\n",
       "      <th>Is_Spouse</th>\n",
       "      <th>Health Indicator</th>\n",
       "      <th>Holding_Policy_Duration</th>\n",
       "      <th>Holding_Policy_Type</th>\n",
       "      <th>Reco_Policy_Cat</th>\n",
       "      <th>Reco_Policy_Premium</th>\n",
       "      <th>Response</th>\n",
       "    </tr>\n",
       "  </thead>\n",
       "  <tbody>\n",
       "    <tr>\n",
       "      <th>0</th>\n",
       "      <td>1</td>\n",
       "      <td>C3</td>\n",
       "      <td>3213</td>\n",
       "      <td>Rented</td>\n",
       "      <td>Individual</td>\n",
       "      <td>36</td>\n",
       "      <td>36</td>\n",
       "      <td>No</td>\n",
       "      <td>X1</td>\n",
       "      <td>14+</td>\n",
       "      <td>3.0</td>\n",
       "      <td>22</td>\n",
       "      <td>11628.0</td>\n",
       "      <td>0</td>\n",
       "    </tr>\n",
       "    <tr>\n",
       "      <th>1</th>\n",
       "      <td>2</td>\n",
       "      <td>C5</td>\n",
       "      <td>1117</td>\n",
       "      <td>Owned</td>\n",
       "      <td>Joint</td>\n",
       "      <td>75</td>\n",
       "      <td>22</td>\n",
       "      <td>No</td>\n",
       "      <td>X2</td>\n",
       "      <td>NaN</td>\n",
       "      <td>NaN</td>\n",
       "      <td>22</td>\n",
       "      <td>30510.0</td>\n",
       "      <td>0</td>\n",
       "    </tr>\n",
       "    <tr>\n",
       "      <th>2</th>\n",
       "      <td>3</td>\n",
       "      <td>C5</td>\n",
       "      <td>3732</td>\n",
       "      <td>Owned</td>\n",
       "      <td>Individual</td>\n",
       "      <td>32</td>\n",
       "      <td>32</td>\n",
       "      <td>No</td>\n",
       "      <td>NaN</td>\n",
       "      <td>1.0</td>\n",
       "      <td>1.0</td>\n",
       "      <td>19</td>\n",
       "      <td>7450.0</td>\n",
       "      <td>1</td>\n",
       "    </tr>\n",
       "    <tr>\n",
       "      <th>3</th>\n",
       "      <td>4</td>\n",
       "      <td>C24</td>\n",
       "      <td>4378</td>\n",
       "      <td>Owned</td>\n",
       "      <td>Joint</td>\n",
       "      <td>52</td>\n",
       "      <td>48</td>\n",
       "      <td>No</td>\n",
       "      <td>X1</td>\n",
       "      <td>14+</td>\n",
       "      <td>3.0</td>\n",
       "      <td>19</td>\n",
       "      <td>17780.0</td>\n",
       "      <td>0</td>\n",
       "    </tr>\n",
       "    <tr>\n",
       "      <th>4</th>\n",
       "      <td>5</td>\n",
       "      <td>C8</td>\n",
       "      <td>2190</td>\n",
       "      <td>Rented</td>\n",
       "      <td>Individual</td>\n",
       "      <td>44</td>\n",
       "      <td>44</td>\n",
       "      <td>No</td>\n",
       "      <td>X2</td>\n",
       "      <td>3.0</td>\n",
       "      <td>1.0</td>\n",
       "      <td>16</td>\n",
       "      <td>10404.0</td>\n",
       "      <td>0</td>\n",
       "    </tr>\n",
       "  </tbody>\n",
       "</table>\n",
       "</div>"
      ],
      "text/plain": [
       "   ID City_Code  Region_Code Accomodation_Type Reco_Insurance_Type  Upper_Age  \\\n",
       "0   1        C3         3213            Rented          Individual         36   \n",
       "1   2        C5         1117             Owned               Joint         75   \n",
       "2   3        C5         3732             Owned          Individual         32   \n",
       "3   4       C24         4378             Owned               Joint         52   \n",
       "4   5        C8         2190            Rented          Individual         44   \n",
       "\n",
       "   Lower_Age Is_Spouse Health Indicator Holding_Policy_Duration  \\\n",
       "0         36        No               X1                     14+   \n",
       "1         22        No               X2                     NaN   \n",
       "2         32        No              NaN                     1.0   \n",
       "3         48        No               X1                     14+   \n",
       "4         44        No               X2                     3.0   \n",
       "\n",
       "   Holding_Policy_Type  Reco_Policy_Cat  Reco_Policy_Premium  Response  \n",
       "0                  3.0               22              11628.0         0  \n",
       "1                  NaN               22              30510.0         0  \n",
       "2                  1.0               19               7450.0         1  \n",
       "3                  3.0               19              17780.0         0  \n",
       "4                  1.0               16              10404.0         0  "
      ]
     },
     "execution_count": 5,
     "metadata": {},
     "output_type": "execute_result"
    }
   ],
   "source": [
    "data = pd.read_csv('data/InsuranceLeadData.csv')\n",
    "data.head()"
   ]
  },
  {
   "cell_type": "markdown",
   "id": "9f9d12f9-ea0e-45ea-a132-1454c4bf4909",
   "metadata": {},
   "source": [
    "#### Data preparation"
   ]
  },
  {
   "cell_type": "code",
   "execution_count": 6,
   "id": "bca9f41e-a8f9-43f2-a4ff-8a7fb38a2442",
   "metadata": {
    "tags": []
   },
   "outputs": [
    {
     "data": {
      "text/html": [
       "<div>\n",
       "<style scoped>\n",
       "    .dataframe tbody tr th:only-of-type {\n",
       "        vertical-align: middle;\n",
       "    }\n",
       "\n",
       "    .dataframe tbody tr th {\n",
       "        vertical-align: top;\n",
       "    }\n",
       "\n",
       "    .dataframe thead th {\n",
       "        text-align: right;\n",
       "    }\n",
       "</style>\n",
       "<table border=\"1\" class=\"dataframe\">\n",
       "  <thead>\n",
       "    <tr style=\"text-align: right;\">\n",
       "      <th></th>\n",
       "      <th>id</th>\n",
       "      <th>city_code</th>\n",
       "      <th>region_code</th>\n",
       "      <th>accomodation_type</th>\n",
       "      <th>reco_insurance_type</th>\n",
       "      <th>upper_age</th>\n",
       "      <th>lower_age</th>\n",
       "      <th>is_spouse</th>\n",
       "      <th>health_indicator</th>\n",
       "      <th>holding_policy_duration</th>\n",
       "      <th>holding_policy_type</th>\n",
       "      <th>reco_policy_cat</th>\n",
       "      <th>reco_policy_premium</th>\n",
       "      <th>response</th>\n",
       "    </tr>\n",
       "  </thead>\n",
       "  <tbody>\n",
       "    <tr>\n",
       "      <th>0</th>\n",
       "      <td>1</td>\n",
       "      <td>C3</td>\n",
       "      <td>3213</td>\n",
       "      <td>Rented</td>\n",
       "      <td>Individual</td>\n",
       "      <td>36</td>\n",
       "      <td>36</td>\n",
       "      <td>No</td>\n",
       "      <td>X1</td>\n",
       "      <td>14+</td>\n",
       "      <td>3.0</td>\n",
       "      <td>22</td>\n",
       "      <td>11628.0</td>\n",
       "      <td>0</td>\n",
       "    </tr>\n",
       "    <tr>\n",
       "      <th>1</th>\n",
       "      <td>2</td>\n",
       "      <td>C5</td>\n",
       "      <td>1117</td>\n",
       "      <td>Owned</td>\n",
       "      <td>Joint</td>\n",
       "      <td>75</td>\n",
       "      <td>22</td>\n",
       "      <td>No</td>\n",
       "      <td>X2</td>\n",
       "      <td>NaN</td>\n",
       "      <td>NaN</td>\n",
       "      <td>22</td>\n",
       "      <td>30510.0</td>\n",
       "      <td>0</td>\n",
       "    </tr>\n",
       "    <tr>\n",
       "      <th>2</th>\n",
       "      <td>3</td>\n",
       "      <td>C5</td>\n",
       "      <td>3732</td>\n",
       "      <td>Owned</td>\n",
       "      <td>Individual</td>\n",
       "      <td>32</td>\n",
       "      <td>32</td>\n",
       "      <td>No</td>\n",
       "      <td>NaN</td>\n",
       "      <td>1.0</td>\n",
       "      <td>1.0</td>\n",
       "      <td>19</td>\n",
       "      <td>7450.0</td>\n",
       "      <td>1</td>\n",
       "    </tr>\n",
       "    <tr>\n",
       "      <th>3</th>\n",
       "      <td>4</td>\n",
       "      <td>C24</td>\n",
       "      <td>4378</td>\n",
       "      <td>Owned</td>\n",
       "      <td>Joint</td>\n",
       "      <td>52</td>\n",
       "      <td>48</td>\n",
       "      <td>No</td>\n",
       "      <td>X1</td>\n",
       "      <td>14+</td>\n",
       "      <td>3.0</td>\n",
       "      <td>19</td>\n",
       "      <td>17780.0</td>\n",
       "      <td>0</td>\n",
       "    </tr>\n",
       "    <tr>\n",
       "      <th>4</th>\n",
       "      <td>5</td>\n",
       "      <td>C8</td>\n",
       "      <td>2190</td>\n",
       "      <td>Rented</td>\n",
       "      <td>Individual</td>\n",
       "      <td>44</td>\n",
       "      <td>44</td>\n",
       "      <td>No</td>\n",
       "      <td>X2</td>\n",
       "      <td>3.0</td>\n",
       "      <td>1.0</td>\n",
       "      <td>16</td>\n",
       "      <td>10404.0</td>\n",
       "      <td>0</td>\n",
       "    </tr>\n",
       "  </tbody>\n",
       "</table>\n",
       "</div>"
      ],
      "text/plain": [
       "   id city_code  region_code accomodation_type reco_insurance_type  upper_age  \\\n",
       "0   1        C3         3213            Rented          Individual         36   \n",
       "1   2        C5         1117             Owned               Joint         75   \n",
       "2   3        C5         3732             Owned          Individual         32   \n",
       "3   4       C24         4378             Owned               Joint         52   \n",
       "4   5        C8         2190            Rented          Individual         44   \n",
       "\n",
       "   lower_age is_spouse health_indicator holding_policy_duration  \\\n",
       "0         36        No               X1                     14+   \n",
       "1         22        No               X2                     NaN   \n",
       "2         32        No              NaN                     1.0   \n",
       "3         48        No               X1                     14+   \n",
       "4         44        No               X2                     3.0   \n",
       "\n",
       "   holding_policy_type  reco_policy_cat  reco_policy_premium  response  \n",
       "0                  3.0               22              11628.0         0  \n",
       "1                  NaN               22              30510.0         0  \n",
       "2                  1.0               19               7450.0         1  \n",
       "3                  3.0               19              17780.0         0  \n",
       "4                  1.0               16              10404.0         0  "
      ]
     },
     "execution_count": 6,
     "metadata": {},
     "output_type": "execute_result"
    }
   ],
   "source": [
    "# rename data columns\n",
    "new_columns = ['id', 'city_code', 'region_code', 'accomodation_type', 'reco_insurance_type', 'upper_age', 'lower_age', 'is_spouse', 'health_indicator', 'holding_policy_duration'\\\n",
    "               , 'holding_policy_type', 'reco_policy_cat', 'reco_policy_premium', 'response']\n",
    "data.columns = new_columns\n",
    "data.head()"
   ]
  },
  {
   "cell_type": "markdown",
   "id": "aa2fbed0-e9b0-436d-b365-f7366f7eb1fb",
   "metadata": {},
   "source": [
    "##### check and remove duplicated rows"
   ]
  },
  {
   "cell_type": "code",
   "execution_count": 7,
   "id": "f623c300-ce2f-461a-bb12-b0a98737f7db",
   "metadata": {
    "tags": []
   },
   "outputs": [],
   "source": [
    "data.drop_duplicates(inplace = True)\n",
    "data.reset_index(drop = True, inplace = True)"
   ]
  },
  {
   "cell_type": "markdown",
   "id": "7ad04616-f08d-44ad-a0e5-8035a33d4a8f",
   "metadata": {},
   "source": [
    "##### check data type based on data dictionnary"
   ]
  },
  {
   "cell_type": "code",
   "execution_count": 8,
   "id": "55a87c3c-8aac-4ac4-a859-d01f301832b9",
   "metadata": {
    "tags": []
   },
   "outputs": [
    {
     "name": "stdout",
     "output_type": "stream",
     "text": [
      "<class 'pandas.core.frame.DataFrame'>\n",
      "RangeIndex: 50882 entries, 0 to 50881\n",
      "Data columns (total 14 columns):\n",
      " #   Column                   Non-Null Count  Dtype  \n",
      "---  ------                   --------------  -----  \n",
      " 0   id                       50882 non-null  int64  \n",
      " 1   city_code                50882 non-null  object \n",
      " 2   region_code              50882 non-null  int64  \n",
      " 3   accomodation_type        50882 non-null  object \n",
      " 4   reco_insurance_type      50882 non-null  object \n",
      " 5   upper_age                50882 non-null  int64  \n",
      " 6   lower_age                50882 non-null  int64  \n",
      " 7   is_spouse                50882 non-null  object \n",
      " 8   health_indicator         39191 non-null  object \n",
      " 9   holding_policy_duration  30631 non-null  object \n",
      " 10  holding_policy_type      30631 non-null  float64\n",
      " 11  reco_policy_cat          50882 non-null  int64  \n",
      " 12  reco_policy_premium      50882 non-null  float64\n",
      " 13  response                 50882 non-null  int64  \n",
      "dtypes: float64(2), int64(6), object(6)\n",
      "memory usage: 5.4+ MB\n"
     ]
    }
   ],
   "source": [
    "data.info()"
   ]
  },
  {
   "cell_type": "raw",
   "id": "c78e10ea-254f-4225-86f5-442eb030ee22",
   "metadata": {
    "tags": []
   },
   "source": [
    "For data dictionnary, check the following link.\n",
    "https://www.kaggle.com/datasets/sureshmecad/health-insurance-lead-prediction"
   ]
  },
  {
   "cell_type": "raw",
   "id": "a7444986-77d0-47d8-a218-149f5537b92b",
   "metadata": {},
   "source": [
    "City_Code: Code for the City of the customers\n",
    "Region_Code: Code for the Region of the customers\n",
    "Accomodation_Type: Customer Owns or Rents the house\n",
    "Reco_Insurance_Type: Joint or Individual type for the recommended insurance\n",
    "Upper_Age: Maximum age of the customer \n",
    "Lower_Age: Minimum age of the customer\n",
    "Is_Spouse: If the customers are married to each other (in case of joint insurance) \n",
    "Health_Indicator: Encoded values for health of the customer\n",
    "Holding_Policy_Duration: Duration (in years) of holding policy (a policy that customer has already subscribed to with the com...\n",
    "Holding_Policy_Type: Type of holding policy\n",
    "Reco_Policy_Cat: Encoded value for recommended health insurance\n",
    "Reco_Policy_Premium: Annual Premium (INR) for the recommended health insurance"
   ]
  },
  {
   "cell_type": "code",
   "execution_count": 9,
   "id": "b2e8f372-49b4-45f6-8726-40926d3a8df3",
   "metadata": {
    "tags": []
   },
   "outputs": [
    {
     "name": "stdout",
     "output_type": "stream",
     "text": [
      "<class 'pandas.core.frame.DataFrame'>\n",
      "RangeIndex: 50882 entries, 0 to 50881\n",
      "Data columns (total 14 columns):\n",
      " #   Column                   Non-Null Count  Dtype  \n",
      "---  ------                   --------------  -----  \n",
      " 0   id                       50882 non-null  int64  \n",
      " 1   city_code                50882 non-null  object \n",
      " 2   region_code              50882 non-null  object \n",
      " 3   accomodation_type        50882 non-null  object \n",
      " 4   reco_insurance_type      50882 non-null  object \n",
      " 5   upper_age                50882 non-null  int64  \n",
      " 6   lower_age                50882 non-null  int64  \n",
      " 7   is_spouse                50882 non-null  object \n",
      " 8   health_indicator         39191 non-null  object \n",
      " 9   holding_policy_duration  30631 non-null  object \n",
      " 10  holding_policy_type      30631 non-null  float64\n",
      " 11  reco_policy_cat          50882 non-null  object \n",
      " 12  reco_policy_premium      50882 non-null  float64\n",
      " 13  response                 50882 non-null  int64  \n",
      "dtypes: float64(2), int64(4), object(8)\n",
      "memory usage: 5.4+ MB\n"
     ]
    }
   ],
   "source": [
    "# transform datatype\n",
    "data['region_code'] = data['region_code'].astype('str')\n",
    "data['reco_policy_cat'] = data['reco_policy_cat'].astype('str')\n",
    "\n",
    "data.info()"
   ]
  },
  {
   "cell_type": "markdown",
   "id": "a555906d-f36d-4c9e-bdc3-7e4e2947b9d8",
   "metadata": {},
   "source": [
    "##### check null values, get percentage of null values"
   ]
  },
  {
   "cell_type": "code",
   "execution_count": 10,
   "id": "1531fe49-4971-4dda-ac29-7d1379ca104c",
   "metadata": {
    "tags": []
   },
   "outputs": [
    {
     "data": {
      "text/plain": [
       "id                         0.000000\n",
       "city_code                  0.000000\n",
       "region_code                0.000000\n",
       "accomodation_type          0.000000\n",
       "reco_insurance_type        0.000000\n",
       "upper_age                  0.000000\n",
       "lower_age                  0.000000\n",
       "is_spouse                  0.000000\n",
       "health_indicator           0.229767\n",
       "holding_policy_duration    0.397999\n",
       "holding_policy_type        0.397999\n",
       "reco_policy_cat            0.000000\n",
       "reco_policy_premium        0.000000\n",
       "response                   0.000000\n",
       "dtype: float64"
      ]
     },
     "execution_count": 10,
     "metadata": {},
     "output_type": "execute_result"
    }
   ],
   "source": [
    "data.isnull().sum()/len(data)"
   ]
  },
  {
   "cell_type": "raw",
   "id": "ac7d8221-700e-4275-896b-e179abec1743",
   "metadata": {},
   "source": [
    "We observe that holding_policy_duration and holding_policy_type are about 40% of NA values, let's drop them from the dataset."
   ]
  },
  {
   "cell_type": "code",
   "execution_count": 11,
   "id": "07ca94fc-2bcb-4325-8e80-74ece63e42d6",
   "metadata": {
    "tags": []
   },
   "outputs": [],
   "source": [
    "data['health_indicator'] = data['health_indicator'].fillna(data['health_indicator'].mode()[0])"
   ]
  },
  {
   "cell_type": "code",
   "execution_count": 12,
   "id": "fd991817-805b-488c-b28e-410d6f4b6e7e",
   "metadata": {
    "tags": []
   },
   "outputs": [
    {
     "data": {
      "text/plain": [
       "id                         0.000000\n",
       "city_code                  0.000000\n",
       "region_code                0.000000\n",
       "accomodation_type          0.000000\n",
       "reco_insurance_type        0.000000\n",
       "upper_age                  0.000000\n",
       "lower_age                  0.000000\n",
       "is_spouse                  0.000000\n",
       "health_indicator           0.000000\n",
       "holding_policy_duration    0.397999\n",
       "holding_policy_type        0.397999\n",
       "reco_policy_cat            0.000000\n",
       "reco_policy_premium        0.000000\n",
       "response                   0.000000\n",
       "dtype: float64"
      ]
     },
     "execution_count": 12,
     "metadata": {},
     "output_type": "execute_result"
    }
   ],
   "source": [
    "data.isnull().sum()/len(data)"
   ]
  },
  {
   "cell_type": "code",
   "execution_count": 13,
   "id": "30095f1e-a362-451b-8937-5b7dc23bd1d3",
   "metadata": {
    "tags": []
   },
   "outputs": [],
   "source": [
    "data.drop(columns = ['holding_policy_duration', 'holding_policy_type'], inplace = True)"
   ]
  },
  {
   "cell_type": "raw",
   "id": "e44a51ba-225d-46ca-94dd-7f583dbc3fa3",
   "metadata": {},
   "source": [
    "Let's drop id columns which will not be used for analysis."
   ]
  },
  {
   "cell_type": "code",
   "execution_count": 14,
   "id": "a634c56d-1a3a-4741-9123-b57bcceb55b4",
   "metadata": {
    "tags": []
   },
   "outputs": [],
   "source": [
    "data.drop(columns = ['id'], inplace = True)"
   ]
  },
  {
   "cell_type": "code",
   "execution_count": 15,
   "id": "853619bc-ec1b-4551-af26-c9cc5e7a59b0",
   "metadata": {
    "tags": []
   },
   "outputs": [],
   "source": [
    "# Split data into train, validation and test parts\n",
    "df_full_train, df_test = train_test_split(data, test_size = 0.3, random_state = RANDOM_STATE)"
   ]
  },
  {
   "cell_type": "code",
   "execution_count": 16,
   "id": "761550ea-a2c0-4d41-a2b4-90b630d5ec22",
   "metadata": {
    "tags": []
   },
   "outputs": [
    {
     "data": {
      "text/plain": [
       "((35617, 11), (15265, 11))"
      ]
     },
     "execution_count": 16,
     "metadata": {},
     "output_type": "execute_result"
    }
   ],
   "source": [
    "df_full_train.shape, df_test.shape"
   ]
  },
  {
   "cell_type": "code",
   "execution_count": 17,
   "id": "e7e86c84-fef0-46fc-aa95-7b53eeb422f3",
   "metadata": {
    "tags": []
   },
   "outputs": [],
   "source": [
    "df_full_train = df_full_train.reset_index(drop = True)\n",
    "df_test = df_test.reset_index(drop = True)"
   ]
  },
  {
   "cell_type": "markdown",
   "id": "82cc9969-2895-482a-9ee2-576f6377b437",
   "metadata": {},
   "source": [
    "#### Data exploration"
   ]
  },
  {
   "cell_type": "code",
   "execution_count": 18,
   "id": "45f2c96b-b7d0-41e3-9012-07582a9eeb7c",
   "metadata": {
    "tags": []
   },
   "outputs": [
    {
     "data": {
      "text/plain": [
       "(['upper_age', 'lower_age', 'reco_policy_premium'],\n",
       " ['city_code',\n",
       "  'region_code',\n",
       "  'accomodation_type',\n",
       "  'reco_insurance_type',\n",
       "  'is_spouse',\n",
       "  'health_indicator',\n",
       "  'reco_policy_cat'])"
      ]
     },
     "execution_count": 18,
     "metadata": {},
     "output_type": "execute_result"
    }
   ],
   "source": [
    "numerical_columns = df_full_train.select_dtypes(include = ['int', 'float']).columns\n",
    "numerical_columns = [item for item in numerical_columns if item != 'response']\n",
    "categorical_columns = df_full_train.select_dtypes(include = 'object').columns.tolist()\n",
    "numerical_columns, categorical_columns"
   ]
  },
  {
   "cell_type": "markdown",
   "id": "4ba994c8-1ea7-4cb6-a73e-10708ddffe41",
   "metadata": {},
   "source": [
    "##### Numerical features"
   ]
  },
  {
   "cell_type": "markdown",
   "id": "36768ae5-90ac-4090-85ca-877f11e0b224",
   "metadata": {},
   "source": [
    "###### Univarite analysis"
   ]
  },
  {
   "cell_type": "code",
   "execution_count": 19,
   "id": "c97a281c-66b0-4741-ba0c-2e795e0696b4",
   "metadata": {
    "tags": []
   },
   "outputs": [
    {
     "data": {
      "text/html": [
       "<div>\n",
       "<style scoped>\n",
       "    .dataframe tbody tr th:only-of-type {\n",
       "        vertical-align: middle;\n",
       "    }\n",
       "\n",
       "    .dataframe tbody tr th {\n",
       "        vertical-align: top;\n",
       "    }\n",
       "\n",
       "    .dataframe thead th {\n",
       "        text-align: right;\n",
       "    }\n",
       "</style>\n",
       "<table border=\"1\" class=\"dataframe\">\n",
       "  <thead>\n",
       "    <tr style=\"text-align: right;\">\n",
       "      <th></th>\n",
       "      <th>upper_age</th>\n",
       "      <th>lower_age</th>\n",
       "      <th>reco_policy_premium</th>\n",
       "    </tr>\n",
       "  </thead>\n",
       "  <tbody>\n",
       "    <tr>\n",
       "      <th>count</th>\n",
       "      <td>35617.000000</td>\n",
       "      <td>35617.000000</td>\n",
       "      <td>35617.000000</td>\n",
       "    </tr>\n",
       "    <tr>\n",
       "      <th>mean</th>\n",
       "      <td>44.877615</td>\n",
       "      <td>42.761968</td>\n",
       "      <td>14204.401168</td>\n",
       "    </tr>\n",
       "    <tr>\n",
       "      <th>std</th>\n",
       "      <td>17.329740</td>\n",
       "      <td>17.339529</td>\n",
       "      <td>6618.765386</td>\n",
       "    </tr>\n",
       "    <tr>\n",
       "      <th>min</th>\n",
       "      <td>18.000000</td>\n",
       "      <td>16.000000</td>\n",
       "      <td>2280.000000</td>\n",
       "    </tr>\n",
       "    <tr>\n",
       "      <th>25%</th>\n",
       "      <td>28.000000</td>\n",
       "      <td>27.000000</td>\n",
       "      <td>9240.000000</td>\n",
       "    </tr>\n",
       "    <tr>\n",
       "      <th>50%</th>\n",
       "      <td>44.000000</td>\n",
       "      <td>40.000000</td>\n",
       "      <td>13180.000000</td>\n",
       "    </tr>\n",
       "    <tr>\n",
       "      <th>75%</th>\n",
       "      <td>60.000000</td>\n",
       "      <td>57.000000</td>\n",
       "      <td>18150.000000</td>\n",
       "    </tr>\n",
       "    <tr>\n",
       "      <th>max</th>\n",
       "      <td>75.000000</td>\n",
       "      <td>75.000000</td>\n",
       "      <td>43046.400000</td>\n",
       "    </tr>\n",
       "  </tbody>\n",
       "</table>\n",
       "</div>"
      ],
      "text/plain": [
       "          upper_age     lower_age  reco_policy_premium\n",
       "count  35617.000000  35617.000000         35617.000000\n",
       "mean      44.877615     42.761968         14204.401168\n",
       "std       17.329740     17.339529          6618.765386\n",
       "min       18.000000     16.000000          2280.000000\n",
       "25%       28.000000     27.000000          9240.000000\n",
       "50%       44.000000     40.000000         13180.000000\n",
       "75%       60.000000     57.000000         18150.000000\n",
       "max       75.000000     75.000000         43046.400000"
      ]
     },
     "execution_count": 19,
     "metadata": {},
     "output_type": "execute_result"
    }
   ],
   "source": [
    "df_full_train[numerical_columns].describe()"
   ]
  },
  {
   "cell_type": "raw",
   "id": "a651e7ee-5b64-4a66-8bdc-663efa44b357",
   "metadata": {},
   "source": [
    "We observe that some features have higher value that should be an outliers, we will analyze them later."
   ]
  },
  {
   "cell_type": "code",
   "execution_count": 20,
   "id": "e090fe7c-daf5-442c-a54d-545fe7ab87f3",
   "metadata": {
    "tags": []
   },
   "outputs": [
    {
     "name": "stdout",
     "output_type": "stream",
     "text": [
      "upper_age\n"
     ]
    },
    {
     "data": {
      "image/png": "[encoded data removed]",
      "text/plain": [
       "<Figure size 640x480 with 1 Axes>"
      ]
     },
     "metadata": {},
     "output_type": "display_data"
    },
    {
     "name": "stdout",
     "output_type": "stream",
     "text": [
      "\n",
      "lower_age\n"
     ]
    },
    {
     "data": {
      "image/png": "[encoded data removed]",
      "text/plain": [
       "<Figure size 640x480 with 1 Axes>"
      ]
     },
     "metadata": {},
     "output_type": "display_data"
    },
    {
     "name": "stdout",
     "output_type": "stream",
     "text": [
      "\n",
      "reco_policy_premium\n"
     ]
    },
    {
     "data": {
      "image/png": "[encoded data removed]",
      "text/plain": [
       "<Figure size 640x480 with 1 Axes>"
      ]
     },
     "metadata": {},
     "output_type": "display_data"
    },
    {
     "name": "stdout",
     "output_type": "stream",
     "text": [
      "\n"
     ]
    }
   ],
   "source": [
    "for num in numerical_columns:\n",
    "    print(num)\n",
    "    plt.hist(df_full_train[num])\n",
    "    plt.show()\n",
    "    print()"
   ]
  },
  {
   "cell_type": "raw",
   "id": "8f711e57-2f93-471e-93c9-f9b7966ac06e",
   "metadata": {},
   "source": [
    "We use log transformation on 'reco_policy_premuim' to fix right skewed distribution."
   ]
  },
  {
   "cell_type": "code",
   "execution_count": 21,
   "id": "bfc051b9-3a2b-4700-ae91-48f77e2ac292",
   "metadata": {
    "tags": []
   },
   "outputs": [],
   "source": [
    "df_full_train['reco_policy_premium_log'] = np.log1p(df_full_train['reco_policy_premium'])\n",
    "df_full_train.drop(columns = ['reco_policy_premium'], inplace = True)"
   ]
  },
  {
   "cell_type": "code",
   "execution_count": 22,
   "id": "e81839fb-6996-41d0-8abd-cd4a681572e1",
   "metadata": {
    "tags": []
   },
   "outputs": [
    {
     "data": {
      "text/plain": [
       "(['upper_age', 'lower_age', 'reco_policy_premium_log'],\n",
       " ['city_code',\n",
       "  'region_code',\n",
       "  'accomodation_type',\n",
       "  'reco_insurance_type',\n",
       "  'is_spouse',\n",
       "  'health_indicator',\n",
       "  'reco_policy_cat'])"
      ]
     },
     "execution_count": 22,
     "metadata": {},
     "output_type": "execute_result"
    }
   ],
   "source": [
    "numerical_columns = df_full_train.select_dtypes(include = ['int', 'float']).columns\n",
    "numerical_columns = [item for item in numerical_columns if item != 'response']\n",
    "categorical_columns = df_full_train.select_dtypes(include = 'object').columns.tolist()\n",
    "numerical_columns, categorical_columns"
   ]
  },
  {
   "cell_type": "markdown",
   "id": "f24f951e-41ce-4fa7-8e15-c573e44bdb67",
   "metadata": {},
   "source": [
    "###### Bivariate analysis : numerical features vs target feature"
   ]
  },
  {
   "cell_type": "code",
   "execution_count": 23,
   "id": "63e1e730-9867-419c-8071-de34e6ac2084",
   "metadata": {
    "tags": []
   },
   "outputs": [
    {
     "data": {
      "text/plain": [
       "reco_policy_premium_log    0.006684\n",
       "lower_age                  0.002065\n",
       "upper_age                  0.000364\n",
       "dtype: float64"
      ]
     },
     "execution_count": 23,
     "metadata": {},
     "output_type": "execute_result"
    }
   ],
   "source": [
    "coeff_corr = df_full_train[numerical_columns].corrwith(df_full_train['response'])\n",
    "coeff_corr_abs = coeff_corr.abs()\n",
    "coeff_corr_abs.sort_values(ascending = False)"
   ]
  },
  {
   "cell_type": "raw",
   "id": "087fde2e-0966-4d4d-bfb0-72047dd6bfb9",
   "metadata": {},
   "source": [
    "We observe that there is very low correlation between 'Response' and 'reco_policy_premium', 'lower_age' and 'upper_age'."
   ]
  },
  {
   "cell_type": "code",
   "execution_count": 24,
   "id": "5d1a5c0a-5593-436d-bc58-746e1a8d9580",
   "metadata": {
    "tags": []
   },
   "outputs": [
    {
     "data": {
      "text/html": [
       "<div>\n",
       "<style scoped>\n",
       "    .dataframe tbody tr th:only-of-type {\n",
       "        vertical-align: middle;\n",
       "    }\n",
       "\n",
       "    .dataframe tbody tr th {\n",
       "        vertical-align: top;\n",
       "    }\n",
       "\n",
       "    .dataframe thead th {\n",
       "        text-align: right;\n",
       "    }\n",
       "</style>\n",
       "<table border=\"1\" class=\"dataframe\">\n",
       "  <thead>\n",
       "    <tr style=\"text-align: right;\">\n",
       "      <th></th>\n",
       "      <th>response</th>\n",
       "      <th>upper_age</th>\n",
       "      <th>lower_age</th>\n",
       "      <th>reco_policy_premium_log</th>\n",
       "    </tr>\n",
       "  </thead>\n",
       "  <tbody>\n",
       "    <tr>\n",
       "      <th>0</th>\n",
       "      <td>0</td>\n",
       "      <td>44.874083</td>\n",
       "      <td>42.782023</td>\n",
       "      <td>9.446705</td>\n",
       "    </tr>\n",
       "    <tr>\n",
       "      <th>1</th>\n",
       "      <td>1</td>\n",
       "      <td>44.888876</td>\n",
       "      <td>42.698024</td>\n",
       "      <td>9.454385</td>\n",
       "    </tr>\n",
       "  </tbody>\n",
       "</table>\n",
       "</div>"
      ],
      "text/plain": [
       "   response  upper_age  lower_age  reco_policy_premium_log\n",
       "0         0  44.874083  42.782023                 9.446705\n",
       "1         1  44.888876  42.698024                 9.454385"
      ]
     },
     "execution_count": 24,
     "metadata": {},
     "output_type": "execute_result"
    }
   ],
   "source": [
    "df_full_train.groupby(['response'], as_index = False).agg({'upper_age' : 'mean', 'lower_age': 'mean', 'reco_policy_premium_log': 'mean'})"
   ]
  },
  {
   "cell_type": "raw",
   "id": "97127fa6-d8e0-4881-ac71-5ba8d2bc5acf",
   "metadata": {},
   "source": [
    "We observe that for numerical features there is not a significant difference between group behaviour."
   ]
  },
  {
   "cell_type": "markdown",
   "id": "793e5477-1acd-44d2-8afc-5b90caa5e446",
   "metadata": {},
   "source": [
    "###### Multivariate analysis"
   ]
  },
  {
   "cell_type": "raw",
   "id": "8221f43f-9b3e-454c-bb9e-6a09348a2810",
   "metadata": {},
   "source": [
    "Let's check for mutlicolinearity within numerical features"
   ]
  },
  {
   "cell_type": "code",
   "execution_count": 25,
   "id": "683db812-697d-4815-a45a-37f3832366e5",
   "metadata": {
    "tags": []
   },
   "outputs": [
    {
     "data": {
      "text/html": [
       "<div>\n",
       "<style scoped>\n",
       "    .dataframe tbody tr th:only-of-type {\n",
       "        vertical-align: middle;\n",
       "    }\n",
       "\n",
       "    .dataframe tbody tr th {\n",
       "        vertical-align: top;\n",
       "    }\n",
       "\n",
       "    .dataframe thead th {\n",
       "        text-align: right;\n",
       "    }\n",
       "</style>\n",
       "<table border=\"1\" class=\"dataframe\">\n",
       "  <thead>\n",
       "    <tr style=\"text-align: right;\">\n",
       "      <th></th>\n",
       "      <th>upper_age</th>\n",
       "      <th>lower_age</th>\n",
       "      <th>reco_policy_premium_log</th>\n",
       "    </tr>\n",
       "  </thead>\n",
       "  <tbody>\n",
       "    <tr>\n",
       "      <th>upper_age</th>\n",
       "      <td>1.000000</td>\n",
       "      <td>0.921722</td>\n",
       "      <td>0.807175</td>\n",
       "    </tr>\n",
       "    <tr>\n",
       "      <th>lower_age</th>\n",
       "      <td>0.921722</td>\n",
       "      <td>1.000000</td>\n",
       "      <td>0.659715</td>\n",
       "    </tr>\n",
       "    <tr>\n",
       "      <th>reco_policy_premium_log</th>\n",
       "      <td>0.807175</td>\n",
       "      <td>0.659715</td>\n",
       "      <td>1.000000</td>\n",
       "    </tr>\n",
       "  </tbody>\n",
       "</table>\n",
       "</div>"
      ],
      "text/plain": [
       "                         upper_age  lower_age  reco_policy_premium_log\n",
       "upper_age                 1.000000   0.921722                 0.807175\n",
       "lower_age                 0.921722   1.000000                 0.659715\n",
       "reco_policy_premium_log   0.807175   0.659715                 1.000000"
      ]
     },
     "execution_count": 25,
     "metadata": {},
     "output_type": "execute_result"
    }
   ],
   "source": [
    "df_full_train[numerical_columns].corr()"
   ]
  },
  {
   "cell_type": "code",
   "execution_count": 26,
   "id": "25220099-2511-45c6-b1d7-ee4365fb68c4",
   "metadata": {
    "tags": []
   },
   "outputs": [
    {
     "name": "stderr",
     "output_type": "stream",
     "text": [
      "C:\\ProgramData\\anaconda3\\Lib\\site-packages\\seaborn\\axisgrid.py:118: UserWarning: The figure layout has changed to tight\n",
      "  self._figure.tight_layout(*args, **kwargs)\n"
     ]
    },
    {
     "data": {
      "text/plain": [
       "<seaborn.axisgrid.PairGrid at 0x12c13ffa850>"
      ]
     },
     "execution_count": 26,
     "metadata": {},
     "output_type": "execute_result"
    },
    {
     "data": {
      "image/png": "[encoded data removed]",
      "text/plain": [
       "<Figure size 600x600 with 12 Axes>"
      ]
     },
     "metadata": {},
     "output_type": "display_data"
    }
   ],
   "source": [
    "sns.pairplot(df_full_train[numerical_columns], height = 2)"
   ]
  },
  {
   "cell_type": "raw",
   "id": "d9dd8910-a82d-4219-9d37-ad26d8a13c6f",
   "metadata": {},
   "source": [
    "We observe important correlation between 'upper_age' and 'reco_policy_premium' and between 'lower_age' and 'reco_policy_premium_log'.\n",
    "Also correlation between 'upper_age' and 'reco_policy_premium' is slightly important than correlation between 'lower_age' and 'reco_policy_premium_log'.\n",
    "We can say that 'reco_policy_premium_log' becomes higher when lead have higher age."
   ]
  },
  {
   "cell_type": "raw",
   "id": "06c4777e-f23a-426f-96ff-ad8b67e82e1a",
   "metadata": {},
   "source": [
    "In the next section, we can keep only reco_policy_premium_log and upper_age in order to prevent multicolinearity."
   ]
  },
  {
   "cell_type": "markdown",
   "id": "3224d588-ca05-459c-a23c-2b891afccfdf",
   "metadata": {},
   "source": [
    "##### Categorical features"
   ]
  },
  {
   "cell_type": "code",
   "execution_count": 27,
   "id": "6df1b6d4-4f0e-40e8-b49b-4b38e057d315",
   "metadata": {
    "tags": []
   },
   "outputs": [
    {
     "name": "stdout",
     "output_type": "stream",
     "text": [
      "city_code\n",
      "C1     6376\n",
      "C2     5390\n",
      "C3     3400\n",
      "C4     2553\n",
      "C9     1527\n",
      "C6     1385\n",
      "C7     1335\n",
      "C8     1279\n",
      "C10    1129\n",
      "C5      977\n",
      "C17     823\n",
      "C15     806\n",
      "C11     801\n",
      "C16     792\n",
      "C13     686\n",
      "C20     638\n",
      "C19     633\n",
      "C12     612\n",
      "C18     570\n",
      "C14     518\n",
      "C21     474\n",
      "C23     424\n",
      "C24     382\n",
      "C22     371\n",
      "C26     339\n",
      "C29     279\n",
      "C25     250\n",
      "C27     203\n",
      "C28     199\n",
      "C33     178\n",
      "C32      96\n",
      "C34      84\n",
      "C30      41\n",
      "C35      34\n",
      "C36      22\n",
      "C31      11\n",
      "Name: count, dtype: int64\n",
      "\n",
      "region_code\n",
      "1       72\n",
      "6       56\n",
      "4       53\n",
      "2       53\n",
      "5       52\n",
      "        ..\n",
      "5900     1\n",
      "5292     1\n",
      "4456     1\n",
      "6102     1\n",
      "5150     1\n",
      "Name: count, Length: 5075, dtype: int64\n",
      "\n",
      "accomodation_type\n",
      "Owned     19515\n",
      "Rented    16102\n",
      "Name: count, dtype: int64\n",
      "\n",
      "reco_insurance_type\n",
      "Individual    28368\n",
      "Joint          7249\n",
      "Name: count, dtype: int64\n",
      "\n",
      "is_spouse\n",
      "No     29747\n",
      "Yes     5870\n",
      "Name: count, dtype: int64\n",
      "\n",
      "health_indicator\n",
      "X1    17299\n",
      "X2     7236\n",
      "X3     4770\n",
      "X4     3958\n",
      "X5     1215\n",
      "X6      897\n",
      "X7      141\n",
      "X8       55\n",
      "X9       46\n",
      "Name: count, dtype: int64\n",
      "\n",
      "reco_policy_cat\n",
      "22    4662\n",
      "18    3884\n",
      "21    3519\n",
      "16    2871\n",
      "19    2624\n",
      "17    2613\n",
      "20    2224\n",
      "12    1541\n",
      "1     1396\n",
      "2     1331\n",
      "14    1173\n",
      "13    1172\n",
      "15    1112\n",
      "5      720\n",
      "3      709\n",
      "4      680\n",
      "6      618\n",
      "7      597\n",
      "9      561\n",
      "11     551\n",
      "10     531\n",
      "8      528\n",
      "Name: count, dtype: int64\n",
      "\n"
     ]
    }
   ],
   "source": [
    "for cl in categorical_columns:\n",
    "    print(df_full_train[cl].value_counts())\n",
    "    print()"
   ]
  },
  {
   "cell_type": "raw",
   "id": "419d9ee9-0c0f-4725-aa97-080279efd399",
   "metadata": {},
   "source": [
    "We observe that features 'city_code' and 'region_code' have high cardinality, we will encode them later. "
   ]
  },
  {
   "cell_type": "code",
   "execution_count": 28,
   "id": "3e78bde9-876c-40a1-a844-90f98542193d",
   "metadata": {
    "tags": []
   },
   "outputs": [
    {
     "data": {
      "image/png": "[encoded data removed]",
      "text/plain": [
       "<Figure size 640x480 with 1 Axes>"
      ]
     },
     "metadata": {},
     "output_type": "display_data"
    },
    {
     "name": "stdout",
     "output_type": "stream",
     "text": [
      "\n"
     ]
    },
    {
     "data": {
      "image/png": "[encoded data removed]",
      "text/plain": [
       "<Figure size 640x480 with 1 Axes>"
      ]
     },
     "metadata": {},
     "output_type": "display_data"
    },
    {
     "name": "stdout",
     "output_type": "stream",
     "text": [
      "\n"
     ]
    },
    {
     "data": {
      "image/png": "[encoded data removed]",
      "text/plain": [
       "<Figure size 640x480 with 1 Axes>"
      ]
     },
     "metadata": {},
     "output_type": "display_data"
    },
    {
     "name": "stdout",
     "output_type": "stream",
     "text": [
      "\n"
     ]
    },
    {
     "data": {
      "image/png": "[encoded data removed]",
      "text/plain": [
       "<Figure size 640x480 with 1 Axes>"
      ]
     },
     "metadata": {},
     "output_type": "display_data"
    },
    {
     "name": "stdout",
     "output_type": "stream",
     "text": [
      "\n"
     ]
    },
    {
     "data": {
      "image/png": "[encoded data removed]",
      "text/plain": [
       "<Figure size 640x480 with 1 Axes>"
      ]
     },
     "metadata": {},
     "output_type": "display_data"
    },
    {
     "name": "stdout",
     "output_type": "stream",
     "text": [
      "\n"
     ]
    },
    {
     "data": {
      "image/png": "[encoded data removed]",
      "text/plain": [
       "<Figure size 640x480 with 1 Axes>"
      ]
     },
     "metadata": {},
     "output_type": "display_data"
    },
    {
     "name": "stdout",
     "output_type": "stream",
     "text": [
      "\n"
     ]
    }
   ],
   "source": [
    "for cl in [item for item in categorical_columns if item != \"region_code\"]:\n",
    "    plot = sns.countplot(x = cl, data = df_full_train, hue = 'response')\n",
    "    if (cl == \"city_code\") :\n",
    "        plt.setp(plot.get_xticklabels(), rotation=45)\n",
    "        plt.setp(plot.get_xticklabels(), fontsize=6)\n",
    "    plt.show()\n",
    "    print()\n"
   ]
  },
  {
   "cell_type": "raw",
   "id": "25b7eddd-a4fa-466e-8234-a0eec7e1f803",
   "metadata": {},
   "source": [
    "Based on these graphics, we observe some patterns that help us to understand lead response.\n",
    "For example, if lead has spouse it has high chance to take insurance compared to a single lead. Some city have a sligthly high lead conversion compared to another.\n",
    "Later, we will jump in details in features importance."
   ]
  },
  {
   "cell_type": "markdown",
   "id": "e0e2cce6-0dda-4101-bacb-d03cac227a5c",
   "metadata": {},
   "source": [
    "##### Outlier analysis"
   ]
  },
  {
   "cell_type": "code",
   "execution_count": 29,
   "id": "a1358a06-e247-4f52-b709-e0465041ff43",
   "metadata": {
    "tags": []
   },
   "outputs": [],
   "source": [
    "# loop for each numerical feature\n",
    "# get outlier iqr\n",
    "# remove row with outlier\n",
    "iqr_outliers_index = []\n",
    "q99_outliers_index = []\n",
    "for num in numerical_columns:\n",
    "    q99 = np.quantile(df_full_train[num], .99)\n",
    "    q99_outliers= df_full_train[df_full_train[num] > q99].index.tolist()\n",
    "    q99_outliers_index.extend(q99_outliers)\n",
    "\n",
    "    q1 = np.quantile(df_full_train[num], .25)\n",
    "    q3 = np.quantile(df_full_train[num], .25)\n",
    "    iqr = q3 - q1\n",
    "    iqr_lower_fence = q1 - 1.5*iqr\n",
    "    iqr_higher_fence = q3 + 1.5*iqr\n",
    "    iqr_outliers = df_full_train[(df_full_train[num] < iqr_lower_fence) & (df_full_train[num] > iqr_higher_fence)].index.tolist()\n",
    "    iqr_outliers_index.extend(iqr_outliers)\n",
    "\n",
    "iqr_outliers = list(set(iqr_outliers))\n",
    "q99_outliers_index = list(set(q99_outliers_index))"
   ]
  },
  {
   "cell_type": "code",
   "execution_count": 30,
   "id": "715b47da-8aa0-4d87-8237-baadcbb93f0d",
   "metadata": {
    "tags": []
   },
   "outputs": [
    {
     "data": {
      "text/html": [
       "<div>\n",
       "<style scoped>\n",
       "    .dataframe tbody tr th:only-of-type {\n",
       "        vertical-align: middle;\n",
       "    }\n",
       "\n",
       "    .dataframe tbody tr th {\n",
       "        vertical-align: top;\n",
       "    }\n",
       "\n",
       "    .dataframe thead th {\n",
       "        text-align: right;\n",
       "    }\n",
       "</style>\n",
       "<table border=\"1\" class=\"dataframe\">\n",
       "  <thead>\n",
       "    <tr style=\"text-align: right;\">\n",
       "      <th></th>\n",
       "      <th>feature</th>\n",
       "      <th>index</th>\n",
       "      <th>nb_outliers</th>\n",
       "    </tr>\n",
       "  </thead>\n",
       "  <tbody>\n",
       "    <tr>\n",
       "      <th>0</th>\n",
       "      <td>upper_age</td>\n",
       "      <td>[]</td>\n",
       "      <td>0</td>\n",
       "    </tr>\n",
       "    <tr>\n",
       "      <th>1</th>\n",
       "      <td>lower_age</td>\n",
       "      <td>[]</td>\n",
       "      <td>0</td>\n",
       "    </tr>\n",
       "    <tr>\n",
       "      <th>2</th>\n",
       "      <td>reco_policy_premium_log</td>\n",
       "      <td>[27, 104, 255, 281, 295, 341, 533, 1025, 1052,...</td>\n",
       "      <td>356</td>\n",
       "    </tr>\n",
       "  </tbody>\n",
       "</table>\n",
       "</div>"
      ],
      "text/plain": [
       "                   feature                                              index  \\\n",
       "0                upper_age                                                 []   \n",
       "1                lower_age                                                 []   \n",
       "2  reco_policy_premium_log  [27, 104, 255, 281, 295, 341, 533, 1025, 1052,...   \n",
       "\n",
       "   nb_outliers  \n",
       "0            0  \n",
       "1            0  \n",
       "2          356  "
      ]
     },
     "execution_count": 30,
     "metadata": {},
     "output_type": "execute_result"
    }
   ],
   "source": [
    "list_q99_outliers = []\n",
    "list_iqr_outliers = []\n",
    "for num in numerical_columns:\n",
    "    q99 = np.quantile(df_full_train[num], .99)\n",
    "    q99_outliers= df_full_train[df_full_train[num] > q99].index.tolist()\n",
    "    list_q99_outliers.append([num, q99_outliers, len(q99_outliers)])\n",
    "    \n",
    "    q1 = np.quantile(df_full_train[num], .25)\n",
    "    q3 = np.quantile(df_full_train[num], .25)\n",
    "    iqr = q3 - q1\n",
    "    iqr_lower_fence = q1 - 1.5*iqr\n",
    "    iqr_higher_fence = q3 + 1.5*iqr\n",
    "    iqr_outliers = df_full_train[(df_full_train[num] < iqr_lower_fence) & (df_full_train[num] > iqr_higher_fence)].index.tolist()\n",
    "    list_iqr_outliers.append([num, iqr_outliers, len(iqr_outliers)])\n",
    "\n",
    "df_iqr_outliers = pd.DataFrame(list_iqr_outliers, columns = ['feature', 'index', 'nb_outliers'])\n",
    "df_iqr_outliers.head()    \n",
    "df_outliers_q99 = pd.DataFrame(list_q99_outliers, columns = ['feature', 'index', 'nb_outliers'])\n",
    "df_outliers_q99.head()"
   ]
  },
  {
   "cell_type": "raw",
   "id": "a7ba7cf6-3e44-42c3-82d1-3ee2683b52a4",
   "metadata": {},
   "source": [
    "We observe that IQR method didnt' detect any outliers, however q99 method identified many outliers based on 'reco_policy_premium' features.\n",
    "For our case, we assume that there rows are outliers and should be remove, we don't want an higher \"Annual Premium (INR) for the recommended health insurance\" for lead."
   ]
  },
  {
   "cell_type": "code",
   "execution_count": 31,
   "id": "3a663495-f0b7-4128-a492-4ac87a9866fb",
   "metadata": {
    "tags": []
   },
   "outputs": [
    {
     "data": {
      "text/html": [
       "<div>\n",
       "<style scoped>\n",
       "    .dataframe tbody tr th:only-of-type {\n",
       "        vertical-align: middle;\n",
       "    }\n",
       "\n",
       "    .dataframe tbody tr th {\n",
       "        vertical-align: top;\n",
       "    }\n",
       "\n",
       "    .dataframe thead th {\n",
       "        text-align: right;\n",
       "    }\n",
       "</style>\n",
       "<table border=\"1\" class=\"dataframe\">\n",
       "  <thead>\n",
       "    <tr style=\"text-align: right;\">\n",
       "      <th></th>\n",
       "      <th>city_code</th>\n",
       "      <th>region_code</th>\n",
       "      <th>accomodation_type</th>\n",
       "      <th>reco_insurance_type</th>\n",
       "      <th>upper_age</th>\n",
       "      <th>lower_age</th>\n",
       "      <th>is_spouse</th>\n",
       "      <th>health_indicator</th>\n",
       "      <th>reco_policy_cat</th>\n",
       "      <th>response</th>\n",
       "      <th>reco_policy_premium_log</th>\n",
       "    </tr>\n",
       "  </thead>\n",
       "  <tbody>\n",
       "    <tr>\n",
       "      <th>22530</th>\n",
       "      <td>C17</td>\n",
       "      <td>328</td>\n",
       "      <td>Rented</td>\n",
       "      <td>Joint</td>\n",
       "      <td>75</td>\n",
       "      <td>47</td>\n",
       "      <td>No</td>\n",
       "      <td>X1</td>\n",
       "      <td>20</td>\n",
       "      <td>0</td>\n",
       "      <td>10.456712</td>\n",
       "    </tr>\n",
       "    <tr>\n",
       "      <th>4107</th>\n",
       "      <td>C2</td>\n",
       "      <td>1738</td>\n",
       "      <td>Owned</td>\n",
       "      <td>Joint</td>\n",
       "      <td>75</td>\n",
       "      <td>68</td>\n",
       "      <td>Yes</td>\n",
       "      <td>X4</td>\n",
       "      <td>18</td>\n",
       "      <td>0</td>\n",
       "      <td>10.524349</td>\n",
       "    </tr>\n",
       "    <tr>\n",
       "      <th>24587</th>\n",
       "      <td>C1</td>\n",
       "      <td>2599</td>\n",
       "      <td>Owned</td>\n",
       "      <td>Joint</td>\n",
       "      <td>69</td>\n",
       "      <td>68</td>\n",
       "      <td>Yes</td>\n",
       "      <td>X5</td>\n",
       "      <td>19</td>\n",
       "      <td>0</td>\n",
       "      <td>10.435744</td>\n",
       "    </tr>\n",
       "    <tr>\n",
       "      <th>8211</th>\n",
       "      <td>C1</td>\n",
       "      <td>3490</td>\n",
       "      <td>Owned</td>\n",
       "      <td>Joint</td>\n",
       "      <td>67</td>\n",
       "      <td>62</td>\n",
       "      <td>Yes</td>\n",
       "      <td>X3</td>\n",
       "      <td>18</td>\n",
       "      <td>1</td>\n",
       "      <td>10.496179</td>\n",
       "    </tr>\n",
       "    <tr>\n",
       "      <th>34835</th>\n",
       "      <td>C1</td>\n",
       "      <td>69</td>\n",
       "      <td>Owned</td>\n",
       "      <td>Joint</td>\n",
       "      <td>73</td>\n",
       "      <td>72</td>\n",
       "      <td>Yes</td>\n",
       "      <td>X1</td>\n",
       "      <td>17</td>\n",
       "      <td>0</td>\n",
       "      <td>10.435744</td>\n",
       "    </tr>\n",
       "  </tbody>\n",
       "</table>\n",
       "</div>"
      ],
      "text/plain": [
       "      city_code region_code accomodation_type reco_insurance_type  upper_age  \\\n",
       "22530       C17         328            Rented               Joint         75   \n",
       "4107         C2        1738             Owned               Joint         75   \n",
       "24587        C1        2599             Owned               Joint         69   \n",
       "8211         C1        3490             Owned               Joint         67   \n",
       "34835        C1          69             Owned               Joint         73   \n",
       "\n",
       "       lower_age is_spouse health_indicator reco_policy_cat  response  \\\n",
       "22530         47        No               X1              20         0   \n",
       "4107          68       Yes               X4              18         0   \n",
       "24587         68       Yes               X5              19         0   \n",
       "8211          62       Yes               X3              18         1   \n",
       "34835         72       Yes               X1              17         0   \n",
       "\n",
       "       reco_policy_premium_log  \n",
       "22530                10.456712  \n",
       "4107                 10.524349  \n",
       "24587                10.435744  \n",
       "8211                 10.496179  \n",
       "34835                10.435744  "
      ]
     },
     "execution_count": 31,
     "metadata": {},
     "output_type": "execute_result"
    }
   ],
   "source": [
    "df_full_train.iloc[q99_outliers_index, :].head()"
   ]
  },
  {
   "cell_type": "code",
   "execution_count": 32,
   "id": "80ce5b49-1d58-4edd-a867-17ed6d672e26",
   "metadata": {
    "tags": []
   },
   "outputs": [],
   "source": [
    "df_full_train_cleaned = df_full_train.drop(index=df_outliers_q99.query('feature == \"reco_policy_premium_log\"').iloc[:,1].tolist()[0])"
   ]
  },
  {
   "cell_type": "code",
   "execution_count": 33,
   "id": "0cdf6637-fd59-45b1-ae5b-b2cf0f5b5ac2",
   "metadata": {
    "tags": []
   },
   "outputs": [
    {
     "data": {
      "text/plain": [
       "((35261, 11), (35617, 11))"
      ]
     },
     "execution_count": 33,
     "metadata": {},
     "output_type": "execute_result"
    }
   ],
   "source": [
    "df_full_train_cleaned.shape, df_full_train.shape"
   ]
  },
  {
   "cell_type": "markdown",
   "id": "4f704339-3122-48b9-9f20-710576e7cece",
   "metadata": {},
   "source": [
    "##### Target feature analysis"
   ]
  },
  {
   "cell_type": "code",
   "execution_count": 34,
   "id": "7400b64e-cfe9-4d02-8237-9debab393c37",
   "metadata": {
    "tags": []
   },
   "outputs": [
    {
     "data": {
      "text/plain": [
       "response\n",
       "0    0.761096\n",
       "1    0.238904\n",
       "Name: proportion, dtype: float64"
      ]
     },
     "execution_count": 34,
     "metadata": {},
     "output_type": "execute_result"
    }
   ],
   "source": [
    "df_full_train_cleaned['response'].value_counts(normalize = True)"
   ]
  },
  {
   "cell_type": "raw",
   "id": "5ec1eb0e-0c43-420e-bdd2-49ddf4afc610",
   "metadata": {},
   "source": [
    "We observe that our target is not very inbalanced. For model evaluation, we will use AUC_ROV as our metric."
   ]
  },
  {
   "cell_type": "markdown",
   "id": "1aa2af59-1bd5-4121-904c-943074c5a0b3",
   "metadata": {
    "tags": []
   },
   "source": [
    "#### Features importance"
   ]
  },
  {
   "cell_type": "markdown",
   "id": "d8a1c503-b1f7-4b6d-afed-4296c4004dc8",
   "metadata": {},
   "source": [
    "##### Data preparation (scalling and encoding features)"
   ]
  },
  {
   "cell_type": "raw",
   "id": "1651e8e3-0e77-4941-af90-9fb240a28493",
   "metadata": {
    "tags": []
   },
   "source": [
    "Build pipeline for preprocessing and model building."
   ]
  },
  {
   "cell_type": "code",
   "execution_count": 35,
   "id": "6b95a298-7da0-4e5d-87a0-3c081ed24bb8",
   "metadata": {
    "tags": []
   },
   "outputs": [],
   "source": [
    "X_full_train = df_full_train_cleaned.drop(columns = ['response'])\n",
    "y_full_train = df_full_train_cleaned['response']"
   ]
  },
  {
   "cell_type": "code",
   "execution_count": 36,
   "id": "f404ff6d-1b1d-4a4d-be02-82fed8fb7e05",
   "metadata": {
    "tags": []
   },
   "outputs": [
    {
     "data": {
      "text/plain": [
       "(['upper_age', 'lower_age', 'reco_policy_premium_log'],\n",
       " ['city_code',\n",
       "  'accomodation_type',\n",
       "  'reco_insurance_type',\n",
       "  'is_spouse',\n",
       "  'health_indicator',\n",
       "  'reco_policy_cat'])"
      ]
     },
     "execution_count": 36,
     "metadata": {},
     "output_type": "execute_result"
    }
   ],
   "source": [
    "numerical_features = df_full_train_cleaned.select_dtypes(include = ['integer', 'float']).columns.tolist()\n",
    "categorical_features = df_full_train_cleaned.select_dtypes(include = ['object']).columns.tolist()\n",
    "numerical_features = [item for item in numerical_features if item != 'response']\n",
    "categorical_features = [item for item in categorical_features if item != 'region_code']\n",
    "numerical_features, categorical_features"
   ]
  },
  {
   "cell_type": "code",
   "execution_count": 37,
   "id": "3fd3902a-27d8-413c-b4f4-0f4e667eabad",
   "metadata": {
    "tags": []
   },
   "outputs": [],
   "source": [
    "# Preprocessing for numerical data\n",
    "numerical_transformer = Pipeline(steps=[\n",
    "    ('scaler', StandardScaler())\n",
    "])\n",
    "\n",
    "# Preprocessing for categorical data\n",
    "categorical_transformer = Pipeline(steps=[\n",
    "    ('onehot', OneHotEncoder(drop = 'first', handle_unknown='ignore', sparse_output = False))\n",
    "])\n",
    "\n",
    "# Combine preprocessors in a ColumnTransformer\n",
    "preprocessor = ColumnTransformer(\n",
    "    transformers=[\n",
    "        ('num', numerical_transformer, numerical_features),\n",
    "        ('cat', categorical_transformer, categorical_features)\n",
    "    ])"
   ]
  },
  {
   "cell_type": "markdown",
   "id": "63d3ae1d-580f-4456-ae09-9691f9003232",
   "metadata": {},
   "source": [
    "##### Feature importance based on mutual information"
   ]
  },
  {
   "cell_type": "raw",
   "id": "2d0f5804-ee09-4694-9d60-b73250f9dd43",
   "metadata": {},
   "source": [
    "Mutual Information measures the dependency between a feature and the target variable, \n",
    "quantifying how much knowing the feature reduces uncertainty about the target."
   ]
  },
  {
   "cell_type": "code",
   "execution_count": 38,
   "id": "636afbed-4ada-44a2-ae1e-05637b9c342c",
   "metadata": {
    "tags": []
   },
   "outputs": [
    {
     "data": {
      "text/html": [
       "<style>#sk-container-id-1 {color: black;}#sk-container-id-1 pre{padding: 0;}#sk-container-id-1 div.sk-toggleable {background-color: white;}#sk-container-id-1 label.sk-toggleable__label {cursor: pointer;display: block;width: 100%;margin-bottom: 0;padding: 0.3em;box-sizing: border-box;text-align: center;}#sk-container-id-1 label.sk-toggleable__label-arrow:before {content: \"▸\";float: left;margin-right: 0.25em;color: #696969;}#sk-container-id-1 label.sk-toggleable__label-arrow:hover:before {color: black;}#sk-container-id-1 div.sk-estimator:hover label.sk-toggleable__label-arrow:before {color: black;}#sk-container-id-1 div.sk-toggleable__content {max-height: 0;max-width: 0;overflow: hidden;text-align: left;background-color: #f0f8ff;}#sk-container-id-1 div.sk-toggleable__content pre {margin: 0.2em;color: black;border-radius: 0.25em;background-color: #f0f8ff;}#sk-container-id-1 input.sk-toggleable__control:checked~div.sk-toggleable__content {max-height: 200px;max-width: 100%;overflow: auto;}#sk-container-id-1 input.sk-toggleable__control:checked~label.sk-toggleable__label-arrow:before {content: \"▾\";}#sk-container-id-1 div.sk-estimator input.sk-toggleable__control:checked~label.sk-toggleable__label {background-color: #d4ebff;}#sk-container-id-1 div.sk-label input.sk-toggleable__control:checked~label.sk-toggleable__label {background-color: #d4ebff;}#sk-container-id-1 input.sk-hidden--visually {border: 0;clip: rect(1px 1px 1px 1px);clip: rect(1px, 1px, 1px, 1px);height: 1px;margin: -1px;overflow: hidden;padding: 0;position: absolute;width: 1px;}#sk-container-id-1 div.sk-estimator {font-family: monospace;background-color: #f0f8ff;border: 1px dotted black;border-radius: 0.25em;box-sizing: border-box;margin-bottom: 0.5em;}#sk-container-id-1 div.sk-estimator:hover {background-color: #d4ebff;}#sk-container-id-1 div.sk-parallel-item::after {content: \"\";width: 100%;border-bottom: 1px solid gray;flex-grow: 1;}#sk-container-id-1 div.sk-label:hover label.sk-toggleable__label {background-color: #d4ebff;}#sk-container-id-1 div.sk-serial::before {content: \"\";position: absolute;border-left: 1px solid gray;box-sizing: border-box;top: 0;bottom: 0;left: 50%;z-index: 0;}#sk-container-id-1 div.sk-serial {display: flex;flex-direction: column;align-items: center;background-color: white;padding-right: 0.2em;padding-left: 0.2em;position: relative;}#sk-container-id-1 div.sk-item {position: relative;z-index: 1;}#sk-container-id-1 div.sk-parallel {display: flex;align-items: stretch;justify-content: center;background-color: white;position: relative;}#sk-container-id-1 div.sk-item::before, #sk-container-id-1 div.sk-parallel-item::before {content: \"\";position: absolute;border-left: 1px solid gray;box-sizing: border-box;top: 0;bottom: 0;left: 50%;z-index: -1;}#sk-container-id-1 div.sk-parallel-item {display: flex;flex-direction: column;z-index: 1;position: relative;background-color: white;}#sk-container-id-1 div.sk-parallel-item:first-child::after {align-self: flex-end;width: 50%;}#sk-container-id-1 div.sk-parallel-item:last-child::after {align-self: flex-start;width: 50%;}#sk-container-id-1 div.sk-parallel-item:only-child::after {width: 0;}#sk-container-id-1 div.sk-dashed-wrapped {border: 1px dashed gray;margin: 0 0.4em 0.5em 0.4em;box-sizing: border-box;padding-bottom: 0.4em;background-color: white;}#sk-container-id-1 div.sk-label label {font-family: monospace;font-weight: bold;display: inline-block;line-height: 1.2em;}#sk-container-id-1 div.sk-label-container {text-align: center;}#sk-container-id-1 div.sk-container {/* jupyter's `normalize.less` sets `[hidden] { display: none; }` but bootstrap.min.css set `[hidden] { display: none !important; }` so we also need the `!important` here to be able to override the default hidden behavior on the sphinx rendered scikit-learn.org. See: https://github.com/scikit-learn/scikit-learn/issues/21755 */display: inline-block !important;position: relative;}#sk-container-id-1 div.sk-text-repr-fallback {display: none;}</style><div id=\"sk-container-id-1\" class=\"sk-top-container\"><div class=\"sk-text-repr-fallback\"><pre>Pipeline(steps=[(&#x27;preprocessor&#x27;,\n",
       "                 ColumnTransformer(transformers=[(&#x27;num&#x27;,\n",
       "                                                  Pipeline(steps=[(&#x27;scaler&#x27;,\n",
       "                                                                   StandardScaler())]),\n",
       "                                                  [&#x27;upper_age&#x27;, &#x27;lower_age&#x27;,\n",
       "                                                   &#x27;reco_policy_premium_log&#x27;]),\n",
       "                                                 (&#x27;cat&#x27;,\n",
       "                                                  Pipeline(steps=[(&#x27;onehot&#x27;,\n",
       "                                                                   OneHotEncoder(drop=&#x27;first&#x27;,\n",
       "                                                                                 handle_unknown=&#x27;ignore&#x27;,\n",
       "                                                                                 sparse_output=False))]),\n",
       "                                                  [&#x27;city_code&#x27;,\n",
       "                                                   &#x27;accomodation_type&#x27;,\n",
       "                                                   &#x27;reco_insurance_type&#x27;,\n",
       "                                                   &#x27;is_spouse&#x27;,\n",
       "                                                   &#x27;health_indicator&#x27;,\n",
       "                                                   &#x27;reco_policy_cat&#x27;])])),\n",
       "                (&#x27;classifier&#x27;, RandomForestClassifier(random_state=42))])</pre><b>In a Jupyter environment, please rerun this cell to show the HTML representation or trust the notebook. <br />On GitHub, the HTML representation is unable to render, please try loading this page with nbviewer.org.</b></div><div class=\"sk-container\" hidden><div class=\"sk-item sk-dashed-wrapped\"><div class=\"sk-label-container\"><div class=\"sk-label sk-toggleable\"><input class=\"sk-toggleable__control sk-hidden--visually\" id=\"sk-estimator-id-1\" type=\"checkbox\" ><label for=\"sk-estimator-id-1\" class=\"sk-toggleable__label sk-toggleable__label-arrow\">Pipeline</label><div class=\"sk-toggleable__content\"><pre>Pipeline(steps=[(&#x27;preprocessor&#x27;,\n",
       "                 ColumnTransformer(transformers=[(&#x27;num&#x27;,\n",
       "                                                  Pipeline(steps=[(&#x27;scaler&#x27;,\n",
       "                                                                   StandardScaler())]),\n",
       "                                                  [&#x27;upper_age&#x27;, &#x27;lower_age&#x27;,\n",
       "                                                   &#x27;reco_policy_premium_log&#x27;]),\n",
       "                                                 (&#x27;cat&#x27;,\n",
       "                                                  Pipeline(steps=[(&#x27;onehot&#x27;,\n",
       "                                                                   OneHotEncoder(drop=&#x27;first&#x27;,\n",
       "                                                                                 handle_unknown=&#x27;ignore&#x27;,\n",
       "                                                                                 sparse_output=False))]),\n",
       "                                                  [&#x27;city_code&#x27;,\n",
       "                                                   &#x27;accomodation_type&#x27;,\n",
       "                                                   &#x27;reco_insurance_type&#x27;,\n",
       "                                                   &#x27;is_spouse&#x27;,\n",
       "                                                   &#x27;health_indicator&#x27;,\n",
       "                                                   &#x27;reco_policy_cat&#x27;])])),\n",
       "                (&#x27;classifier&#x27;, RandomForestClassifier(random_state=42))])</pre></div></div></div><div class=\"sk-serial\"><div class=\"sk-item sk-dashed-wrapped\"><div class=\"sk-label-container\"><div class=\"sk-label sk-toggleable\"><input class=\"sk-toggleable__control sk-hidden--visually\" id=\"sk-estimator-id-2\" type=\"checkbox\" ><label for=\"sk-estimator-id-2\" class=\"sk-toggleable__label sk-toggleable__label-arrow\">preprocessor: ColumnTransformer</label><div class=\"sk-toggleable__content\"><pre>ColumnTransformer(transformers=[(&#x27;num&#x27;,\n",
       "                                 Pipeline(steps=[(&#x27;scaler&#x27;, StandardScaler())]),\n",
       "                                 [&#x27;upper_age&#x27;, &#x27;lower_age&#x27;,\n",
       "                                  &#x27;reco_policy_premium_log&#x27;]),\n",
       "                                (&#x27;cat&#x27;,\n",
       "                                 Pipeline(steps=[(&#x27;onehot&#x27;,\n",
       "                                                  OneHotEncoder(drop=&#x27;first&#x27;,\n",
       "                                                                handle_unknown=&#x27;ignore&#x27;,\n",
       "                                                                sparse_output=False))]),\n",
       "                                 [&#x27;city_code&#x27;, &#x27;accomodation_type&#x27;,\n",
       "                                  &#x27;reco_insurance_type&#x27;, &#x27;is_spouse&#x27;,\n",
       "                                  &#x27;health_indicator&#x27;, &#x27;reco_policy_cat&#x27;])])</pre></div></div></div><div class=\"sk-parallel\"><div class=\"sk-parallel-item\"><div class=\"sk-item\"><div class=\"sk-label-container\"><div class=\"sk-label sk-toggleable\"><input class=\"sk-toggleable__control sk-hidden--visually\" id=\"sk-estimator-id-3\" type=\"checkbox\" ><label for=\"sk-estimator-id-3\" class=\"sk-toggleable__label sk-toggleable__label-arrow\">num</label><div class=\"sk-toggleable__content\"><pre>[&#x27;upper_age&#x27;, &#x27;lower_age&#x27;, &#x27;reco_policy_premium_log&#x27;]</pre></div></div></div><div class=\"sk-serial\"><div class=\"sk-item\"><div class=\"sk-serial\"><div class=\"sk-item\"><div class=\"sk-estimator sk-toggleable\"><input class=\"sk-toggleable__control sk-hidden--visually\" id=\"sk-estimator-id-4\" type=\"checkbox\" ><label for=\"sk-estimator-id-4\" class=\"sk-toggleable__label sk-toggleable__label-arrow\">StandardScaler</label><div class=\"sk-toggleable__content\"><pre>StandardScaler()</pre></div></div></div></div></div></div></div></div><div class=\"sk-parallel-item\"><div class=\"sk-item\"><div class=\"sk-label-container\"><div class=\"sk-label sk-toggleable\"><input class=\"sk-toggleable__control sk-hidden--visually\" id=\"sk-estimator-id-5\" type=\"checkbox\" ><label for=\"sk-estimator-id-5\" class=\"sk-toggleable__label sk-toggleable__label-arrow\">cat</label><div class=\"sk-toggleable__content\"><pre>[&#x27;city_code&#x27;, &#x27;accomodation_type&#x27;, &#x27;reco_insurance_type&#x27;, &#x27;is_spouse&#x27;, &#x27;health_indicator&#x27;, &#x27;reco_policy_cat&#x27;]</pre></div></div></div><div class=\"sk-serial\"><div class=\"sk-item\"><div class=\"sk-serial\"><div class=\"sk-item\"><div class=\"sk-estimator sk-toggleable\"><input class=\"sk-toggleable__control sk-hidden--visually\" id=\"sk-estimator-id-6\" type=\"checkbox\" ><label for=\"sk-estimator-id-6\" class=\"sk-toggleable__label sk-toggleable__label-arrow\">OneHotEncoder</label><div class=\"sk-toggleable__content\"><pre>OneHotEncoder(drop=&#x27;first&#x27;, handle_unknown=&#x27;ignore&#x27;, sparse_output=False)</pre></div></div></div></div></div></div></div></div></div></div><div class=\"sk-item\"><div class=\"sk-estimator sk-toggleable\"><input class=\"sk-toggleable__control sk-hidden--visually\" id=\"sk-estimator-id-7\" type=\"checkbox\" ><label for=\"sk-estimator-id-7\" class=\"sk-toggleable__label sk-toggleable__label-arrow\">RandomForestClassifier</label><div class=\"sk-toggleable__content\"><pre>RandomForestClassifier(random_state=42)</pre></div></div></div></div></div></div></div>"
      ],
      "text/plain": [
       "Pipeline(steps=[('preprocessor',\n",
       "                 ColumnTransformer(transformers=[('num',\n",
       "                                                  Pipeline(steps=[('scaler',\n",
       "                                                                   StandardScaler())]),\n",
       "                                                  ['upper_age', 'lower_age',\n",
       "                                                   'reco_policy_premium_log']),\n",
       "                                                 ('cat',\n",
       "                                                  Pipeline(steps=[('onehot',\n",
       "                                                                   OneHotEncoder(drop='first',\n",
       "                                                                                 handle_unknown='ignore',\n",
       "                                                                                 sparse_output=False))]),\n",
       "                                                  ['city_code',\n",
       "                                                   'accomodation_type',\n",
       "                                                   'reco_insurance_type',\n",
       "                                                   'is_spouse',\n",
       "                                                   'health_indicator',\n",
       "                                                   'reco_policy_cat'])])),\n",
       "                ('classifier', RandomForestClassifier(random_state=42))])"
      ]
     },
     "execution_count": 38,
     "metadata": {},
     "output_type": "execute_result"
    }
   ],
   "source": [
    "# Define the full pipeline\n",
    "base_pipeline = Pipeline(steps=[\n",
    "    ('preprocessor', preprocessor),\n",
    "    ('classifier', RandomForestClassifier(random_state = RANDOM_STATE)) # use ramdom forest as template\n",
    "])\n",
    "\n",
    "base_pipeline.fit(X_full_train, y_full_train)"
   ]
  },
  {
   "cell_type": "code",
   "execution_count": 39,
   "id": "f7c86ef0-f2e2-4ae3-b1b2-61f93a894ebd",
   "metadata": {
    "tags": []
   },
   "outputs": [],
   "source": [
    "\n",
    "X_full_train_transformed = base_pipeline.named_steps['preprocessor'].transform(X_full_train)\n",
    "numerical_transformed_columns = base_pipeline.named_steps['preprocessor'].transformers_[0][2]\n",
    "categorical_transformed_columns = base_pipeline.named_steps['preprocessor'].transformers_[1][1].get_feature_names_out().tolist()\n",
    "all_columns = [numerical_transformed_columns + categorical_transformed_columns]\n",
    "all_columns = all_columns[0]\n",
    "\n",
    "df_X_full_train_transformed = pd.DataFrame(\n",
    "    X_full_train_transformed,\n",
    "    columns = all_columns\n",
    ")\n",
    "\n",
    "df_X_full_train_transformed.head()\n",
    "importances = mutual_info_classif(X_full_train_transformed, y_full_train, random_state = RANDOM_STATE)\n",
    "feat_importances = pd.Series(importances, all_columns).sort_values(ascending=True)"
   ]
  },
  {
   "cell_type": "code",
   "execution_count": 40,
   "id": "947df610-9bd0-4dd5-870e-88e16626eb7b",
   "metadata": {
    "tags": []
   },
   "outputs": [
    {
     "data": {
      "text/html": [
       "<div>\n",
       "<style scoped>\n",
       "    .dataframe tbody tr th:only-of-type {\n",
       "        vertical-align: middle;\n",
       "    }\n",
       "\n",
       "    .dataframe tbody tr th {\n",
       "        vertical-align: top;\n",
       "    }\n",
       "\n",
       "    .dataframe thead th {\n",
       "        text-align: right;\n",
       "    }\n",
       "</style>\n",
       "<table border=\"1\" class=\"dataframe\">\n",
       "  <thead>\n",
       "    <tr style=\"text-align: right;\">\n",
       "      <th></th>\n",
       "      <th>columns</th>\n",
       "      <th>importance</th>\n",
       "    </tr>\n",
       "  </thead>\n",
       "  <tbody>\n",
       "    <tr>\n",
       "      <th>69</th>\n",
       "      <td>reco_policy_premium_log</td>\n",
       "      <td>0.007167</td>\n",
       "    </tr>\n",
       "    <tr>\n",
       "      <th>68</th>\n",
       "      <td>accomodation_type_Rented</td>\n",
       "      <td>0.005169</td>\n",
       "    </tr>\n",
       "    <tr>\n",
       "      <th>67</th>\n",
       "      <td>upper_age</td>\n",
       "      <td>0.003827</td>\n",
       "    </tr>\n",
       "    <tr>\n",
       "      <th>66</th>\n",
       "      <td>reco_policy_cat_9</td>\n",
       "      <td>0.003621</td>\n",
       "    </tr>\n",
       "    <tr>\n",
       "      <th>65</th>\n",
       "      <td>health_indicator_X2</td>\n",
       "      <td>0.003605</td>\n",
       "    </tr>\n",
       "  </tbody>\n",
       "</table>\n",
       "</div>"
      ],
      "text/plain": [
       "                     columns importance\n",
       "69   reco_policy_premium_log   0.007167\n",
       "68  accomodation_type_Rented   0.005169\n",
       "67                 upper_age   0.003827\n",
       "66         reco_policy_cat_9   0.003621\n",
       "65       health_indicator_X2   0.003605"
      ]
     },
     "execution_count": 40,
     "metadata": {},
     "output_type": "execute_result"
    }
   ],
   "source": [
    "list_of_series = [feat_importances.index.tolist(), feat_importances.values.tolist(), ]\n",
    "pd_importance = pd.DataFrame(list_of_series, ).T\n",
    "pd_importance.columns = ['columns', 'importance', ]\n",
    "pd_importance.query('importance > 0').sort_values(by = ['importance'], ascending = False).head()"
   ]
  },
  {
   "cell_type": "code",
   "execution_count": 41,
   "id": "949cfa84-d95e-4a49-abee-cd6fc148b753",
   "metadata": {
    "tags": []
   },
   "outputs": [],
   "source": [
    "# get base columns \n",
    "def get_initial_columns(x):\n",
    "    return x.replace('_' + x.split('_')[len(x.split('_'))-1], '')"
   ]
  },
  {
   "cell_type": "code",
   "execution_count": 42,
   "id": "0a5def92-e9f9-43af-a362-73cf3059e8a5",
   "metadata": {
    "tags": []
   },
   "outputs": [],
   "source": [
    "pd_importance['base_columns'] = pd_importance['columns'].apply(lambda row: get_initial_columns(row))"
   ]
  },
  {
   "cell_type": "code",
   "execution_count": 43,
   "id": "815508fc-631b-427e-97b7-00e985ad6cdf",
   "metadata": {},
   "outputs": [],
   "source": [
    "pd_importance['base_columns'] = np.where(pd_importance['columns'].isin(numerical_transformed_columns), pd_importance['columns'], pd_importance['base_columns'])"
   ]
  },
  {
   "cell_type": "code",
   "execution_count": 44,
   "id": "02ed936a-2e78-41f8-ae96-d36e7809129d",
   "metadata": {
    "tags": []
   },
   "outputs": [
    {
     "data": {
      "text/html": [
       "<div>\n",
       "<style scoped>\n",
       "    .dataframe tbody tr th:only-of-type {\n",
       "        vertical-align: middle;\n",
       "    }\n",
       "\n",
       "    .dataframe tbody tr th {\n",
       "        vertical-align: top;\n",
       "    }\n",
       "\n",
       "    .dataframe thead th {\n",
       "        text-align: right;\n",
       "    }\n",
       "</style>\n",
       "<table border=\"1\" class=\"dataframe\">\n",
       "  <thead>\n",
       "    <tr style=\"text-align: right;\">\n",
       "      <th></th>\n",
       "      <th>columns</th>\n",
       "      <th>importance</th>\n",
       "      <th>base_columns</th>\n",
       "    </tr>\n",
       "  </thead>\n",
       "  <tbody>\n",
       "    <tr>\n",
       "      <th>69</th>\n",
       "      <td>reco_policy_premium_log</td>\n",
       "      <td>0.007167</td>\n",
       "      <td>reco_policy_premium_log</td>\n",
       "    </tr>\n",
       "    <tr>\n",
       "      <th>68</th>\n",
       "      <td>accomodation_type_Rented</td>\n",
       "      <td>0.005169</td>\n",
       "      <td>accomodation_type</td>\n",
       "    </tr>\n",
       "    <tr>\n",
       "      <th>67</th>\n",
       "      <td>upper_age</td>\n",
       "      <td>0.003827</td>\n",
       "      <td>upper_age</td>\n",
       "    </tr>\n",
       "    <tr>\n",
       "      <th>66</th>\n",
       "      <td>reco_policy_cat_9</td>\n",
       "      <td>0.003621</td>\n",
       "      <td>reco_policy_cat</td>\n",
       "    </tr>\n",
       "    <tr>\n",
       "      <th>65</th>\n",
       "      <td>health_indicator_X2</td>\n",
       "      <td>0.003605</td>\n",
       "      <td>health_indicator</td>\n",
       "    </tr>\n",
       "    <tr>\n",
       "      <th>64</th>\n",
       "      <td>city_code_C36</td>\n",
       "      <td>0.003328</td>\n",
       "      <td>city_code</td>\n",
       "    </tr>\n",
       "    <tr>\n",
       "      <th>63</th>\n",
       "      <td>reco_policy_cat_15</td>\n",
       "      <td>0.003038</td>\n",
       "      <td>reco_policy_cat</td>\n",
       "    </tr>\n",
       "    <tr>\n",
       "      <th>62</th>\n",
       "      <td>reco_policy_cat_3</td>\n",
       "      <td>0.002952</td>\n",
       "      <td>reco_policy_cat</td>\n",
       "    </tr>\n",
       "    <tr>\n",
       "      <th>61</th>\n",
       "      <td>city_code_C13</td>\n",
       "      <td>0.002644</td>\n",
       "      <td>city_code</td>\n",
       "    </tr>\n",
       "    <tr>\n",
       "      <th>60</th>\n",
       "      <td>reco_policy_cat_11</td>\n",
       "      <td>0.002434</td>\n",
       "      <td>reco_policy_cat</td>\n",
       "    </tr>\n",
       "  </tbody>\n",
       "</table>\n",
       "</div>"
      ],
      "text/plain": [
       "                     columns importance             base_columns\n",
       "69   reco_policy_premium_log   0.007167  reco_policy_premium_log\n",
       "68  accomodation_type_Rented   0.005169        accomodation_type\n",
       "67                 upper_age   0.003827                upper_age\n",
       "66         reco_policy_cat_9   0.003621          reco_policy_cat\n",
       "65       health_indicator_X2   0.003605         health_indicator\n",
       "64             city_code_C36   0.003328                city_code\n",
       "63        reco_policy_cat_15   0.003038          reco_policy_cat\n",
       "62         reco_policy_cat_3   0.002952          reco_policy_cat\n",
       "61             city_code_C13   0.002644                city_code\n",
       "60        reco_policy_cat_11   0.002434          reco_policy_cat"
      ]
     },
     "execution_count": 44,
     "metadata": {},
     "output_type": "execute_result"
    }
   ],
   "source": [
    "pd_importance.sort_values(by = ['importance'], ascending = False).head(10)"
   ]
  },
  {
   "cell_type": "code",
   "execution_count": 45,
   "id": "d53fd1e4-2fe0-4286-873b-382cd32010f2",
   "metadata": {
    "tags": []
   },
   "outputs": [
    {
     "data": {
      "text/plain": [
       "['reco_policy_cat',\n",
       " 'city_code',\n",
       " 'health_indicator',\n",
       " 'upper_age',\n",
       " 'accomodation_type',\n",
       " 'reco_policy_premium_log']"
      ]
     },
     "execution_count": 45,
     "metadata": {},
     "output_type": "execute_result"
    }
   ],
   "source": [
    "top_important_columns_by_MI = pd_importance.query('importance > 0.003')['base_columns'].unique().tolist()\n",
    "top_important_columns_by_MI"
   ]
  },
  {
   "cell_type": "raw",
   "id": "8277b64e-3455-4f8b-afd9-867fb8e79c87",
   "metadata": {},
   "source": [
    "For encoded features, we observe that ['reco_policy_cat',\n",
    " 'city_code',\n",
    " 'health_indicator',\n",
    " 'upper_age',\n",
    " 'accomodation_type',\n",
    " 'reco_policy_premium_log'] figure as important features according to mutual info score at a threshold of 0.003."
   ]
  },
  {
   "cell_type": "markdown",
   "id": "832d7a33-a6a0-4742-ad9c-e56e714a35fb",
   "metadata": {
    "tags": []
   },
   "source": [
    "#### Model building - Build baseline model "
   ]
  },
  {
   "cell_type": "raw",
   "id": "cc6966dc-8a53-4be6-9a63-818f3e1b60e4",
   "metadata": {},
   "source": [
    "For baseline model building, we use only Random Forest and Decision trees. "
   ]
  },
  {
   "cell_type": "code",
   "execution_count": 46,
   "id": "307ba70e-9416-43c1-b2e4-c6369ed768ac",
   "metadata": {
    "tags": []
   },
   "outputs": [],
   "source": [
    "df_train, df_validation = train_test_split(df_full_train_cleaned, test_size=0.3, random_state = RANDOM_STATE)\n",
    "df_train.reset_index(drop = True, inplace = True)\n",
    "df_validation.reset_index(drop = True, inplace = True)"
   ]
  },
  {
   "cell_type": "markdown",
   "id": "3e403eeb-b82a-41a0-9387-708a35c1b806",
   "metadata": {
    "tags": []
   },
   "source": [
    "##### Features engineering"
   ]
  },
  {
   "cell_type": "raw",
   "id": "3741f119-a69c-4f75-91a3-bbb4378415f0",
   "metadata": {},
   "source": [
    "For categorical features with high cardinality, we will use target encoding in order to group small categories.\n",
    "We use a threshold of 25% on average response to decide to keep or not one modality.\n",
    "For example, a modality in feature 'reco_policy_cat' is encoded to 'other' when average response of the modality is lower to 25%."
   ]
  },
  {
   "cell_type": "code",
   "execution_count": 47,
   "id": "1b687480-602e-4a8c-a79e-173eb2f18b43",
   "metadata": {
    "tags": []
   },
   "outputs": [],
   "source": [
    "df_reco_policy_cat = df_train.groupby(['reco_policy_cat'], as_index=False)['response'].mean()\n",
    "df_reco_policy_cat.sort_values(by = ['response'], ascending = False)\n",
    "list_reco_policy_cat = df_reco_policy_cat.query('response >= 0.25')['reco_policy_cat'].unique().tolist()\n",
    "# ====> reco_policy_cat_mapping: response_mean >= 0.25 -> health_indicator, response_mean < 0.25 -> autre\n",
    "\n",
    "df_city_code = df_train.groupby(['city_code'], as_index=False)['response'].mean()\n",
    "list_top_city = df_city_code.query('response >= 0.25')['city_code'].unique().tolist()\n",
    "# ====> top_city : response_mean >= 0.25 -> city_code , response_mean < 0.25 -> autre"
   ]
  },
  {
   "cell_type": "code",
   "execution_count": 48,
   "id": "2809222e-0b79-4a44-a9bd-39149255a984",
   "metadata": {
    "tags": []
   },
   "outputs": [],
   "source": [
    "df_train['city_code_group'] = np.where(df_train['city_code'].isin(list_top_city), df_train['city_code'], 'autre')\n",
    "df_train['reco_policy_cat_group'] = np.where(df_train['reco_policy_cat'].isin(list_reco_policy_cat), df_train['reco_policy_cat'], 'autre')\n",
    "\n",
    "df_validation['city_code_group'] = np.where(df_validation['city_code'].isin(list_top_city), df_validation['city_code'], 'autre')\n",
    "df_validation['reco_policy_cat_group'] = np.where(df_validation['reco_policy_cat'].isin(list_reco_policy_cat), df_validation['reco_policy_cat'], 'autre')\n",
    "\n",
    "df_test['reco_policy_premium_log'] = np.log1p(df_test['reco_policy_premium'])\n",
    "df_test['city_code_group'] = np.where(df_test['city_code'].isin(list_top_city), df_test['city_code'], 'autre')\n",
    "df_test['reco_policy_cat_group'] = np.where(df_test['reco_policy_cat'].isin(list_reco_policy_cat), df_test['reco_policy_cat'], 'autre')\n"
   ]
  },
  {
   "cell_type": "code",
   "execution_count": 49,
   "id": "8aa610bb-4090-4055-b5fa-eb38d4b74752",
   "metadata": {
    "tags": []
   },
   "outputs": [
    {
     "data": {
      "text/plain": [
       "['reco_policy_premium_log',\n",
       " 'accomodation_type',\n",
       " 'upper_age',\n",
       " 'reco_policy_cat',\n",
       " 'health_indicator',\n",
       " 'city_code']"
      ]
     },
     "execution_count": 49,
     "metadata": {},
     "output_type": "execute_result"
    }
   ],
   "source": [
    "pd_importance.sort_values(by = ['importance'], ascending = False).head(6)['base_columns'].unique().tolist()"
   ]
  },
  {
   "cell_type": "raw",
   "id": "9957aee3-34cb-4eb7-818f-5651fa6488a9",
   "metadata": {},
   "source": [
    "For baseline model, we use all features in the dataset."
   ]
  },
  {
   "cell_type": "code",
   "execution_count": 50,
   "id": "86f57c6f-87a8-4126-8235-191b30652ede",
   "metadata": {
    "tags": []
   },
   "outputs": [],
   "source": [
    "selected_features = ['reco_policy_premium_log',  'upper_age', 'lower_age', 'city_code_group', 'is_spouse', 'health_indicator', 'reco_policy_cat_group', 'accomodation_type', 'reco_insurance_type', 'response'] "
   ]
  },
  {
   "cell_type": "code",
   "execution_count": 51,
   "id": "00ebfc59-beac-4894-8b4b-4c4edf01f3f8",
   "metadata": {
    "tags": []
   },
   "outputs": [],
   "source": [
    "df_train = df_train[selected_features]\n",
    "df_validation = df_validation[selected_features]\n",
    "df_test = df_test[selected_features]"
   ]
  },
  {
   "cell_type": "code",
   "execution_count": 52,
   "id": "e7f94f14-b904-4c72-ae0c-d44af529eb5c",
   "metadata": {
    "tags": []
   },
   "outputs": [],
   "source": [
    "X_train = df_train.drop(columns = ['response'])\n",
    "y_train = df_train['response']\n",
    "\n",
    "X_validation = df_validation.drop(columns = ['response'])\n",
    "y_validation = df_validation['response']\n",
    "\n",
    "X_test = df_test.drop(columns = ['response'])\n",
    "y_test = df_test['response']"
   ]
  },
  {
   "cell_type": "markdown",
   "id": "62a8d26e-0d6e-45ad-9e51-f36643e87616",
   "metadata": {
    "tags": []
   },
   "source": [
    "##### Hyper parameters tunning"
   ]
  },
  {
   "cell_type": "code",
   "execution_count": 53,
   "id": "faa8e189-47ef-4dcc-8290-b781462b9065",
   "metadata": {
    "tags": []
   },
   "outputs": [],
   "source": [
    "numerical_selected_features = X_train.select_dtypes(include = ['integer', 'float']).columns.tolist()\n",
    "categorical_selected_features = X_train.select_dtypes(include = ['object']).columns.tolist()\n",
    "preprocessor_ = ColumnTransformer(\n",
    "    transformers=[\n",
    "        ('num', numerical_transformer, numerical_selected_features),\n",
    "        ('cat', categorical_transformer, categorical_selected_features),\n",
    "    ])\n",
    "\n",
    "pipeline_new = Pipeline(steps=[('preprocessor', preprocessor_)])"
   ]
  },
  {
   "cell_type": "code",
   "execution_count": 54,
   "id": "52bab013-12b2-4994-85e7-edfacf926264",
   "metadata": {
    "scrolled": true,
    "tags": []
   },
   "outputs": [
    {
     "data": {
      "text/html": [
       "<style>#sk-container-id-2 {color: black;}#sk-container-id-2 pre{padding: 0;}#sk-container-id-2 div.sk-toggleable {background-color: white;}#sk-container-id-2 label.sk-toggleable__label {cursor: pointer;display: block;width: 100%;margin-bottom: 0;padding: 0.3em;box-sizing: border-box;text-align: center;}#sk-container-id-2 label.sk-toggleable__label-arrow:before {content: \"▸\";float: left;margin-right: 0.25em;color: #696969;}#sk-container-id-2 label.sk-toggleable__label-arrow:hover:before {color: black;}#sk-container-id-2 div.sk-estimator:hover label.sk-toggleable__label-arrow:before {color: black;}#sk-container-id-2 div.sk-toggleable__content {max-height: 0;max-width: 0;overflow: hidden;text-align: left;background-color: #f0f8ff;}#sk-container-id-2 div.sk-toggleable__content pre {margin: 0.2em;color: black;border-radius: 0.25em;background-color: #f0f8ff;}#sk-container-id-2 input.sk-toggleable__control:checked~div.sk-toggleable__content {max-height: 200px;max-width: 100%;overflow: auto;}#sk-container-id-2 input.sk-toggleable__control:checked~label.sk-toggleable__label-arrow:before {content: \"▾\";}#sk-container-id-2 div.sk-estimator input.sk-toggleable__control:checked~label.sk-toggleable__label {background-color: #d4ebff;}#sk-container-id-2 div.sk-label input.sk-toggleable__control:checked~label.sk-toggleable__label {background-color: #d4ebff;}#sk-container-id-2 input.sk-hidden--visually {border: 0;clip: rect(1px 1px 1px 1px);clip: rect(1px, 1px, 1px, 1px);height: 1px;margin: -1px;overflow: hidden;padding: 0;position: absolute;width: 1px;}#sk-container-id-2 div.sk-estimator {font-family: monospace;background-color: #f0f8ff;border: 1px dotted black;border-radius: 0.25em;box-sizing: border-box;margin-bottom: 0.5em;}#sk-container-id-2 div.sk-estimator:hover {background-color: #d4ebff;}#sk-container-id-2 div.sk-parallel-item::after {content: \"\";width: 100%;border-bottom: 1px solid gray;flex-grow: 1;}#sk-container-id-2 div.sk-label:hover label.sk-toggleable__label {background-color: #d4ebff;}#sk-container-id-2 div.sk-serial::before {content: \"\";position: absolute;border-left: 1px solid gray;box-sizing: border-box;top: 0;bottom: 0;left: 50%;z-index: 0;}#sk-container-id-2 div.sk-serial {display: flex;flex-direction: column;align-items: center;background-color: white;padding-right: 0.2em;padding-left: 0.2em;position: relative;}#sk-container-id-2 div.sk-item {position: relative;z-index: 1;}#sk-container-id-2 div.sk-parallel {display: flex;align-items: stretch;justify-content: center;background-color: white;position: relative;}#sk-container-id-2 div.sk-item::before, #sk-container-id-2 div.sk-parallel-item::before {content: \"\";position: absolute;border-left: 1px solid gray;box-sizing: border-box;top: 0;bottom: 0;left: 50%;z-index: -1;}#sk-container-id-2 div.sk-parallel-item {display: flex;flex-direction: column;z-index: 1;position: relative;background-color: white;}#sk-container-id-2 div.sk-parallel-item:first-child::after {align-self: flex-end;width: 50%;}#sk-container-id-2 div.sk-parallel-item:last-child::after {align-self: flex-start;width: 50%;}#sk-container-id-2 div.sk-parallel-item:only-child::after {width: 0;}#sk-container-id-2 div.sk-dashed-wrapped {border: 1px dashed gray;margin: 0 0.4em 0.5em 0.4em;box-sizing: border-box;padding-bottom: 0.4em;background-color: white;}#sk-container-id-2 div.sk-label label {font-family: monospace;font-weight: bold;display: inline-block;line-height: 1.2em;}#sk-container-id-2 div.sk-label-container {text-align: center;}#sk-container-id-2 div.sk-container {/* jupyter's `normalize.less` sets `[hidden] { display: none; }` but bootstrap.min.css set `[hidden] { display: none !important; }` so we also need the `!important` here to be able to override the default hidden behavior on the sphinx rendered scikit-learn.org. See: https://github.com/scikit-learn/scikit-learn/issues/21755 */display: inline-block !important;position: relative;}#sk-container-id-2 div.sk-text-repr-fallback {display: none;}</style><div id=\"sk-container-id-2\" class=\"sk-top-container\"><div class=\"sk-text-repr-fallback\"><pre>Pipeline(steps=[(&#x27;preprocessor&#x27;,\n",
       "                 ColumnTransformer(transformers=[(&#x27;num&#x27;,\n",
       "                                                  Pipeline(steps=[(&#x27;scaler&#x27;,\n",
       "                                                                   StandardScaler())]),\n",
       "                                                  [&#x27;reco_policy_premium_log&#x27;,\n",
       "                                                   &#x27;upper_age&#x27;, &#x27;lower_age&#x27;]),\n",
       "                                                 (&#x27;cat&#x27;,\n",
       "                                                  Pipeline(steps=[(&#x27;onehot&#x27;,\n",
       "                                                                   OneHotEncoder(drop=&#x27;first&#x27;,\n",
       "                                                                                 handle_unknown=&#x27;ignore&#x27;,\n",
       "                                                                                 sparse_output=False))]),\n",
       "                                                  [&#x27;city_code_group&#x27;,\n",
       "                                                   &#x27;is_spouse&#x27;,\n",
       "                                                   &#x27;health_indicator&#x27;,\n",
       "                                                   &#x27;reco_policy_cat_group&#x27;,\n",
       "                                                   &#x27;accomodation_type&#x27;,\n",
       "                                                   &#x27;reco_insurance_type&#x27;])]))])</pre><b>In a Jupyter environment, please rerun this cell to show the HTML representation or trust the notebook. <br />On GitHub, the HTML representation is unable to render, please try loading this page with nbviewer.org.</b></div><div class=\"sk-container\" hidden><div class=\"sk-item sk-dashed-wrapped\"><div class=\"sk-label-container\"><div class=\"sk-label sk-toggleable\"><input class=\"sk-toggleable__control sk-hidden--visually\" id=\"sk-estimator-id-8\" type=\"checkbox\" ><label for=\"sk-estimator-id-8\" class=\"sk-toggleable__label sk-toggleable__label-arrow\">Pipeline</label><div class=\"sk-toggleable__content\"><pre>Pipeline(steps=[(&#x27;preprocessor&#x27;,\n",
       "                 ColumnTransformer(transformers=[(&#x27;num&#x27;,\n",
       "                                                  Pipeline(steps=[(&#x27;scaler&#x27;,\n",
       "                                                                   StandardScaler())]),\n",
       "                                                  [&#x27;reco_policy_premium_log&#x27;,\n",
       "                                                   &#x27;upper_age&#x27;, &#x27;lower_age&#x27;]),\n",
       "                                                 (&#x27;cat&#x27;,\n",
       "                                                  Pipeline(steps=[(&#x27;onehot&#x27;,\n",
       "                                                                   OneHotEncoder(drop=&#x27;first&#x27;,\n",
       "                                                                                 handle_unknown=&#x27;ignore&#x27;,\n",
       "                                                                                 sparse_output=False))]),\n",
       "                                                  [&#x27;city_code_group&#x27;,\n",
       "                                                   &#x27;is_spouse&#x27;,\n",
       "                                                   &#x27;health_indicator&#x27;,\n",
       "                                                   &#x27;reco_policy_cat_group&#x27;,\n",
       "                                                   &#x27;accomodation_type&#x27;,\n",
       "                                                   &#x27;reco_insurance_type&#x27;])]))])</pre></div></div></div><div class=\"sk-serial\"><div class=\"sk-item sk-dashed-wrapped\"><div class=\"sk-label-container\"><div class=\"sk-label sk-toggleable\"><input class=\"sk-toggleable__control sk-hidden--visually\" id=\"sk-estimator-id-9\" type=\"checkbox\" ><label for=\"sk-estimator-id-9\" class=\"sk-toggleable__label sk-toggleable__label-arrow\">preprocessor: ColumnTransformer</label><div class=\"sk-toggleable__content\"><pre>ColumnTransformer(transformers=[(&#x27;num&#x27;,\n",
       "                                 Pipeline(steps=[(&#x27;scaler&#x27;, StandardScaler())]),\n",
       "                                 [&#x27;reco_policy_premium_log&#x27;, &#x27;upper_age&#x27;,\n",
       "                                  &#x27;lower_age&#x27;]),\n",
       "                                (&#x27;cat&#x27;,\n",
       "                                 Pipeline(steps=[(&#x27;onehot&#x27;,\n",
       "                                                  OneHotEncoder(drop=&#x27;first&#x27;,\n",
       "                                                                handle_unknown=&#x27;ignore&#x27;,\n",
       "                                                                sparse_output=False))]),\n",
       "                                 [&#x27;city_code_group&#x27;, &#x27;is_spouse&#x27;,\n",
       "                                  &#x27;health_indicator&#x27;, &#x27;reco_policy_cat_group&#x27;,\n",
       "                                  &#x27;accomodation_type&#x27;,\n",
       "                                  &#x27;reco_insurance_type&#x27;])])</pre></div></div></div><div class=\"sk-parallel\"><div class=\"sk-parallel-item\"><div class=\"sk-item\"><div class=\"sk-label-container\"><div class=\"sk-label sk-toggleable\"><input class=\"sk-toggleable__control sk-hidden--visually\" id=\"sk-estimator-id-10\" type=\"checkbox\" ><label for=\"sk-estimator-id-10\" class=\"sk-toggleable__label sk-toggleable__label-arrow\">num</label><div class=\"sk-toggleable__content\"><pre>[&#x27;reco_policy_premium_log&#x27;, &#x27;upper_age&#x27;, &#x27;lower_age&#x27;]</pre></div></div></div><div class=\"sk-serial\"><div class=\"sk-item\"><div class=\"sk-serial\"><div class=\"sk-item\"><div class=\"sk-estimator sk-toggleable\"><input class=\"sk-toggleable__control sk-hidden--visually\" id=\"sk-estimator-id-11\" type=\"checkbox\" ><label for=\"sk-estimator-id-11\" class=\"sk-toggleable__label sk-toggleable__label-arrow\">StandardScaler</label><div class=\"sk-toggleable__content\"><pre>StandardScaler()</pre></div></div></div></div></div></div></div></div><div class=\"sk-parallel-item\"><div class=\"sk-item\"><div class=\"sk-label-container\"><div class=\"sk-label sk-toggleable\"><input class=\"sk-toggleable__control sk-hidden--visually\" id=\"sk-estimator-id-12\" type=\"checkbox\" ><label for=\"sk-estimator-id-12\" class=\"sk-toggleable__label sk-toggleable__label-arrow\">cat</label><div class=\"sk-toggleable__content\"><pre>[&#x27;city_code_group&#x27;, &#x27;is_spouse&#x27;, &#x27;health_indicator&#x27;, &#x27;reco_policy_cat_group&#x27;, &#x27;accomodation_type&#x27;, &#x27;reco_insurance_type&#x27;]</pre></div></div></div><div class=\"sk-serial\"><div class=\"sk-item\"><div class=\"sk-serial\"><div class=\"sk-item\"><div class=\"sk-estimator sk-toggleable\"><input class=\"sk-toggleable__control sk-hidden--visually\" id=\"sk-estimator-id-13\" type=\"checkbox\" ><label for=\"sk-estimator-id-13\" class=\"sk-toggleable__label sk-toggleable__label-arrow\">OneHotEncoder</label><div class=\"sk-toggleable__content\"><pre>OneHotEncoder(drop=&#x27;first&#x27;, handle_unknown=&#x27;ignore&#x27;, sparse_output=False)</pre></div></div></div></div></div></div></div></div></div></div></div></div></div></div>"
      ],
      "text/plain": [
       "Pipeline(steps=[('preprocessor',\n",
       "                 ColumnTransformer(transformers=[('num',\n",
       "                                                  Pipeline(steps=[('scaler',\n",
       "                                                                   StandardScaler())]),\n",
       "                                                  ['reco_policy_premium_log',\n",
       "                                                   'upper_age', 'lower_age']),\n",
       "                                                 ('cat',\n",
       "                                                  Pipeline(steps=[('onehot',\n",
       "                                                                   OneHotEncoder(drop='first',\n",
       "                                                                                 handle_unknown='ignore',\n",
       "                                                                                 sparse_output=False))]),\n",
       "                                                  ['city_code_group',\n",
       "                                                   'is_spouse',\n",
       "                                                   'health_indicator',\n",
       "                                                   'reco_policy_cat_group',\n",
       "                                                   'accomodation_type',\n",
       "                                                   'reco_insurance_type'])]))])"
      ]
     },
     "execution_count": 54,
     "metadata": {},
     "output_type": "execute_result"
    }
   ],
   "source": [
    "pipeline_new.fit(X_train, y_train)"
   ]
  },
  {
   "cell_type": "code",
   "execution_count": 55,
   "id": "031c2348-d1b7-461f-a58a-45ba537a2dfd",
   "metadata": {
    "tags": []
   },
   "outputs": [],
   "source": [
    "# all_columns_new = pipeline_new.named_steps['preprocessor'].transformers_[0][1].get_feature_names_out().tolist()\n",
    "all_columns_new = pipeline_new.named_steps['preprocessor'].transformers_[0][2] + pipeline_new.named_steps['preprocessor'].transformers_[1][1].get_feature_names_out().tolist()\n",
    "X_train_transformed = pd.DataFrame(pipeline_new.named_steps['preprocessor'].transform(X_train), columns = all_columns_new)\n",
    "X_validation_transformed = pd.DataFrame(pipeline_new.named_steps['preprocessor'].transform(X_validation), columns = all_columns_new)"
   ]
  },
  {
   "cell_type": "code",
   "execution_count": 56,
   "id": "7e0d0b63-4f5d-420e-9b89-1e10fe49c738",
   "metadata": {
    "scrolled": true,
    "tags": []
   },
   "outputs": [
    {
     "name": "stdout",
     "output_type": "stream",
     "text": [
      "Random forest classifier\n",
      "\tAUC ROC with n = 5 & d = 5\n",
      "\t\ttrain auc roc : 0.7380749746707194\n",
      "\t\tvalidation auc roc: 0.8798449612403101\n",
      "\tAUC ROC with n = 10 & d = 5\n",
      "\t\ttrain auc roc : 0.7559060701839695\n",
      "\t\tvalidation auc roc returns error with n = 10 & d = 5\n",
      "\tAUC ROC with n = 15 & d = 5\n",
      "\t\ttrain auc roc returns error with n = 15 & d = 5\n",
      "\t\tvalidation auc roc returns error with n = 15 & d = 5\n",
      "\tAUC ROC with n = 20 & d = 5\n",
      "\t\ttrain auc roc returns error with n = 20 & d = 5\n",
      "\t\tvalidation auc roc returns error with n = 20 & d = 5\n",
      "\tAUC ROC with n = 50 & d = 5\n",
      "\t\ttrain auc roc returns error with n = 50 & d = 5\n",
      "\t\tvalidation auc roc returns error with n = 50 & d = 5\n",
      "\tAUC ROC with n = 100 & d = 5\n",
      "\t\ttrain auc roc returns error with n = 100 & d = 5\n",
      "\t\tvalidation auc roc returns error with n = 100 & d = 5\n",
      "\tAUC ROC with n = 200 & d = 5\n",
      "\t\ttrain auc roc returns error with n = 200 & d = 5\n",
      "\t\tvalidation auc roc returns error with n = 200 & d = 5\n",
      "\tAUC ROC with n = 5 & d = 10\n",
      "\t\ttrain auc roc : 0.8056715003467755\n",
      "\t\tvalidation auc roc: 0.5546721069860527\n",
      "\tAUC ROC with n = 10 & d = 10\n",
      "\t\ttrain auc roc : 0.8466074071138484\n",
      "\t\tvalidation auc roc: 0.6350566670121972\n",
      "\tAUC ROC with n = 15 & d = 10\n",
      "\t\ttrain auc roc : 0.8660895360604823\n",
      "\t\tvalidation auc roc: 0.6064220411520401\n",
      "\tAUC ROC with n = 20 & d = 10\n",
      "\t\ttrain auc roc : 0.8704823493510456\n",
      "\t\tvalidation auc roc: 0.6374065141990028\n",
      "\tAUC ROC with n = 50 & d = 10\n",
      "\t\ttrain auc roc : 0.8826941866145579\n",
      "\t\tvalidation auc roc: 0.6695873205741627\n",
      "\tAUC ROC with n = 100 & d = 10\n",
      "\t\ttrain auc roc : 0.8828188630070044\n",
      "\t\tvalidation auc roc: 0.644747541129688\n",
      "\tAUC ROC with n = 200 & d = 10\n",
      "\t\ttrain auc roc : 0.8826786077752901\n",
      "\t\tvalidation auc roc: 0.6959504585326953\n",
      "\tAUC ROC with n = 5 & d = 15\n",
      "\t\ttrain auc roc : 0.8393667213980263\n",
      "\t\tvalidation auc roc: 0.5566061680272854\n",
      "\tAUC ROC with n = 10 & d = 15\n",
      "\t\ttrain auc roc : 0.8681972964676186\n",
      "\t\tvalidation auc roc: 0.5877094510826938\n",
      "\tAUC ROC with n = 15 & d = 15\n",
      "\t\ttrain auc roc : 0.880566188834186\n",
      "\t\tvalidation auc roc: 0.5943690490300659\n",
      "\tAUC ROC with n = 20 & d = 15\n",
      "\t\ttrain auc roc : 0.8848493902991192\n",
      "\t\tvalidation auc roc: 0.5840566814961279\n",
      "\tAUC ROC with n = 50 & d = 15\n",
      "\t\ttrain auc roc : 0.888481795940303\n",
      "\t\tvalidation auc roc: 0.6181363805838548\n",
      "\tAUC ROC with n = 100 & d = 15\n",
      "\t\ttrain auc roc : 0.888566211136448\n",
      "\t\tvalidation auc roc: 0.6143291168760499\n",
      "\tAUC ROC with n = 200 & d = 15\n",
      "\t\ttrain auc roc : 0.8903742199146789\n",
      "\t\tvalidation auc roc: 0.6037202630131088\n",
      "\tAUC ROC with n = 5 & d = 20\n",
      "\t\ttrain auc roc : 0.8713032677509632\n",
      "\t\tvalidation auc roc: 0.5277933625927779\n",
      "\tAUC ROC with n = 10 & d = 20\n",
      "\t\ttrain auc roc : 0.9041451165917198\n",
      "\t\tvalidation auc roc: 0.540716241093942\n",
      "\tAUC ROC with n = 15 & d = 20\n",
      "\t\ttrain auc roc : 0.9110714203274133\n",
      "\t\tvalidation auc roc: 0.5515868084939244\n",
      "\tAUC ROC with n = 20 & d = 20\n",
      "\t\ttrain auc roc : 0.9158271595171751\n",
      "\t\tvalidation auc roc: 0.5580269688558979\n",
      "\tAUC ROC with n = 50 & d = 20\n",
      "\t\ttrain auc roc : 0.9173490496264001\n",
      "\t\tvalidation auc roc: 0.5673558306316927\n",
      "\tAUC ROC with n = 100 & d = 20\n",
      "\t\ttrain auc roc : 0.9165797984576579\n",
      "\t\tvalidation auc roc: 0.573142638398518\n",
      "\tAUC ROC with n = 200 & d = 20\n",
      "\t\ttrain auc roc : 0.9171095637461721\n",
      "\t\tvalidation auc roc: 0.5679800781486077\n",
      "\tAUC ROC with n = 5 & d = 50\n",
      "\t\ttrain auc roc : 0.9415006226815467\n",
      "\t\tvalidation auc roc: 0.5162064254819548\n",
      "\tAUC ROC with n = 10 & d = 50\n",
      "\t\ttrain auc roc : 0.9706851377283985\n",
      "\t\tvalidation auc roc: 0.5146771775311413\n",
      "\tAUC ROC with n = 15 & d = 50\n",
      "\t\ttrain auc roc : 0.9843466382158299\n",
      "\t\tvalidation auc roc: 0.5166672130137425\n",
      "\tAUC ROC with n = 20 & d = 50\n",
      "\t\ttrain auc roc : 0.987523388446479\n",
      "\t\tvalidation auc roc: 0.5170832992562143\n",
      "\tAUC ROC with n = 50 & d = 50\n",
      "\t\ttrain auc roc : 0.9956812769480913\n",
      "\t\tvalidation auc roc: 0.5163384310705249\n",
      "\tAUC ROC with n = 100 & d = 50\n",
      "\t\ttrain auc roc : 0.9969422085945703\n",
      "\t\tvalidation auc roc: 0.5172091037196394\n",
      "\tAUC ROC with n = 200 & d = 50\n",
      "\t\ttrain auc roc : 0.9971137254670558\n",
      "\t\tvalidation auc roc: 0.5170949552304249\n",
      "\tAUC ROC with n = 5 & d = None\n",
      "\t\ttrain auc roc : 0.9415006226815467\n",
      "\t\tvalidation auc roc: 0.5162064254819548\n",
      "\tAUC ROC with n = 10 & d = None\n",
      "\t\ttrain auc roc : 0.9706851377283985\n",
      "\t\tvalidation auc roc: 0.5146771775311413\n",
      "\tAUC ROC with n = 15 & d = None\n",
      "\t\ttrain auc roc : 0.9844002320746507\n",
      "\t\tvalidation auc roc: 0.51784174796192\n",
      "\tAUC ROC with n = 20 & d = None\n",
      "\t\ttrain auc roc : 0.987639806533346\n",
      "\t\tvalidation auc roc: 0.5175393629522933\n",
      "\tAUC ROC with n = 50 & d = None\n",
      "\t\ttrain auc roc : 0.9955747227253232\n",
      "\t\tvalidation auc roc: 0.5169128422272515\n",
      "\tAUC ROC with n = 100 & d = None\n",
      "\t\ttrain auc roc : 0.996915586733237\n",
      "\t\tvalidation auc roc: 0.5181631772306358\n",
      "\tAUC ROC with n = 200 & d = None\n",
      "\t\ttrain auc roc : 0.9971137254670558\n",
      "\t\tvalidation auc roc: 0.5154458786352396\n",
      "************************\n",
      "Decision tree classifier\n",
      "\tAUC ROC with d = 5 & l = 1\n",
      "\t\ttrain auc roc : 0.7407119569229607\n",
      "\t\tvalidation auc roc : 0.6022051783816769\n",
      "\tAUC ROC with d = 5 & l = 3\n",
      "\t\ttrain auc roc : 0.7308624698503778\n",
      "\t\tvalidation auc roc : 0.5704250444258021\n",
      "\tAUC ROC with d = 5 & l = 5\n",
      "\t\ttrain auc roc : 0.7257246309877888\n",
      "\t\tvalidation auc roc : 0.5883428075161851\n",
      "\tAUC ROC with d = 5 & l = 10\n",
      "\t\ttrain auc roc : 0.6468715255600502\n",
      "\t\tvalidation auc roc : 0.5764492111872904\n",
      "\tAUC ROC with d = 5 & l = 15\n",
      "\t\ttrain auc roc : 0.6468715255600502\n",
      "\t\tvalidation auc roc : 0.5764492111872904\n",
      "\tAUC ROC with d = 5 & l = 20\n",
      "\t\ttrain auc roc : 0.6461221414075848\n",
      "\t\tvalidation auc roc : 0.5809569469747818\n",
      "\tAUC ROC with d = 5 & l = 30\n",
      "\t\ttrain auc roc : 0.6422654189172214\n",
      "\t\tvalidation auc roc : 0.580918152194748\n",
      "\tAUC ROC with d = 5 & l = 50\n",
      "\t\ttrain auc roc : 0.6482288522809775\n",
      "\t\tvalidation auc roc : 0.5429488983796507\n",
      "\tAUC ROC with d = 5 & l = 100\n",
      "\t\ttrain auc roc : 0.6431803664244449\n",
      "\t\tvalidation auc roc : 0.567669914545901\n",
      "\tAUC ROC with d = 10 & l = 1\n",
      "\t\ttrain auc roc : 0.7843306836285479\n",
      "\t\tvalidation auc roc : 0.5134670024538293\n",
      "\tAUC ROC with d = 10 & l = 3\n",
      "\t\ttrain auc roc : 0.7487689888933021\n",
      "\t\tvalidation auc roc : 0.51606041979943\n",
      "\tAUC ROC with d = 10 & l = 5\n",
      "\t\ttrain auc roc : 0.7131458129192244\n",
      "\t\tvalidation auc roc : 0.545901048163958\n",
      "\tAUC ROC with d = 10 & l = 10\n",
      "\t\ttrain auc roc : 0.702597766489276\n",
      "\t\tvalidation auc roc : 0.5633329609094592\n",
      "\tAUC ROC with d = 10 & l = 15\n",
      "\t\ttrain auc roc : 0.6908143377511636\n",
      "\t\tvalidation auc roc : 0.5735465822061598\n",
      "\tAUC ROC with d = 10 & l = 20\n",
      "\t\ttrain auc roc : 0.6885656592672799\n",
      "\t\tvalidation auc roc : 0.5803032556295001\n",
      "\tAUC ROC with d = 10 & l = 30\n",
      "\t\ttrain auc roc : 0.6786636651415617\n",
      "\t\tvalidation auc roc : 0.6041279341991086\n",
      "\tAUC ROC with d = 10 & l = 50\n",
      "\t\ttrain auc roc : 0.6624656458373421\n",
      "\t\tvalidation auc roc : 0.5780037757715863\n",
      "\tAUC ROC with d = 10 & l = 100\n",
      "\t\ttrain auc roc : 0.6440647420598015\n",
      "\t\tvalidation auc roc : 0.6007283999027145\n",
      "\tAUC ROC with d = 15 & l = 1\n",
      "\t\ttrain auc roc : 0.8509513100770196\n",
      "\t\tvalidation auc roc : 0.5043143946190546\n",
      "\tAUC ROC with d = 15 & l = 3\n",
      "\t\ttrain auc roc : 0.7834026209827716\n",
      "\t\tvalidation auc roc : 0.498901255479615\n",
      "\tAUC ROC with d = 15 & l = 5\n",
      "\t\ttrain auc roc : 0.7420351690493246\n",
      "\t\tvalidation auc roc : 0.5238607434860137\n",
      "\tAUC ROC with d = 15 & l = 10\n",
      "\t\ttrain auc roc : 0.7144034629511253\n",
      "\t\tvalidation auc roc : 0.5379160052418374\n",
      "\tAUC ROC with d = 15 & l = 15\n",
      "\t\ttrain auc roc : 0.6952004531957054\n",
      "\t\tvalidation auc roc : 0.5584559935477367\n",
      "\tAUC ROC with d = 15 & l = 20\n",
      "\t\ttrain auc roc : 0.6845710191631751\n",
      "\t\tvalidation auc roc : 0.5446324080458671\n",
      "\tAUC ROC with d = 15 & l = 30\n",
      "\t\ttrain auc roc : 0.6793188546041855\n",
      "\t\tvalidation auc roc : 0.5757929618128244\n",
      "\tAUC ROC with d = 15 & l = 50\n",
      "\t\ttrain auc roc : 0.660909726826326\n",
      "\t\tvalidation auc roc : 0.5758011944203201\n",
      "\tAUC ROC with d = 15 & l = 100\n",
      "\t\ttrain auc roc : 0.6440647420598015\n",
      "\t\tvalidation auc roc : 0.6007283999027145\n",
      "\tAUC ROC with d = 20 & l = 1\n",
      "\t\ttrain auc roc : 0.8910895360984682\n",
      "\t\tvalidation auc roc : 0.5100485881031925\n",
      "\tAUC ROC with d = 20 & l = 3\n",
      "\t\ttrain auc roc : 0.7940967819574173\n",
      "\t\tvalidation auc roc : 0.5135665731778389\n",
      "\tAUC ROC with d = 20 & l = 5\n",
      "\t\ttrain auc roc : 0.7578709126216822\n",
      "\t\tvalidation auc roc : 0.5246073325235182\n",
      "\tAUC ROC with d = 20 & l = 10\n",
      "\t\ttrain auc roc : 0.7209916435828996\n",
      "\t\tvalidation auc roc : 0.5429185560476354\n",
      "\tAUC ROC with d = 20 & l = 15\n",
      "\t\ttrain auc roc : 0.700095937728105\n",
      "\t\tvalidation auc roc : 0.5533130069749275\n",
      "\tAUC ROC with d = 20 & l = 20\n",
      "\t\ttrain auc roc : 0.6865006569709411\n",
      "\t\tvalidation auc roc : 0.5489371911211696\n",
      "\tAUC ROC with d = 20 & l = 30\n",
      "\t\ttrain auc roc : 0.6793188546041855\n",
      "\t\tvalidation auc roc : 0.5757929618128244\n",
      "\tAUC ROC with d = 20 & l = 50\n",
      "\t\ttrain auc roc : 0.660909726826326\n",
      "\t\tvalidation auc roc : 0.5758011944203201\n",
      "\tAUC ROC with d = 20 & l = 100\n",
      "\t\ttrain auc roc : 0.6440647420598015\n",
      "\t\tvalidation auc roc : 0.6007283999027145\n",
      "\tAUC ROC with d = 50 & l = 1\n",
      "\t\ttrain auc roc : 0.9958764244119617\n",
      "\t\tvalidation auc roc : 0.50622152303559\n",
      "\tAUC ROC with d = 50 & l = 3\n",
      "\t\ttrain auc roc : 0.8371901484587315\n",
      "\t\tvalidation auc roc : 0.5127569170885273\n",
      "\tAUC ROC with d = 50 & l = 5\n",
      "\t\ttrain auc roc : 0.7802025987177668\n",
      "\t\tvalidation auc roc : 0.5221428914357044\n",
      "\tAUC ROC with d = 50 & l = 10\n",
      "\t\ttrain auc roc : 0.7240455190185304\n",
      "\t\tvalidation auc roc : 0.540460903279494\n",
      "\tAUC ROC with d = 50 & l = 15\n",
      "\t\ttrain auc roc : 0.7008824920912214\n",
      "\t\tvalidation auc roc : 0.5485500685709765\n",
      "\tAUC ROC with d = 50 & l = 20\n",
      "\t\ttrain auc roc : 0.6862680832855361\n",
      "\t\tvalidation auc roc : 0.5506110306251307\n",
      "\tAUC ROC with d = 50 & l = 30\n",
      "\t\ttrain auc roc : 0.6793188546041855\n",
      "\t\tvalidation auc roc : 0.5757929618128244\n",
      "\tAUC ROC with d = 50 & l = 50\n",
      "\t\ttrain auc roc : 0.660909726826326\n",
      "\t\tvalidation auc roc : 0.5758011944203201\n",
      "\tAUC ROC with d = 50 & l = 100\n",
      "\t\ttrain auc roc : 0.6440647420598015\n",
      "\t\tvalidation auc roc : 0.6007283999027145\n",
      "\tAUC ROC with d = None & l = 1\n",
      "\t\ttrain auc roc : 0.9978287348408622\n",
      "\t\tvalidation auc roc : 0.5068285483407797\n",
      "\tAUC ROC with d = None & l = 3\n",
      "\t\ttrain auc roc : 0.8387313193671356\n",
      "\t\tvalidation auc roc : 0.5127149228821983\n",
      "\tAUC ROC with d = None & l = 5\n",
      "\t\ttrain auc roc : 0.781008582753663\n",
      "\t\tvalidation auc roc : 0.521578324639369\n",
      "\tAUC ROC with d = None & l = 10\n",
      "\t\ttrain auc roc : 0.7240455190185304\n",
      "\t\tvalidation auc roc : 0.540460903279494\n",
      "\tAUC ROC with d = None & l = 15\n",
      "\t\ttrain auc roc : 0.7008824920912214\n",
      "\t\tvalidation auc roc : 0.5485500685709765\n",
      "\tAUC ROC with d = None & l = 20\n",
      "\t\ttrain auc roc : 0.6862680832855361\n",
      "\t\tvalidation auc roc : 0.5506110306251307\n",
      "\tAUC ROC with d = None & l = 30\n",
      "\t\ttrain auc roc : 0.6793188546041855\n",
      "\t\tvalidation auc roc : 0.5757929618128244\n",
      "\tAUC ROC with d = None & l = 50\n",
      "\t\ttrain auc roc : 0.660909726826326\n",
      "\t\tvalidation auc roc : 0.5758011944203201\n",
      "\tAUC ROC with d = None & l = 100\n",
      "\t\ttrain auc roc : 0.6440647420598015\n",
      "\t\tvalidation auc roc : 0.6007283999027145\n",
      "************************\n",
      "Logistic regression\n",
      "\tAUC ROC with C = 0.001\n",
      "\t\ttrain auc roc returns error with c = 0.001\n",
      "\t\tvalidation auc roc returns error with c = 0.001\n",
      "\tAUC ROC with C = 0.01\n",
      "\t\ttrain auc roc returns error with c = 0.01\n",
      "\t\tvalidation auc roc returns error with c = 0.01\n",
      "\tAUC ROC with C = 0.1\n",
      "\t\ttrain auc roc : 0.7809784370946823\n",
      "\t\tvalidation auc roc : 0.8798808735936465\n",
      "\tAUC ROC with C = 1\n",
      "\t\ttrain auc roc : 0.7231416334291513\n",
      "\t\tvalidation auc roc : 0.7799413656137697\n",
      "\tAUC ROC with C = 10\n",
      "\t\ttrain auc roc : 0.7382101293540407\n",
      "\t\tvalidation auc roc : 0.7132633437371921\n",
      "************************\n",
      "XGBoost classifier\n",
      "\tAUC ROC with n = 5 & d = 1\n",
      "\t\ttrain auc roc returns error with c = 10\n",
      "\t\tvalidation auc roc returns error with c = 10\n",
      "\tAUC ROC with n = 5 & d = 5\n",
      "\t\ttrain auc roc : 0.6616908511892549\n",
      "\t\tvalidation auc roc : 0.5871968099079932\n",
      "\tAUC ROC with n = 5 & d = 10\n",
      "\t\ttrain auc roc : 0.7354934906863394\n",
      "\t\tvalidation auc roc : 0.5311687023697672\n",
      "\tAUC ROC with n = 5 & d = 20\n",
      "\t\ttrain auc roc : 0.7790062116903388\n",
      "\t\tvalidation auc roc : 0.5394515239585662\n",
      "\tAUC ROC with n = 5 & d = 50\n",
      "\t\ttrain auc roc : 0.7937654292490042\n",
      "\t\tvalidation auc roc : 0.5363911626575855\n",
      "\tAUC ROC with n = 5 & d = 100\n",
      "\t\ttrain auc roc : 0.7937654292490042\n",
      "\t\tvalidation auc roc : 0.5363911626575855\n",
      "\tAUC ROC with n = 10 & d = 1\n",
      "\t\ttrain auc roc returns error with c = 10\n",
      "\t\tvalidation auc roc returns error with c = 10\n",
      "\tAUC ROC with n = 10 & d = 5\n",
      "\t\ttrain auc roc : 0.6616908511892549\n",
      "\t\tvalidation auc roc : 0.5871968099079932\n",
      "\tAUC ROC with n = 10 & d = 10\n",
      "\t\ttrain auc roc : 0.7355958160510772\n",
      "\t\tvalidation auc roc : 0.5313540678721407\n",
      "\tAUC ROC with n = 10 & d = 20\n",
      "\t\ttrain auc roc : 0.7763697185624674\n",
      "\t\tvalidation auc roc : 0.5394045310246203\n",
      "\tAUC ROC with n = 10 & d = 50\n",
      "\t\ttrain auc roc : 0.7906922096875248\n",
      "\t\tvalidation auc roc : 0.5348665761850885\n",
      "\tAUC ROC with n = 10 & d = 100\n",
      "\t\ttrain auc roc : 0.7906922096875248\n",
      "\t\tvalidation auc roc : 0.5348665761850885\n",
      "\tAUC ROC with n = 15 & d = 1\n",
      "\t\ttrain auc roc returns error with c = 10\n",
      "\t\tvalidation auc roc returns error with c = 10\n",
      "\tAUC ROC with n = 15 & d = 5\n",
      "\t\ttrain auc roc : 0.6616908511892549\n",
      "\t\tvalidation auc roc : 0.5871968099079932\n",
      "\tAUC ROC with n = 15 & d = 10\n",
      "\t\ttrain auc roc : 0.7355958160510772\n",
      "\t\tvalidation auc roc : 0.5300740771970371\n",
      "\tAUC ROC with n = 15 & d = 20\n",
      "\t\ttrain auc roc : 0.7767310466674828\n",
      "\t\tvalidation auc roc : 0.5374515383877155\n",
      "\tAUC ROC with n = 15 & d = 50\n",
      "\t\ttrain auc roc : 0.7908745536785169\n",
      "\t\tvalidation auc roc : 0.5354717431146595\n",
      "\tAUC ROC with n = 15 & d = 100\n",
      "\t\ttrain auc roc : 0.7908745536785169\n",
      "\t\tvalidation auc roc : 0.5354717431146595\n",
      "\tAUC ROC with n = 20 & d = 1\n",
      "\t\ttrain auc roc returns error with c = 10\n",
      "\t\tvalidation auc roc returns error with c = 10\n",
      "\tAUC ROC with n = 20 & d = 5\n",
      "\t\ttrain auc roc : 0.6584579731616117\n",
      "\t\tvalidation auc roc : 0.5922639041807404\n",
      "\tAUC ROC with n = 20 & d = 10\n",
      "\t\ttrain auc roc : 0.7355958160510772\n",
      "\t\tvalidation auc roc : 0.5300740771970371\n",
      "\tAUC ROC with n = 20 & d = 20\n",
      "\t\ttrain auc roc : 0.77861605674015\n",
      "\t\tvalidation auc roc : 0.5376901349531374\n",
      "\tAUC ROC with n = 20 & d = 50\n",
      "\t\ttrain auc roc : 0.7925773615755262\n",
      "\t\tvalidation auc roc : 0.5362515235658194\n",
      "\tAUC ROC with n = 20 & d = 100\n",
      "\t\ttrain auc roc : 0.7925773615755262\n",
      "\t\tvalidation auc roc : 0.5362515235658194\n",
      "\tAUC ROC with n = 50 & d = 1\n",
      "\t\ttrain auc roc returns error with c = 10\n",
      "\t\tvalidation auc roc returns error with c = 10\n",
      "\tAUC ROC with n = 50 & d = 5\n",
      "\t\ttrain auc roc : 0.6584579731616117\n",
      "\t\tvalidation auc roc : 0.5922639041807404\n",
      "\tAUC ROC with n = 50 & d = 10\n",
      "\t\ttrain auc roc : 0.7396613991118415\n",
      "\t\tvalidation auc roc : 0.5374471065983606\n",
      "\tAUC ROC with n = 50 & d = 20\n",
      "\t\ttrain auc roc : 0.7858300545716433\n",
      "\t\tvalidation auc roc : 0.5442885981685084\n",
      "\tAUC ROC with n = 50 & d = 50\n",
      "\t\ttrain auc roc : 0.800341501042573\n",
      "\t\tvalidation auc roc : 0.5402596563977926\n",
      "\tAUC ROC with n = 50 & d = 100\n",
      "\t\ttrain auc roc : 0.800341501042573\n",
      "\t\tvalidation auc roc : 0.5402596563977926\n",
      "\tAUC ROC with n = 100 & d = 1\n",
      "\t\ttrain auc roc returns error with c = 10\n",
      "\t\tvalidation auc roc returns error with c = 10\n",
      "\tAUC ROC with n = 100 & d = 5\n",
      "\t\ttrain auc roc : 0.6584579731616117\n",
      "\t\tvalidation auc roc : 0.5922639041807404\n",
      "\tAUC ROC with n = 100 & d = 10\n",
      "\t\ttrain auc roc : 0.7446214863197016\n",
      "\t\tvalidation auc roc : 0.5405811066961701\n",
      "\tAUC ROC with n = 100 & d = 20\n",
      "\t\ttrain auc roc : 0.7939577535971551\n",
      "\t\tvalidation auc roc : 0.5423224632050968\n",
      "\tAUC ROC with n = 100 & d = 50\n",
      "\t\ttrain auc roc : 0.808909149280702\n",
      "\t\tvalidation auc roc : 0.5383303954587594\n",
      "\tAUC ROC with n = 100 & d = 100\n",
      "\t\ttrain auc roc : 0.808909149280702\n",
      "\t\tvalidation auc roc : 0.5383303954587594\n",
      "\tAUC ROC with n = 200 & d = 1\n",
      "\t\ttrain auc roc returns error with c = 10\n",
      "\t\tvalidation auc roc returns error with c = 10\n",
      "\tAUC ROC with n = 200 & d = 5\n",
      "\t\ttrain auc roc : 0.6785615594775901\n",
      "\t\tvalidation auc roc : 0.5964647884495673\n",
      "\tAUC ROC with n = 200 & d = 10\n",
      "\t\ttrain auc roc : 0.7575715738947101\n",
      "\t\tvalidation auc roc : 0.5468289723780432\n",
      "\tAUC ROC with n = 200 & d = 20\n",
      "\t\ttrain auc roc : 0.8059310194856115\n",
      "\t\tvalidation auc roc : 0.5400807251311172\n",
      "\tAUC ROC with n = 200 & d = 50\n",
      "\t\ttrain auc roc : 0.8206185412347888\n",
      "\t\tvalidation auc roc : 0.542936578589272\n",
      "\tAUC ROC with n = 200 & d = 100\n",
      "\t\ttrain auc roc : 0.8206185412347888\n",
      "\t\tvalidation auc roc : 0.542936578589272\n",
      "\tAUC ROC with n = 5 & d = 1\n",
      "\t\ttrain auc roc returns error with c = 10\n",
      "\t\tvalidation auc roc returns error with c = 10\n",
      "\tAUC ROC with n = 5 & d = 5\n",
      "\t\ttrain auc roc : 0.6584579731616117\n",
      "\t\tvalidation auc roc : 0.5922639041807404\n",
      "\tAUC ROC with n = 5 & d = 10\n",
      "\t\ttrain auc roc : 0.7391765533369586\n",
      "\t\tvalidation auc roc : 0.5423893191797059\n",
      "\tAUC ROC with n = 5 & d = 20\n",
      "\t\ttrain auc roc : 0.7873341678119044\n",
      "\t\tvalidation auc roc : 0.5435860537027416\n",
      "\tAUC ROC with n = 5 & d = 50\n",
      "\t\ttrain auc roc : 0.8012564903685203\n",
      "\t\tvalidation auc roc : 0.5410750873209702\n",
      "\tAUC ROC with n = 5 & d = 100\n",
      "\t\ttrain auc roc : 0.8012564903685203\n",
      "\t\tvalidation auc roc : 0.5410750873209702\n",
      "\tAUC ROC with n = 10 & d = 1\n",
      "\t\ttrain auc roc returns error with c = 10\n",
      "\t\tvalidation auc roc returns error with c = 10\n",
      "\tAUC ROC with n = 10 & d = 5\n",
      "\t\ttrain auc roc : 0.6584579731616117\n",
      "\t\tvalidation auc roc : 0.5922639041807404\n",
      "\tAUC ROC with n = 10 & d = 10\n",
      "\t\ttrain auc roc : 0.7419695965587227\n",
      "\t\tvalidation auc roc : 0.5440955751373512\n",
      "\tAUC ROC with n = 10 & d = 20\n",
      "\t\ttrain auc roc : 0.7912527801706163\n",
      "\t\tvalidation auc roc : 0.5475848118336213\n",
      "\tAUC ROC with n = 10 & d = 50\n",
      "\t\ttrain auc roc : 0.8063294925977301\n",
      "\t\tvalidation auc roc : 0.5401933992011773\n",
      "\tAUC ROC with n = 10 & d = 100\n",
      "\t\ttrain auc roc : 0.8063294925977301\n",
      "\t\tvalidation auc roc : 0.5401933992011773\n",
      "\tAUC ROC with n = 15 & d = 1\n",
      "\t\ttrain auc roc returns error with c = 10\n",
      "\t\tvalidation auc roc returns error with c = 10\n",
      "\tAUC ROC with n = 15 & d = 5\n",
      "\t\ttrain auc roc : 0.6584579731616117\n",
      "\t\tvalidation auc roc : 0.5922639041807404\n",
      "\tAUC ROC with n = 15 & d = 10\n",
      "\t\ttrain auc roc : 0.7515917401388605\n",
      "\t\tvalidation auc roc : 0.5453003863807884\n",
      "\tAUC ROC with n = 15 & d = 20\n",
      "\t\ttrain auc roc : 0.797914797984434\n",
      "\t\tvalidation auc roc : 0.5420227982461812\n",
      "\tAUC ROC with n = 15 & d = 50\n",
      "\t\ttrain auc roc : 0.812089744734424\n",
      "\t\tvalidation auc roc : 0.53706370879336\n",
      "\tAUC ROC with n = 15 & d = 100\n",
      "\t\ttrain auc roc : 0.812089744734424\n",
      "\t\tvalidation auc roc : 0.53706370879336\n",
      "\tAUC ROC with n = 20 & d = 1\n",
      "\t\ttrain auc roc returns error with c = 10\n",
      "\t\tvalidation auc roc returns error with c = 10\n",
      "\tAUC ROC with n = 20 & d = 5\n",
      "\t\ttrain auc roc : 0.6774320376656151\n",
      "\t\tvalidation auc roc : 0.5964647884495673\n",
      "\tAUC ROC with n = 20 & d = 10\n",
      "\t\ttrain auc roc : 0.7539540289937621\n",
      "\t\tvalidation auc roc : 0.5475545668504368\n",
      "\tAUC ROC with n = 20 & d = 20\n",
      "\t\ttrain auc roc : 0.8060209356684706\n",
      "\t\tvalidation auc roc : 0.5419088113376325\n",
      "\tAUC ROC with n = 20 & d = 50\n",
      "\t\ttrain auc roc : 0.8195427364275301\n",
      "\t\tvalidation auc roc : 0.5441371973035063\n",
      "\tAUC ROC with n = 20 & d = 100\n",
      "\t\ttrain auc roc : 0.8195427364275301\n",
      "\t\tvalidation auc roc : 0.5441371973035063\n",
      "\tAUC ROC with n = 50 & d = 1\n",
      "\t\ttrain auc roc returns error with c = 10\n",
      "\t\tvalidation auc roc returns error with c = 10\n",
      "\tAUC ROC with n = 50 & d = 5\n",
      "\t\ttrain auc roc : 0.6763291670076098\n",
      "\t\tvalidation auc roc : 0.5982454960257402\n",
      "\tAUC ROC with n = 50 & d = 10\n",
      "\t\ttrain auc roc : 0.7836239787127299\n",
      "\t\tvalidation auc roc : 0.563975846111472\n",
      "\tAUC ROC with n = 50 & d = 20\n",
      "\t\ttrain auc roc : 0.8331996081000389\n",
      "\t\tvalidation auc roc : 0.5371839992435189\n",
      "\tAUC ROC with n = 50 & d = 50\n",
      "\t\ttrain auc roc : 0.8555212049937421\n",
      "\t\tvalidation auc roc : 0.5445306355636677\n",
      "\tAUC ROC with n = 50 & d = 100\n",
      "\t\ttrain auc roc : 0.8555212049937421\n",
      "\t\tvalidation auc roc : 0.5445306355636677\n",
      "\tAUC ROC with n = 100 & d = 1\n",
      "\t\ttrain auc roc returns error with c = 10\n",
      "\t\tvalidation auc roc returns error with c = 10\n",
      "\tAUC ROC with n = 100 & d = 5\n",
      "\t\ttrain auc roc : 0.7264944165183884\n",
      "\t\tvalidation auc roc : 0.6803204095174898\n",
      "\tAUC ROC with n = 100 & d = 10\n",
      "\t\ttrain auc roc : 0.8059862293941058\n",
      "\t\tvalidation auc roc : 0.5799314854520364\n",
      "\tAUC ROC with n = 100 & d = 20\n",
      "\t\ttrain auc roc : 0.8700948064949\n",
      "\t\tvalidation auc roc : 0.5565396406392141\n",
      "\tAUC ROC with n = 100 & d = 50\n",
      "\t\ttrain auc roc : 0.8968869426231506\n",
      "\t\tvalidation auc roc : 0.5449704358566185\n",
      "\tAUC ROC with n = 100 & d = 100\n",
      "\t\ttrain auc roc : 0.8967963424402938\n",
      "\t\tvalidation auc roc : 0.5461639088285898\n",
      "\tAUC ROC with n = 200 & d = 1\n",
      "\t\ttrain auc roc returns error with c = 10\n",
      "\t\tvalidation auc roc returns error with c = 10\n",
      "\tAUC ROC with n = 200 & d = 5\n",
      "\t\ttrain auc roc : 0.7655106521385591\n",
      "\t\tvalidation auc roc : 0.6927463287541449\n",
      "\tAUC ROC with n = 200 & d = 10\n",
      "\t\ttrain auc roc : 0.8310598769482114\n",
      "\t\tvalidation auc roc : 0.5973646423885326\n",
      "\tAUC ROC with n = 200 & d = 20\n",
      "\t\ttrain auc roc : 0.8936355965250267\n",
      "\t\tvalidation auc roc : 0.5483265042088571\n",
      "\tAUC ROC with n = 200 & d = 50\n",
      "\t\ttrain auc roc : 0.9322505698521493\n",
      "\t\tvalidation auc roc : 0.5473034877566729\n",
      "\tAUC ROC with n = 200 & d = 100\n",
      "\t\ttrain auc roc : 0.9338986827000944\n",
      "\t\tvalidation auc roc : 0.5455912425689898\n",
      "\tAUC ROC with n = 5 & d = 1\n",
      "\t\ttrain auc roc returns error with c = 10\n",
      "\t\tvalidation auc roc returns error with c = 10\n",
      "\tAUC ROC with n = 5 & d = 5\n",
      "\t\ttrain auc roc : 0.6790129982126588\n",
      "\t\tvalidation auc roc : 0.5971950934050911\n",
      "\tAUC ROC with n = 5 & d = 10\n",
      "\t\ttrain auc roc : 0.7756339545118729\n",
      "\t\tvalidation auc roc : 0.5741982291412271\n",
      "\tAUC ROC with n = 5 & d = 20\n",
      "\t\ttrain auc roc : 0.827354120738718\n",
      "\t\tvalidation auc roc : 0.5393445533054481\n",
      "\tAUC ROC with n = 5 & d = 50\n",
      "\t\ttrain auc roc : 0.8549436009320963\n",
      "\t\tvalidation auc roc : 0.5446377854227684\n",
      "\tAUC ROC with n = 5 & d = 100\n",
      "\t\ttrain auc roc : 0.8549436009320963\n",
      "\t\tvalidation auc roc : 0.5446377854227684\n",
      "\tAUC ROC with n = 10 & d = 1\n",
      "\t\ttrain auc roc returns error with c = 10\n",
      "\t\tvalidation auc roc returns error with c = 10\n",
      "\tAUC ROC with n = 10 & d = 5\n",
      "\t\ttrain auc roc : 0.7168650705641435\n",
      "\t\tvalidation auc roc : 0.6382787747562602\n",
      "\tAUC ROC with n = 10 & d = 10\n",
      "\t\ttrain auc roc : 0.8028183895392821\n",
      "\t\tvalidation auc roc : 0.5811904990864507\n",
      "\tAUC ROC with n = 10 & d = 20\n",
      "\t\ttrain auc roc : 0.8697928575282146\n",
      "\t\tvalidation auc roc : 0.5375059492318598\n",
      "\tAUC ROC with n = 10 & d = 50\n",
      "\t\ttrain auc roc : 0.8931424229960698\n",
      "\t\tvalidation auc roc : 0.5399420841285226\n",
      "\tAUC ROC with n = 10 & d = 100\n",
      "\t\ttrain auc roc : 0.8942226902335135\n",
      "\t\tvalidation auc roc : 0.5393684968207008\n",
      "\tAUC ROC with n = 15 & d = 1\n",
      "\t\ttrain auc roc returns error with c = 10\n",
      "\t\tvalidation auc roc returns error with c = 10\n",
      "\tAUC ROC with n = 15 & d = 5\n",
      "\t\ttrain auc roc : 0.7556272976685456\n",
      "\t\tvalidation auc roc : 0.6388102631148881\n",
      "\tAUC ROC with n = 15 & d = 10\n",
      "\t\ttrain auc roc : 0.8178238960651281\n",
      "\t\tvalidation auc roc : 0.5785426718196869\n",
      "\tAUC ROC with n = 15 & d = 20\n",
      "\t\ttrain auc roc : 0.8891700453547848\n",
      "\t\tvalidation auc roc : 0.5460784087047219\n",
      "\tAUC ROC with n = 15 & d = 50\n",
      "\t\ttrain auc roc : 0.9148978950628234\n",
      "\t\tvalidation auc roc : 0.5450376817259031\n",
      "\tAUC ROC with n = 15 & d = 100\n",
      "\t\ttrain auc roc : 0.9163554806135654\n",
      "\t\tvalidation auc roc : 0.5396320232338089\n",
      "\tAUC ROC with n = 20 & d = 1\n",
      "\t\ttrain auc roc returns error with c = 10\n",
      "\t\tvalidation auc roc returns error with c = 10\n",
      "\tAUC ROC with n = 20 & d = 5\n",
      "\t\ttrain auc roc : 0.7655106521385591\n",
      "\t\tvalidation auc roc : 0.6394241569089939\n",
      "\tAUC ROC with n = 20 & d = 10\n",
      "\t\ttrain auc roc : 0.8217960632351429\n",
      "\t\tvalidation auc roc : 0.5949896649891728\n",
      "\tAUC ROC with n = 20 & d = 20\n",
      "\t\ttrain auc roc : 0.8963160963968879\n",
      "\t\tvalidation auc roc : 0.5438920306535187\n",
      "\tAUC ROC with n = 20 & d = 50\n",
      "\t\ttrain auc roc : 0.9279056113060514\n",
      "\t\tvalidation auc roc : 0.5410189655545692\n",
      "\tAUC ROC with n = 20 & d = 100\n",
      "\t\ttrain auc roc : 0.9334255867341086\n",
      "\t\tvalidation auc roc : 0.542419877975388\n",
      "\tAUC ROC with n = 50 & d = 1\n",
      "\t\ttrain auc roc returns error with c = 10\n",
      "\t\tvalidation auc roc returns error with c = 10\n",
      "\tAUC ROC with n = 50 & d = 5\n",
      "\t\ttrain auc roc : 0.7824092557135292\n",
      "\t\tvalidation auc roc : 0.6199365761402844\n",
      "\tAUC ROC with n = 50 & d = 10\n",
      "\t\ttrain auc roc : 0.8617163078631375\n",
      "\t\tvalidation auc roc : 0.586801662660232\n",
      "\tAUC ROC with n = 50 & d = 20\n",
      "\t\ttrain auc roc : 0.9242584440566203\n",
      "\t\tvalidation auc roc : 0.5398672415400678\n",
      "\tAUC ROC with n = 50 & d = 50\n",
      "\t\ttrain auc roc : 0.9664202880594853\n",
      "\t\tvalidation auc roc : 0.533785461137346\n",
      "\tAUC ROC with n = 50 & d = 100\n",
      "\t\ttrain auc roc : 0.9761737894425498\n",
      "\t\tvalidation auc roc : 0.5315749030144719\n",
      "\tAUC ROC with n = 100 & d = 1\n",
      "\t\ttrain auc roc : 0.8808954619124798\n",
      "\t\tvalidation auc roc returns error with c = 10\n",
      "\tAUC ROC with n = 100 & d = 5\n",
      "\t\ttrain auc roc : 0.796227639073276\n",
      "\t\tvalidation auc roc : 0.6074265457148619\n",
      "\tAUC ROC with n = 100 & d = 10\n",
      "\t\ttrain auc roc : 0.8806731198090576\n",
      "\t\tvalidation auc roc : 0.5694134525978651\n",
      "\tAUC ROC with n = 100 & d = 20\n",
      "\t\ttrain auc roc : 0.9374608122911614\n",
      "\t\tvalidation auc roc : 0.5325798095412992\n",
      "\tAUC ROC with n = 100 & d = 50\n",
      "\t\ttrain auc roc : 0.9782291326493419\n",
      "\t\tvalidation auc roc : 0.5317029997853825\n",
      "\tAUC ROC with n = 100 & d = 100\n",
      "\t\ttrain auc roc : 0.9908381207034226\n",
      "\t\tvalidation auc roc : 0.525233471351619\n",
      "\tAUC ROC with n = 200 & d = 1\n",
      "\t\ttrain auc roc : 0.8809263311451495\n",
      "\t\tvalidation auc roc returns error with c = 10\n",
      "\tAUC ROC with n = 200 & d = 5\n",
      "\t\ttrain auc roc : 0.8159202948129799\n",
      "\t\tvalidation auc roc : 0.6137543117836874\n",
      "\tAUC ROC with n = 200 & d = 10\n",
      "\t\ttrain auc roc : 0.8958210573455583\n",
      "\t\tvalidation auc roc : 0.5615639769091136\n",
      "\tAUC ROC with n = 200 & d = 20\n",
      "\t\ttrain auc roc : 0.9567143087555033\n",
      "\t\tvalidation auc roc : 0.5259472250338942\n",
      "\tAUC ROC with n = 200 & d = 50\n",
      "\t\ttrain auc roc : 0.9881972114008399\n",
      "\t\tvalidation auc roc : 0.5277089196602781\n",
      "\tAUC ROC with n = 200 & d = 100\n",
      "\t\ttrain auc roc : 0.9959723719311235\n",
      "\t\tvalidation auc roc : 0.5243647648257573\n"
     ]
    }
   ],
   "source": [
    "rf_scores = []\n",
    "print('Random forest classifier')\n",
    "for d in [5, 10, 15, 20, 50, None]:\n",
    "    for n in [5, 10, 15, 20, 50, 100, 200]:\n",
    "        rf = RandomForestClassifier(random_state=RANDOM_STATE, n_estimators=n, max_depth = d,)\n",
    "        rf.fit(X_train_transformed, y_train)\n",
    "        y_train_pred = rf.predict(X_train_transformed)\n",
    "        y_validation_pred = rf.predict(X_validation_transformed)\n",
    "        \n",
    "        print(f'\\tAUC ROC with n = {n} & d = {d}')\n",
    "        try:\n",
    "            auc_train_rf = roc_auc_score(y_train_pred, y_train)\n",
    "            print(f'\\t\\ttrain auc roc : {auc_train_rf}')\n",
    "            \n",
    "        except:\n",
    "            print(f'\\t\\ttrain auc roc returns error with n = {n} & d = {d}')\n",
    "            auc_train_rf = None\n",
    "        try:\n",
    "            auc_val_rf = roc_auc_score(y_validation_pred, y_validation)\n",
    "            print(f'\\t\\tvalidation auc roc: {auc_val_rf}')\n",
    "        except:\n",
    "            print(f'\\t\\tvalidation auc roc returns error with n = {n} & d = {d}')\n",
    "            auc_val_rf = None\n",
    "        finally:\n",
    "            rf_scores.append((n, d, auc_train_rf, auc_val_rf))\n",
    "\n",
    "print('************************')\n",
    "print('Decision tree classifier')            \n",
    "dt_scores = []\n",
    "for d in [5, 10, 15, 20, 50, None]:\n",
    "    for l in [1, 3, 5, 10, 15, 20, 30, 50, 100]:\n",
    "        dt = DecisionTreeClassifier(random_state = RANDOM_STATE, max_depth = d, min_samples_leaf= l, )\n",
    "        dt.fit(X_train_transformed, y_train)\n",
    "        y_train_pred = dt.predict(X_train_transformed)\n",
    "        y_validation_pred = dt.predict(X_validation_transformed)\n",
    "\n",
    "        print(f'\\tAUC ROC with d = {d} & l = {l}')\n",
    "        try:\n",
    "            auc_train_dt = roc_auc_score(y_train_pred, y_train)\n",
    "            print(f'\\t\\ttrain auc roc : {auc_train_dt}')\n",
    "            \n",
    "        except:\n",
    "            print(f'\\t\\ttrain auc roc returns error with d = {d} & l = {l}')\n",
    "            auc_train_dt = None\n",
    "        try:\n",
    "            auc_val_dt = roc_auc_score(y_validation_pred, y_validation)\n",
    "            print(f'\\t\\tvalidation auc roc : {auc_val_dt}')\n",
    "            \n",
    "        except:\n",
    "            print(f'\\t\\tvalidation auc roc returns error with d = {d} & l = {l}')\n",
    "            auc_val_dt = None\n",
    "        finally:\n",
    "            dt_scores.append((d, l, auc_train_dt, auc_val_dt))\n",
    "\n",
    "print('************************')            \n",
    "print('Logistic regression')\n",
    "lr_scores = []\n",
    "for c in [0.001, 0.01, 0.1, 1, 10]:\n",
    "    lr = LogisticRegression(C = c, max_iter=1000)\n",
    "    lr.fit(X_train_transformed, y_train)\n",
    "    y_train_pred = lr.predict(X_train_transformed)\n",
    "    y_validation_pred = lr.predict(X_validation_transformed)\n",
    "    print(f'\\tAUC ROC with C = {c}')\n",
    "    try:\n",
    "        auc_train_lr = roc_auc_score(y_train_pred, y_train)\n",
    "        print(f'\\t\\ttrain auc roc : {auc_train_lr}')\n",
    "        \n",
    "    except:\n",
    "        print(f'\\t\\ttrain auc roc returns error with c = {c}')       \n",
    "        auc_train_lr = None\n",
    "    try:\n",
    "        auc_val_lr = roc_auc_score(y_validation_pred, y_validation)\n",
    "        print(f'\\t\\tvalidation auc roc : {auc_val_lr}')\n",
    "        \n",
    "    except:\n",
    "        print(f'\\t\\tvalidation auc roc returns error with c = {c}')\n",
    "        auc_val_lr = None\n",
    "    finally:\n",
    "        lr_scores.append((c, auc_train_lr, auc_val_lr))\n",
    "\n",
    "\n",
    "print('************************')\n",
    "print('XGBoost classifier')\n",
    "xgb_scores = []\n",
    "for e in [0.001, 0.01, 0.1,]:\n",
    "    for n in [5, 10, 15, 20, 50, 100, 200]:\n",
    "        for d in [1, 5, 10, 20, 50, 100]:\n",
    "            xgb_model = xgb.XGBClassifier(\n",
    "                eta = e, \n",
    "                max_depth = d,\n",
    "                min_child_weight = 1,\n",
    "                objective = 'binary:logistic',\n",
    "                nthread = 12,\n",
    "                seed = 1,\n",
    "                verbosity = 1,\n",
    "                n_estimators = n\n",
    "            )\n",
    "            print(f'\\tAUC ROC with n = {n} & d = {d}')\n",
    "            xgb_model.fit(X_train_transformed, y_train, )\n",
    "            y_train_pred = xgb_model.predict(X_train_transformed)\n",
    "            y_validation_pred = xgb_model.predict(X_validation_transformed)\n",
    "            try:\n",
    "                auc_train_xgb = roc_auc_score(y_train_pred, y_train)\n",
    "                print(f'\\t\\ttrain auc roc : {auc_train_xgb}')\n",
    "                \n",
    "            except:\n",
    "                print(f'\\t\\ttrain auc roc returns error with c = {c}')       \n",
    "                auc_train_xgb = None\n",
    "            try:\n",
    "                auc_val_xgb = roc_auc_score(y_validation_pred, y_validation)\n",
    "                print(f'\\t\\tvalidation auc roc : {auc_val_xgb}')\n",
    "                \n",
    "            except:\n",
    "                print(f'\\t\\tvalidation auc roc returns error with c = {c}')\n",
    "                auc_val_xgb = None\n",
    "            finally:\n",
    "                xgb_scores.append((e, n, d, auc_train_xgb, auc_val_xgb))"
   ]
  },
  {
   "cell_type": "code",
   "execution_count": 57,
   "id": "101e7c42-6ee7-4b10-9d48-7fc61a7f560d",
   "metadata": {
    "tags": []
   },
   "outputs": [],
   "source": [
    "df_rf_scores = pd.DataFrame(rf_scores, columns = ['n_estimators', 'max_depth', 'train_score', 'validation_score'])\n",
    "df_dt_scores = pd.DataFrame(dt_scores, columns = ['max_depth', 'min_samples_leaf', 'train_score', 'validation_score'])\n",
    "df_lr_scores = pd.DataFrame(lr_scores, columns = ['C', 'train_score', 'validation_score'])\n",
    "df_xgb_scores = pd.DataFrame(xgb_scores, columns = ['eta', 'n_estimators', 'max_depth', 'train_score', 'validation_score'])"
   ]
  },
  {
   "cell_type": "markdown",
   "id": "8beaa849-6107-44a0-b18d-cca5e7ad2022",
   "metadata": {
    "tags": []
   },
   "source": [
    "##### Get best parameters for each model"
   ]
  },
  {
   "cell_type": "code",
   "execution_count": 58,
   "id": "a20da783-fcf7-4d54-aa40-a4d15cf870b9",
   "metadata": {
    "tags": []
   },
   "outputs": [
    {
     "data": {
      "text/html": [
       "<div>\n",
       "<style scoped>\n",
       "    .dataframe tbody tr th:only-of-type {\n",
       "        vertical-align: middle;\n",
       "    }\n",
       "\n",
       "    .dataframe tbody tr th {\n",
       "        vertical-align: top;\n",
       "    }\n",
       "\n",
       "    .dataframe thead th {\n",
       "        text-align: right;\n",
       "    }\n",
       "</style>\n",
       "<table border=\"1\" class=\"dataframe\">\n",
       "  <thead>\n",
       "    <tr style=\"text-align: right;\">\n",
       "      <th></th>\n",
       "      <th>n_estimators</th>\n",
       "      <th>max_depth</th>\n",
       "      <th>train_score</th>\n",
       "      <th>validation_score</th>\n",
       "    </tr>\n",
       "  </thead>\n",
       "  <tbody>\n",
       "    <tr>\n",
       "      <th>0</th>\n",
       "      <td>5</td>\n",
       "      <td>5.0</td>\n",
       "      <td>0.738075</td>\n",
       "      <td>0.879845</td>\n",
       "    </tr>\n",
       "    <tr>\n",
       "      <th>13</th>\n",
       "      <td>200</td>\n",
       "      <td>10.0</td>\n",
       "      <td>0.882679</td>\n",
       "      <td>0.695950</td>\n",
       "    </tr>\n",
       "    <tr>\n",
       "      <th>11</th>\n",
       "      <td>50</td>\n",
       "      <td>10.0</td>\n",
       "      <td>0.882694</td>\n",
       "      <td>0.669587</td>\n",
       "    </tr>\n",
       "    <tr>\n",
       "      <th>12</th>\n",
       "      <td>100</td>\n",
       "      <td>10.0</td>\n",
       "      <td>0.882819</td>\n",
       "      <td>0.644748</td>\n",
       "    </tr>\n",
       "    <tr>\n",
       "      <th>10</th>\n",
       "      <td>20</td>\n",
       "      <td>10.0</td>\n",
       "      <td>0.870482</td>\n",
       "      <td>0.637407</td>\n",
       "    </tr>\n",
       "  </tbody>\n",
       "</table>\n",
       "</div>"
      ],
      "text/plain": [
       "    n_estimators  max_depth  train_score  validation_score\n",
       "0              5        5.0     0.738075          0.879845\n",
       "13           200       10.0     0.882679          0.695950\n",
       "11            50       10.0     0.882694          0.669587\n",
       "12           100       10.0     0.882819          0.644748\n",
       "10            20       10.0     0.870482          0.637407"
      ]
     },
     "metadata": {},
     "output_type": "display_data"
    },
    {
     "data": {
      "text/html": [
       "<div>\n",
       "<style scoped>\n",
       "    .dataframe tbody tr th:only-of-type {\n",
       "        vertical-align: middle;\n",
       "    }\n",
       "\n",
       "    .dataframe tbody tr th {\n",
       "        vertical-align: top;\n",
       "    }\n",
       "\n",
       "    .dataframe thead th {\n",
       "        text-align: right;\n",
       "    }\n",
       "</style>\n",
       "<table border=\"1\" class=\"dataframe\">\n",
       "  <thead>\n",
       "    <tr style=\"text-align: right;\">\n",
       "      <th></th>\n",
       "      <th>max_depth</th>\n",
       "      <th>min_samples_leaf</th>\n",
       "      <th>train_score</th>\n",
       "      <th>validation_score</th>\n",
       "    </tr>\n",
       "  </thead>\n",
       "  <tbody>\n",
       "    <tr>\n",
       "      <th>15</th>\n",
       "      <td>10.0</td>\n",
       "      <td>30</td>\n",
       "      <td>0.678664</td>\n",
       "      <td>0.604128</td>\n",
       "    </tr>\n",
       "    <tr>\n",
       "      <th>0</th>\n",
       "      <td>5.0</td>\n",
       "      <td>1</td>\n",
       "      <td>0.740712</td>\n",
       "      <td>0.602205</td>\n",
       "    </tr>\n",
       "    <tr>\n",
       "      <th>17</th>\n",
       "      <td>10.0</td>\n",
       "      <td>100</td>\n",
       "      <td>0.644065</td>\n",
       "      <td>0.600728</td>\n",
       "    </tr>\n",
       "    <tr>\n",
       "      <th>26</th>\n",
       "      <td>15.0</td>\n",
       "      <td>100</td>\n",
       "      <td>0.644065</td>\n",
       "      <td>0.600728</td>\n",
       "    </tr>\n",
       "    <tr>\n",
       "      <th>35</th>\n",
       "      <td>20.0</td>\n",
       "      <td>100</td>\n",
       "      <td>0.644065</td>\n",
       "      <td>0.600728</td>\n",
       "    </tr>\n",
       "  </tbody>\n",
       "</table>\n",
       "</div>"
      ],
      "text/plain": [
       "    max_depth  min_samples_leaf  train_score  validation_score\n",
       "15       10.0                30     0.678664          0.604128\n",
       "0         5.0                 1     0.740712          0.602205\n",
       "17       10.0               100     0.644065          0.600728\n",
       "26       15.0               100     0.644065          0.600728\n",
       "35       20.0               100     0.644065          0.600728"
      ]
     },
     "metadata": {},
     "output_type": "display_data"
    },
    {
     "data": {
      "text/html": [
       "<div>\n",
       "<style scoped>\n",
       "    .dataframe tbody tr th:only-of-type {\n",
       "        vertical-align: middle;\n",
       "    }\n",
       "\n",
       "    .dataframe tbody tr th {\n",
       "        vertical-align: top;\n",
       "    }\n",
       "\n",
       "    .dataframe thead th {\n",
       "        text-align: right;\n",
       "    }\n",
       "</style>\n",
       "<table border=\"1\" class=\"dataframe\">\n",
       "  <thead>\n",
       "    <tr style=\"text-align: right;\">\n",
       "      <th></th>\n",
       "      <th>C</th>\n",
       "      <th>train_score</th>\n",
       "      <th>validation_score</th>\n",
       "    </tr>\n",
       "  </thead>\n",
       "  <tbody>\n",
       "    <tr>\n",
       "      <th>2</th>\n",
       "      <td>0.100</td>\n",
       "      <td>0.780978</td>\n",
       "      <td>0.879881</td>\n",
       "    </tr>\n",
       "    <tr>\n",
       "      <th>3</th>\n",
       "      <td>1.000</td>\n",
       "      <td>0.723142</td>\n",
       "      <td>0.779941</td>\n",
       "    </tr>\n",
       "    <tr>\n",
       "      <th>4</th>\n",
       "      <td>10.000</td>\n",
       "      <td>0.738210</td>\n",
       "      <td>0.713263</td>\n",
       "    </tr>\n",
       "    <tr>\n",
       "      <th>0</th>\n",
       "      <td>0.001</td>\n",
       "      <td>NaN</td>\n",
       "      <td>NaN</td>\n",
       "    </tr>\n",
       "    <tr>\n",
       "      <th>1</th>\n",
       "      <td>0.010</td>\n",
       "      <td>NaN</td>\n",
       "      <td>NaN</td>\n",
       "    </tr>\n",
       "  </tbody>\n",
       "</table>\n",
       "</div>"
      ],
      "text/plain": [
       "        C  train_score  validation_score\n",
       "2   0.100     0.780978          0.879881\n",
       "3   1.000     0.723142          0.779941\n",
       "4  10.000     0.738210          0.713263\n",
       "0   0.001          NaN               NaN\n",
       "1   0.010          NaN               NaN"
      ]
     },
     "metadata": {},
     "output_type": "display_data"
    },
    {
     "data": {
      "text/html": [
       "<div>\n",
       "<style scoped>\n",
       "    .dataframe tbody tr th:only-of-type {\n",
       "        vertical-align: middle;\n",
       "    }\n",
       "\n",
       "    .dataframe tbody tr th {\n",
       "        vertical-align: top;\n",
       "    }\n",
       "\n",
       "    .dataframe thead th {\n",
       "        text-align: right;\n",
       "    }\n",
       "</style>\n",
       "<table border=\"1\" class=\"dataframe\">\n",
       "  <thead>\n",
       "    <tr style=\"text-align: right;\">\n",
       "      <th></th>\n",
       "      <th>eta</th>\n",
       "      <th>n_estimators</th>\n",
       "      <th>max_depth</th>\n",
       "      <th>train_score</th>\n",
       "      <th>validation_score</th>\n",
       "    </tr>\n",
       "  </thead>\n",
       "  <tbody>\n",
       "    <tr>\n",
       "      <th>79</th>\n",
       "      <td>0.01</td>\n",
       "      <td>200</td>\n",
       "      <td>5</td>\n",
       "      <td>0.765511</td>\n",
       "      <td>0.692746</td>\n",
       "    </tr>\n",
       "    <tr>\n",
       "      <th>73</th>\n",
       "      <td>0.01</td>\n",
       "      <td>100</td>\n",
       "      <td>5</td>\n",
       "      <td>0.726494</td>\n",
       "      <td>0.680320</td>\n",
       "    </tr>\n",
       "    <tr>\n",
       "      <th>103</th>\n",
       "      <td>0.10</td>\n",
       "      <td>20</td>\n",
       "      <td>5</td>\n",
       "      <td>0.765511</td>\n",
       "      <td>0.639424</td>\n",
       "    </tr>\n",
       "    <tr>\n",
       "      <th>97</th>\n",
       "      <td>0.10</td>\n",
       "      <td>15</td>\n",
       "      <td>5</td>\n",
       "      <td>0.755627</td>\n",
       "      <td>0.638810</td>\n",
       "    </tr>\n",
       "    <tr>\n",
       "      <th>91</th>\n",
       "      <td>0.10</td>\n",
       "      <td>10</td>\n",
       "      <td>5</td>\n",
       "      <td>0.716865</td>\n",
       "      <td>0.638279</td>\n",
       "    </tr>\n",
       "  </tbody>\n",
       "</table>\n",
       "</div>"
      ],
      "text/plain": [
       "      eta  n_estimators  max_depth  train_score  validation_score\n",
       "79   0.01           200          5     0.765511          0.692746\n",
       "73   0.01           100          5     0.726494          0.680320\n",
       "103  0.10            20          5     0.765511          0.639424\n",
       "97   0.10            15          5     0.755627          0.638810\n",
       "91   0.10            10          5     0.716865          0.638279"
      ]
     },
     "metadata": {},
     "output_type": "display_data"
    }
   ],
   "source": [
    "from IPython.display import display\n",
    "\n",
    "display(df_rf_scores.sort_values(by = ['validation_score', 'train_score'], ascending = (False, False)).head())\n",
    "display(df_dt_scores.sort_values(by = ['validation_score', 'train_score'], ascending = (False, False)).head())\n",
    "display(df_lr_scores.sort_values(by = ['validation_score', 'train_score'], ascending = (False, False)).head())\n",
    "display(df_xgb_scores.sort_values(by = ['validation_score', 'train_score'], ascending = (False, False)).head())"
   ]
  },
  {
   "cell_type": "code",
   "execution_count": 59,
   "id": "2d875a32-e54c-4c18-b571-d0920154cff6",
   "metadata": {
    "tags": []
   },
   "outputs": [],
   "source": [
    "dt_max_depth = 10\n",
    "dt_min_samples_leaf = 30\n",
    "\n",
    "rf_n_estimators = 100\n",
    "rf_max_depth = 10\n",
    "\n",
    "lr_c = 0.100\n",
    "\n",
    "xgb_eta = 0.01\n",
    "xgb_n_estimators = 100\n",
    "xgb_max_depth = 5"
   ]
  },
  {
   "cell_type": "raw",
   "id": "8069cb6c-b28d-4816-94d1-34174d4b86a9",
   "metadata": {},
   "source": [
    "We select best parameters which give both high validation score and training score."
   ]
  },
  {
   "cell_type": "markdown",
   "id": "0614c4ba-01bb-4995-9817-349ffe8d84b6",
   "metadata": {
    "tags": []
   },
   "source": [
    "##### Use Cross validation on each best model"
   ]
  },
  {
   "cell_type": "code",
   "execution_count": 60,
   "id": "6537b499-9baa-41d9-92f6-b128ff75b66e",
   "metadata": {
    "tags": []
   },
   "outputs": [],
   "source": [
    "dt_model = DecisionTreeClassifier(random_state = RANDOM_STATE, max_depth = dt_max_depth, min_samples_leaf= dt_min_samples_leaf)\n",
    "lr_model = LogisticRegression(C = lr_c, max_iter=1000)\n",
    "rf_model = RandomForestClassifier(random_state=RANDOM_STATE, n_estimators= rf_n_estimators, max_depth = rf_max_depth, )\n",
    "xgb_model = xgb.XGBClassifier(\n",
    "                eta = xgb_eta, \n",
    "                max_depth = xgb_max_depth,\n",
    "                min_child_weight = 1,\n",
    "                objective = 'binary:logistic',\n",
    "                nthread = 12,\n",
    "                random_state = RANDOM_STATE,\n",
    "                verbosity = 1,\n",
    "                n_estimators = xgb_n_estimators\n",
    "            )"
   ]
  },
  {
   "cell_type": "raw",
   "id": "4ba66399-bace-45cf-ae67-a702c7a58d34",
   "metadata": {},
   "source": [
    "Use cross validation to select the best model."
   ]
  },
  {
   "cell_type": "code",
   "execution_count": 61,
   "id": "9bbb5f4c-10c3-4a47-bb0e-3210ec23b414",
   "metadata": {
    "tags": []
   },
   "outputs": [],
   "source": [
    "stratifiedkfold = StratifiedKFold(n_splits=5, shuffle=True, random_state=RANDOM_STATE)"
   ]
  },
  {
   "cell_type": "code",
   "execution_count": 62,
   "id": "754d7965-4f00-4e5e-b69a-db8088f43f83",
   "metadata": {
    "scrolled": true,
    "tags": []
   },
   "outputs": [
    {
     "data": {
      "text/html": [
       "<div>\n",
       "<style scoped>\n",
       "    .dataframe tbody tr th:only-of-type {\n",
       "        vertical-align: middle;\n",
       "    }\n",
       "\n",
       "    .dataframe tbody tr th {\n",
       "        vertical-align: top;\n",
       "    }\n",
       "\n",
       "    .dataframe thead th {\n",
       "        text-align: right;\n",
       "    }\n",
       "</style>\n",
       "<table border=\"1\" class=\"dataframe\">\n",
       "  <thead>\n",
       "    <tr style=\"text-align: right;\">\n",
       "      <th></th>\n",
       "      <th>model</th>\n",
       "      <th>auc_roc_score_val</th>\n",
       "      <th>auc_roc_score_test</th>\n",
       "    </tr>\n",
       "  </thead>\n",
       "  <tbody>\n",
       "    <tr>\n",
       "      <th>0</th>\n",
       "      <td>dt_best</td>\n",
       "      <td>0.597954</td>\n",
       "      <td>0.602373</td>\n",
       "    </tr>\n",
       "    <tr>\n",
       "      <th>1</th>\n",
       "      <td>lr_best</td>\n",
       "      <td>0.657288</td>\n",
       "      <td>0.568416</td>\n",
       "    </tr>\n",
       "    <tr>\n",
       "      <th>2</th>\n",
       "      <td>rf_best</td>\n",
       "      <td>0.698272</td>\n",
       "      <td>0.594447</td>\n",
       "    </tr>\n",
       "    <tr>\n",
       "      <th>3</th>\n",
       "      <td>xgb_best</td>\n",
       "      <td>0.633990</td>\n",
       "      <td>0.673686</td>\n",
       "    </tr>\n",
       "  </tbody>\n",
       "</table>\n",
       "</div>"
      ],
      "text/plain": [
       "      model  auc_roc_score_val  auc_roc_score_test\n",
       "0   dt_best           0.597954            0.602373\n",
       "1   lr_best           0.657288            0.568416\n",
       "2   rf_best           0.698272            0.594447\n",
       "3  xgb_best           0.633990            0.673686"
      ]
     },
     "execution_count": 62,
     "metadata": {},
     "output_type": "execute_result"
    }
   ],
   "source": [
    "df_full_train_to_model = pd.concat([df_train, df_validation,])\n",
    "X_full_train = df_full_train_to_model.drop(columns = ['response'])\n",
    "y_full_train = df_full_train_to_model['response']\n",
    "\n",
    "scores_cv = []\n",
    "for train_idx, val_idx in stratifiedkfold.split(X_full_train, y_full_train):\n",
    "\n",
    "    X_train_ = X_full_train.iloc[train_idx]\n",
    "    y_train_ = y_full_train.iloc[train_idx]\n",
    "    \n",
    "    X_validation_ = X_full_train.iloc[val_idx]\n",
    "    y_validation_ = y_full_train.iloc[val_idx]\n",
    "    \n",
    "    numerical_selected_features_cv = X_train_.select_dtypes(include = ['integer', 'float']).columns.tolist()\n",
    "    categorical_selected_features_cv = X_train_.select_dtypes(include = ['object']).columns.tolist()\n",
    "\n",
    "    preprocessor_cv = ColumnTransformer(\n",
    "        transformers=[\n",
    "            ('num', numerical_transformer, numerical_selected_features_cv),\n",
    "            ('cat', categorical_transformer, categorical_selected_features_cv),\n",
    "        ])\n",
    "\n",
    "    pipeline_cv = Pipeline(steps=[('preprocessor', preprocessor_cv)])\n",
    "    pipeline_cv.fit(X_train_, y_train_)\n",
    "    \n",
    "    all_columns_cv = pipeline_cv.named_steps['preprocessor'].transformers_[0][2] + pipeline_cv.named_steps['preprocessor'].transformers_[1][1].get_feature_names_out().tolist()\n",
    "    X_train_transformed_cv = pd.DataFrame(pipeline_cv.named_steps['preprocessor'].transform(X_train_), columns = all_columns_cv)\n",
    "    X_validation_transformed_cv = pd.DataFrame(pipeline_cv.named_steps['preprocessor'].transform(X_validation_), columns = all_columns_cv)\n",
    "    X_test_transformed_cv =  pd.DataFrame(pipeline_cv.named_steps['preprocessor'].transform(X_test), columns = all_columns_cv)\n",
    "    \n",
    "    dt_model.fit(X_train_transformed_cv, y_train_)\n",
    "    y_train_pred = dt_model.predict(X_train_transformed_cv)\n",
    "    y_validation_pred = dt_model.predict(X_validation_transformed_cv)\n",
    "    y_test_pred = dt_model.predict(X_test_transformed_cv)\n",
    "    try: \n",
    "        val_score = roc_auc_score(y_validation_pred, y_validation_)\n",
    "    except:\n",
    "        val_score = None\n",
    "    try:\n",
    "        test_score = roc_auc_score(y_test_pred, y_test)\n",
    "    except:\n",
    "        test_score = None\n",
    "    finally:\n",
    "        scores_cv.append(('dt_best', val_score, test_score))        \n",
    "        \n",
    "    lr_model.fit(X_train_transformed_cv, y_train_)\n",
    "    y_train_pred = lr_model.predict(X_train_transformed_cv)\n",
    "    y_validation_pred = lr_model.predict(X_validation_transformed_cv)\n",
    "    y_test_pred = lr_model.predict(X_test_transformed_cv)\n",
    "    try: \n",
    "        val_score = roc_auc_score(y_validation_pred, y_validation_)\n",
    "    except:\n",
    "        val_score = None\n",
    "    try:\n",
    "        test_score = roc_auc_score(y_test_pred, y_test)\n",
    "    except:\n",
    "        test_score = None\n",
    "    finally:\n",
    "        scores_cv.append(('lr_best', val_score, test_score))        \n",
    "    \n",
    "    rf_model.fit(X_train_transformed_cv, y_train_)\n",
    "    y_train_pred = rf_model.predict(X_train_transformed_cv)\n",
    "    y_validation_pred = rf_model.predict(X_validation_transformed_cv)    \n",
    "    y_test_pred = rf_model.predict(X_test_transformed_cv)\n",
    "    try: \n",
    "        val_score = roc_auc_score(y_validation_pred, y_validation_)\n",
    "    except:\n",
    "        val_score = None\n",
    "    try:\n",
    "        test_score = roc_auc_score(y_test_pred, y_test)\n",
    "    except:\n",
    "        test_score = None\n",
    "    finally:\n",
    "        scores_cv.append(('rf_best', val_score, test_score))  \n",
    "\n",
    "    xgb_model.fit(X_train_transformed_cv, y_train_)\n",
    "    y_train_pred = xgb_model.predict(X_train_transformed_cv)\n",
    "    y_validation_pred = xgb_model.predict(X_validation_transformed_cv)\n",
    "    y_test_pred = xgb_model.predict(X_test_transformed_cv)\n",
    "    try: \n",
    "        val_score = roc_auc_score(y_validation_pred, y_validation_)\n",
    "    except:\n",
    "        val_score = None\n",
    "    try:\n",
    "        test_score = roc_auc_score(y_test_pred, y_test)\n",
    "    except:\n",
    "        test_score = None\n",
    "    finally:\n",
    "        scores_cv.append(('xgb_best', val_score, test_score))\n",
    "\n",
    "       \n",
    "df_scores_cv = pd.DataFrame(scores_cv, columns = ['model', 'auc_roc_score_val', 'auc_roc_score_test'])\n",
    "df_scores_cv.groupby(['model'], as_index=False).agg({'auc_roc_score_val' : 'mean', 'auc_roc_score_test' : 'mean'})"
   ]
  },
  {
   "cell_type": "markdown",
   "id": "4b3a2287-47a1-4ee4-bbba-91b5c5717754",
   "metadata": {
    "tags": []
   },
   "source": [
    "##### Choosing baseline model"
   ]
  },
  {
   "cell_type": "raw",
   "id": "242b4931-59ad-4d34-a514-f94dd1e6dcab",
   "metadata": {},
   "source": [
    "We keep XGBosst as our baseline model, it gives us the best score on test dataset."
   ]
  },
  {
   "cell_type": "markdown",
   "id": "e1410c80-ff47-460d-a480-d84b79410d2d",
   "metadata": {
    "tags": []
   },
   "source": [
    "##### Train baseline model"
   ]
  },
  {
   "cell_type": "code",
   "execution_count": 63,
   "id": "a1de30db-63e4-4c31-912c-11b476fcd90d",
   "metadata": {
    "tags": []
   },
   "outputs": [
    {
     "data": {
      "text/html": [
       "<style>#sk-container-id-3 {color: black;}#sk-container-id-3 pre{padding: 0;}#sk-container-id-3 div.sk-toggleable {background-color: white;}#sk-container-id-3 label.sk-toggleable__label {cursor: pointer;display: block;width: 100%;margin-bottom: 0;padding: 0.3em;box-sizing: border-box;text-align: center;}#sk-container-id-3 label.sk-toggleable__label-arrow:before {content: \"▸\";float: left;margin-right: 0.25em;color: #696969;}#sk-container-id-3 label.sk-toggleable__label-arrow:hover:before {color: black;}#sk-container-id-3 div.sk-estimator:hover label.sk-toggleable__label-arrow:before {color: black;}#sk-container-id-3 div.sk-toggleable__content {max-height: 0;max-width: 0;overflow: hidden;text-align: left;background-color: #f0f8ff;}#sk-container-id-3 div.sk-toggleable__content pre {margin: 0.2em;color: black;border-radius: 0.25em;background-color: #f0f8ff;}#sk-container-id-3 input.sk-toggleable__control:checked~div.sk-toggleable__content {max-height: 200px;max-width: 100%;overflow: auto;}#sk-container-id-3 input.sk-toggleable__control:checked~label.sk-toggleable__label-arrow:before {content: \"▾\";}#sk-container-id-3 div.sk-estimator input.sk-toggleable__control:checked~label.sk-toggleable__label {background-color: #d4ebff;}#sk-container-id-3 div.sk-label input.sk-toggleable__control:checked~label.sk-toggleable__label {background-color: #d4ebff;}#sk-container-id-3 input.sk-hidden--visually {border: 0;clip: rect(1px 1px 1px 1px);clip: rect(1px, 1px, 1px, 1px);height: 1px;margin: -1px;overflow: hidden;padding: 0;position: absolute;width: 1px;}#sk-container-id-3 div.sk-estimator {font-family: monospace;background-color: #f0f8ff;border: 1px dotted black;border-radius: 0.25em;box-sizing: border-box;margin-bottom: 0.5em;}#sk-container-id-3 div.sk-estimator:hover {background-color: #d4ebff;}#sk-container-id-3 div.sk-parallel-item::after {content: \"\";width: 100%;border-bottom: 1px solid gray;flex-grow: 1;}#sk-container-id-3 div.sk-label:hover label.sk-toggleable__label {background-color: #d4ebff;}#sk-container-id-3 div.sk-serial::before {content: \"\";position: absolute;border-left: 1px solid gray;box-sizing: border-box;top: 0;bottom: 0;left: 50%;z-index: 0;}#sk-container-id-3 div.sk-serial {display: flex;flex-direction: column;align-items: center;background-color: white;padding-right: 0.2em;padding-left: 0.2em;position: relative;}#sk-container-id-3 div.sk-item {position: relative;z-index: 1;}#sk-container-id-3 div.sk-parallel {display: flex;align-items: stretch;justify-content: center;background-color: white;position: relative;}#sk-container-id-3 div.sk-item::before, #sk-container-id-3 div.sk-parallel-item::before {content: \"\";position: absolute;border-left: 1px solid gray;box-sizing: border-box;top: 0;bottom: 0;left: 50%;z-index: -1;}#sk-container-id-3 div.sk-parallel-item {display: flex;flex-direction: column;z-index: 1;position: relative;background-color: white;}#sk-container-id-3 div.sk-parallel-item:first-child::after {align-self: flex-end;width: 50%;}#sk-container-id-3 div.sk-parallel-item:last-child::after {align-self: flex-start;width: 50%;}#sk-container-id-3 div.sk-parallel-item:only-child::after {width: 0;}#sk-container-id-3 div.sk-dashed-wrapped {border: 1px dashed gray;margin: 0 0.4em 0.5em 0.4em;box-sizing: border-box;padding-bottom: 0.4em;background-color: white;}#sk-container-id-3 div.sk-label label {font-family: monospace;font-weight: bold;display: inline-block;line-height: 1.2em;}#sk-container-id-3 div.sk-label-container {text-align: center;}#sk-container-id-3 div.sk-container {/* jupyter's `normalize.less` sets `[hidden] { display: none; }` but bootstrap.min.css set `[hidden] { display: none !important; }` so we also need the `!important` here to be able to override the default hidden behavior on the sphinx rendered scikit-learn.org. See: https://github.com/scikit-learn/scikit-learn/issues/21755 */display: inline-block !important;position: relative;}#sk-container-id-3 div.sk-text-repr-fallback {display: none;}</style><div id=\"sk-container-id-3\" class=\"sk-top-container\"><div class=\"sk-text-repr-fallback\"><pre>Pipeline(steps=[(&#x27;preprocessor&#x27;,\n",
       "                 ColumnTransformer(transformers=[(&#x27;num&#x27;,\n",
       "                                                  Pipeline(steps=[(&#x27;scaler&#x27;,\n",
       "                                                                   StandardScaler())]),\n",
       "                                                  [&#x27;reco_policy_premium_log&#x27;,\n",
       "                                                   &#x27;upper_age&#x27;, &#x27;lower_age&#x27;]),\n",
       "                                                 (&#x27;cat&#x27;,\n",
       "                                                  Pipeline(steps=[(&#x27;onehot&#x27;,\n",
       "                                                                   OneHotEncoder(drop=&#x27;first&#x27;,\n",
       "                                                                                 handle_unknown=&#x27;ignore&#x27;,\n",
       "                                                                                 sparse_output=False))]),\n",
       "                                                  [&#x27;city_code_group&#x27;,\n",
       "                                                   &#x27;is_spouse&#x27;,\n",
       "                                                   &#x27;health_indicator&#x27;,\n",
       "                                                   &#x27;reco_policy_cat_group...\n",
       "                               eval_metric=None, feature_types=None, gamma=None,\n",
       "                               gpu_id=None, grow_policy=None,\n",
       "                               importance_type=None,\n",
       "                               interaction_constraints=None, learning_rate=None,\n",
       "                               max_bin=None, max_cat_threshold=None,\n",
       "                               max_cat_to_onehot=None, max_delta_step=None,\n",
       "                               max_depth=5, max_leaves=None, min_child_weight=1,\n",
       "                               missing=nan, monotone_constraints=None,\n",
       "                               n_estimators=100, n_jobs=None, nthread=12,\n",
       "                               num_parallel_tree=None, ...))])</pre><b>In a Jupyter environment, please rerun this cell to show the HTML representation or trust the notebook. <br />On GitHub, the HTML representation is unable to render, please try loading this page with nbviewer.org.</b></div><div class=\"sk-container\" hidden><div class=\"sk-item sk-dashed-wrapped\"><div class=\"sk-label-container\"><div class=\"sk-label sk-toggleable\"><input class=\"sk-toggleable__control sk-hidden--visually\" id=\"sk-estimator-id-14\" type=\"checkbox\" ><label for=\"sk-estimator-id-14\" class=\"sk-toggleable__label sk-toggleable__label-arrow\">Pipeline</label><div class=\"sk-toggleable__content\"><pre>Pipeline(steps=[(&#x27;preprocessor&#x27;,\n",
       "                 ColumnTransformer(transformers=[(&#x27;num&#x27;,\n",
       "                                                  Pipeline(steps=[(&#x27;scaler&#x27;,\n",
       "                                                                   StandardScaler())]),\n",
       "                                                  [&#x27;reco_policy_premium_log&#x27;,\n",
       "                                                   &#x27;upper_age&#x27;, &#x27;lower_age&#x27;]),\n",
       "                                                 (&#x27;cat&#x27;,\n",
       "                                                  Pipeline(steps=[(&#x27;onehot&#x27;,\n",
       "                                                                   OneHotEncoder(drop=&#x27;first&#x27;,\n",
       "                                                                                 handle_unknown=&#x27;ignore&#x27;,\n",
       "                                                                                 sparse_output=False))]),\n",
       "                                                  [&#x27;city_code_group&#x27;,\n",
       "                                                   &#x27;is_spouse&#x27;,\n",
       "                                                   &#x27;health_indicator&#x27;,\n",
       "                                                   &#x27;reco_policy_cat_group...\n",
       "                               eval_metric=None, feature_types=None, gamma=None,\n",
       "                               gpu_id=None, grow_policy=None,\n",
       "                               importance_type=None,\n",
       "                               interaction_constraints=None, learning_rate=None,\n",
       "                               max_bin=None, max_cat_threshold=None,\n",
       "                               max_cat_to_onehot=None, max_delta_step=None,\n",
       "                               max_depth=5, max_leaves=None, min_child_weight=1,\n",
       "                               missing=nan, monotone_constraints=None,\n",
       "                               n_estimators=100, n_jobs=None, nthread=12,\n",
       "                               num_parallel_tree=None, ...))])</pre></div></div></div><div class=\"sk-serial\"><div class=\"sk-item sk-dashed-wrapped\"><div class=\"sk-label-container\"><div class=\"sk-label sk-toggleable\"><input class=\"sk-toggleable__control sk-hidden--visually\" id=\"sk-estimator-id-15\" type=\"checkbox\" ><label for=\"sk-estimator-id-15\" class=\"sk-toggleable__label sk-toggleable__label-arrow\">preprocessor: ColumnTransformer</label><div class=\"sk-toggleable__content\"><pre>ColumnTransformer(transformers=[(&#x27;num&#x27;,\n",
       "                                 Pipeline(steps=[(&#x27;scaler&#x27;, StandardScaler())]),\n",
       "                                 [&#x27;reco_policy_premium_log&#x27;, &#x27;upper_age&#x27;,\n",
       "                                  &#x27;lower_age&#x27;]),\n",
       "                                (&#x27;cat&#x27;,\n",
       "                                 Pipeline(steps=[(&#x27;onehot&#x27;,\n",
       "                                                  OneHotEncoder(drop=&#x27;first&#x27;,\n",
       "                                                                handle_unknown=&#x27;ignore&#x27;,\n",
       "                                                                sparse_output=False))]),\n",
       "                                 [&#x27;city_code_group&#x27;, &#x27;is_spouse&#x27;,\n",
       "                                  &#x27;health_indicator&#x27;, &#x27;reco_policy_cat_group&#x27;,\n",
       "                                  &#x27;accomodation_type&#x27;,\n",
       "                                  &#x27;reco_insurance_type&#x27;])])</pre></div></div></div><div class=\"sk-parallel\"><div class=\"sk-parallel-item\"><div class=\"sk-item\"><div class=\"sk-label-container\"><div class=\"sk-label sk-toggleable\"><input class=\"sk-toggleable__control sk-hidden--visually\" id=\"sk-estimator-id-16\" type=\"checkbox\" ><label for=\"sk-estimator-id-16\" class=\"sk-toggleable__label sk-toggleable__label-arrow\">num</label><div class=\"sk-toggleable__content\"><pre>[&#x27;reco_policy_premium_log&#x27;, &#x27;upper_age&#x27;, &#x27;lower_age&#x27;]</pre></div></div></div><div class=\"sk-serial\"><div class=\"sk-item\"><div class=\"sk-serial\"><div class=\"sk-item\"><div class=\"sk-estimator sk-toggleable\"><input class=\"sk-toggleable__control sk-hidden--visually\" id=\"sk-estimator-id-17\" type=\"checkbox\" ><label for=\"sk-estimator-id-17\" class=\"sk-toggleable__label sk-toggleable__label-arrow\">StandardScaler</label><div class=\"sk-toggleable__content\"><pre>StandardScaler()</pre></div></div></div></div></div></div></div></div><div class=\"sk-parallel-item\"><div class=\"sk-item\"><div class=\"sk-label-container\"><div class=\"sk-label sk-toggleable\"><input class=\"sk-toggleable__control sk-hidden--visually\" id=\"sk-estimator-id-18\" type=\"checkbox\" ><label for=\"sk-estimator-id-18\" class=\"sk-toggleable__label sk-toggleable__label-arrow\">cat</label><div class=\"sk-toggleable__content\"><pre>[&#x27;city_code_group&#x27;, &#x27;is_spouse&#x27;, &#x27;health_indicator&#x27;, &#x27;reco_policy_cat_group&#x27;, &#x27;accomodation_type&#x27;, &#x27;reco_insurance_type&#x27;]</pre></div></div></div><div class=\"sk-serial\"><div class=\"sk-item\"><div class=\"sk-serial\"><div class=\"sk-item\"><div class=\"sk-estimator sk-toggleable\"><input class=\"sk-toggleable__control sk-hidden--visually\" id=\"sk-estimator-id-19\" type=\"checkbox\" ><label for=\"sk-estimator-id-19\" class=\"sk-toggleable__label sk-toggleable__label-arrow\">OneHotEncoder</label><div class=\"sk-toggleable__content\"><pre>OneHotEncoder(drop=&#x27;first&#x27;, handle_unknown=&#x27;ignore&#x27;, sparse_output=False)</pre></div></div></div></div></div></div></div></div></div></div><div class=\"sk-item\"><div class=\"sk-estimator sk-toggleable\"><input class=\"sk-toggleable__control sk-hidden--visually\" id=\"sk-estimator-id-20\" type=\"checkbox\" ><label for=\"sk-estimator-id-20\" class=\"sk-toggleable__label sk-toggleable__label-arrow\">XGBClassifier</label><div class=\"sk-toggleable__content\"><pre>XGBClassifier(base_score=None, booster=None, callbacks=None,\n",
       "              colsample_bylevel=None, colsample_bynode=None,\n",
       "              colsample_bytree=None, early_stopping_rounds=None,\n",
       "              enable_categorical=False, eta=0.01, eval_metric=None,\n",
       "              feature_types=None, gamma=None, gpu_id=None, grow_policy=None,\n",
       "              importance_type=None, interaction_constraints=None,\n",
       "              learning_rate=None, max_bin=None, max_cat_threshold=None,\n",
       "              max_cat_to_onehot=None, max_delta_step=None, max_depth=5,\n",
       "              max_leaves=None, min_child_weight=1, missing=nan,\n",
       "              monotone_constraints=None, n_estimators=100, n_jobs=None,\n",
       "              nthread=12, num_parallel_tree=None, ...)</pre></div></div></div></div></div></div></div>"
      ],
      "text/plain": [
       "Pipeline(steps=[('preprocessor',\n",
       "                 ColumnTransformer(transformers=[('num',\n",
       "                                                  Pipeline(steps=[('scaler',\n",
       "                                                                   StandardScaler())]),\n",
       "                                                  ['reco_policy_premium_log',\n",
       "                                                   'upper_age', 'lower_age']),\n",
       "                                                 ('cat',\n",
       "                                                  Pipeline(steps=[('onehot',\n",
       "                                                                   OneHotEncoder(drop='first',\n",
       "                                                                                 handle_unknown='ignore',\n",
       "                                                                                 sparse_output=False))]),\n",
       "                                                  ['city_code_group',\n",
       "                                                   'is_spouse',\n",
       "                                                   'health_indicator',\n",
       "                                                   'reco_policy_cat_group...\n",
       "                               eval_metric=None, feature_types=None, gamma=None,\n",
       "                               gpu_id=None, grow_policy=None,\n",
       "                               importance_type=None,\n",
       "                               interaction_constraints=None, learning_rate=None,\n",
       "                               max_bin=None, max_cat_threshold=None,\n",
       "                               max_cat_to_onehot=None, max_delta_step=None,\n",
       "                               max_depth=5, max_leaves=None, min_child_weight=1,\n",
       "                               missing=nan, monotone_constraints=None,\n",
       "                               n_estimators=100, n_jobs=None, nthread=12,\n",
       "                               num_parallel_tree=None, ...))])"
      ]
     },
     "execution_count": 63,
     "metadata": {},
     "output_type": "execute_result"
    }
   ],
   "source": [
    "pipeline_baseline_model = Pipeline(steps=[\n",
    "    ('preprocessor', preprocessor_cv),\n",
    "    ('classifier', xgb_model)\n",
    "])\n",
    "\n",
    "pipeline_baseline_model.fit(X_full_train, y_full_train)\n"
   ]
  },
  {
   "cell_type": "markdown",
   "id": "2a31f663-f46b-4788-8052-4c24e02ede11",
   "metadata": {
    "tags": []
   },
   "source": [
    "##### Evaluate baseline model"
   ]
  },
  {
   "cell_type": "code",
   "execution_count": 64,
   "id": "be2ccd79-a535-412f-ae51-c8cb60c74c18",
   "metadata": {
    "tags": []
   },
   "outputs": [],
   "source": [
    "y_proba = pipeline_baseline_model.predict_proba(X_test)[:, 1]\n",
    "y_pred = pipeline_baseline_model.predict(X_test)"
   ]
  },
  {
   "cell_type": "code",
   "execution_count": 65,
   "id": "99933d7a-fead-493e-8eb8-804da6e345cb",
   "metadata": {
    "tags": []
   },
   "outputs": [
    {
     "name": "stdout",
     "output_type": "stream",
     "text": [
      "0.6992967466316137\n"
     ]
    }
   ],
   "source": [
    "print(roc_auc_score(y_pred, y_test))"
   ]
  },
  {
   "cell_type": "markdown",
   "id": "0b97e8ad-51be-492e-9ddb-ed67f102349e",
   "metadata": {
    "tags": []
   },
   "source": [
    "#### Improve baseline model"
   ]
  },
  {
   "cell_type": "raw",
   "id": "e38bb56e-88c5-4402-8060-80af55b1d217",
   "metadata": {},
   "source": [
    "Let's use features selection to improve baseline model. "
   ]
  },
  {
   "cell_type": "markdown",
   "id": "eea4ec07-c670-4e02-be7c-c9aa7888a0d6",
   "metadata": {},
   "source": [
    "##### Use grid search to find best features combination"
   ]
  },
  {
   "cell_type": "code",
   "execution_count": 66,
   "id": "acfbcfd8-00a2-40c3-ba6d-0f2b79ce24c4",
   "metadata": {
    "tags": []
   },
   "outputs": [
    {
     "data": {
      "text/plain": [
       "382"
      ]
     },
     "execution_count": 66,
     "metadata": {},
     "output_type": "execute_result"
    }
   ],
   "source": [
    "numerical_features_gs = ['reco_policy_premium_log', 'upper_age', 'lower_age',]\n",
    "categorical_features_gs = [\n",
    "   'city_code_group','is_spouse', 'health_indicator', 'reco_policy_cat_group','accomodation_type', 'reco_insurance_type'\n",
    "]\n",
    "\n",
    "# Create feature combinations\n",
    "all_features = numerical_features_gs + categorical_features_gs\n",
    "feature_combinations = []\n",
    "for r in range(4, len(all_features) + 1):\n",
    "    feature_combinations.extend(combinations(all_features, r))\n",
    "\n",
    "feature_combinations = [list(comb) for comb in feature_combinations]    \n",
    "len(feature_combinations)"
   ]
  },
  {
   "cell_type": "code",
   "execution_count": 67,
   "id": "0b9db451-8f42-414a-87bb-a44f8a18b5ac",
   "metadata": {},
   "outputs": [],
   "source": [
    "# Create a custom transformer for feature selection\n",
    "class ColumnSelector(BaseEstimator, TransformerMixin):\n",
    "    def __init__(self, columns):\n",
    "        self.columns = columns\n",
    "\n",
    "    def fit(self, X, y=None):\n",
    "        return self\n",
    "\n",
    "    def transform(self, X):\n",
    "        return X[self.columns]"
   ]
  },
  {
   "cell_type": "code",
   "execution_count": 68,
   "id": "d5ab9a9c-f237-41a9-9bc2-923537cfa477",
   "metadata": {
    "tags": []
   },
   "outputs": [],
   "source": [
    "# Preprocessing for numerical data\n",
    "numerical_transformer = Pipeline(steps=[\n",
    "    ('scaler', StandardScaler())\n",
    "])\n",
    "\n",
    "# Preprocessing for categorical data\n",
    "categorical_transformer = Pipeline(steps=[\n",
    "    ('onehot', OneHotEncoder(drop = 'first', handle_unknown='ignore', sparse_output = False))\n",
    "])\n",
    "\n",
    "\n",
    "# Combine preprocessing steps\n",
    "preprocessor_gs = ColumnTransformer(\n",
    "    transformers=[\n",
    "        ('num', numerical_transformer, make_column_selector(dtype_include=['int64', 'float64'])),\n",
    "        ('cat', categorical_transformer, make_column_selector(dtype_include=['object']))\n",
    "    ])\n",
    "pipeline_gs = Pipeline([\n",
    "    ('selector', ColumnSelector(columns=[])), \n",
    "    ('preprocessor',  preprocessor_gs),\n",
    "    ('classifier', RandomForestClassifier(random_state=RANDOM_STATE, n_estimators= rf_n_estimators, max_depth = rf_max_depth, ))     \n",
    "])\n",
    "\n",
    "# Paramètres pour le modèle KMeans\n",
    "param_grid = {\n",
    "    'selector__columns': feature_combinations,  # Combinaisons de variables\n",
    "}\n",
    "\n",
    "grid_search = GridSearchCV(\n",
    "    pipeline_gs,\n",
    "    param_grid=param_grid,\n",
    "    scoring= 'roc_auc',\n",
    "    refit=True,\n",
    "    cv=5,  \n",
    "    verbose=3,\n",
    ")"
   ]
  },
  {
   "cell_type": "code",
   "execution_count": 70,
   "id": "bd6109ff-5936-4eb7-92ca-9018d36558ba",
   "metadata": {
    "tags": []
   },
   "outputs": [],
   "source": [
    "# grid_search_results  = grid_search.fit(X_full_train, y_full_train)"
   ]
  },
  {
   "cell_type": "code",
   "execution_count": 71,
   "id": "f51c0dd6-3f06-4dcc-8b0f-bb94941598ef",
   "metadata": {
    "tags": []
   },
   "outputs": [],
   "source": [
    "# # Output the best parameters and corresponding ROC AUC score\n",
    "# print(f'Best parameters: {grid_search_results.best_params_}')"
   ]
  },
  {
   "cell_type": "code",
   "execution_count": 72,
   "id": "4bd4f5b6-9759-4c93-84f5-11f5586be376",
   "metadata": {
    "tags": []
   },
   "outputs": [],
   "source": [
    "# grid_search_results_df = pd.DataFrame(grid_search_results.cv_results_)"
   ]
  },
  {
   "cell_type": "code",
   "execution_count": 73,
   "id": "daba63e1-1741-4027-a5da-40a6d9fb8b7f",
   "metadata": {
    "tags": []
   },
   "outputs": [],
   "source": [
    "# grid_search_results_df.sort_values(by = ['rank_test_score']).head(10)"
   ]
  },
  {
   "cell_type": "code",
   "execution_count": 74,
   "id": "b446613f-3277-40f4-84f3-95383a8e3ca6",
   "metadata": {
    "tags": []
   },
   "outputs": [],
   "source": [
    "# grid_search_results_df.to_csv('data/grid_search_results_df.csv', index=False, encoding = 'utf-8-sig', mode = 'w')"
   ]
  },
  {
   "cell_type": "markdown",
   "id": "75692992-a66e-4a30-8dda-c22c706cc6be",
   "metadata": {
    "tags": []
   },
   "source": [
    "##### Build best model based on best features combination"
   ]
  },
  {
   "cell_type": "raw",
   "id": "ba8dd2bb-93b8-4bbf-b4d9-f9721120c5a5",
   "metadata": {},
   "source": [
    "After analysing grid search results, we observe that the mean scores for top combination columns are very close. In this situation ranking solely based on the mean can be misleading. \n",
    "One approach that can be used is ranking based on standard deviation scores. \n",
    "A lower standard deviation indicates that the performance of the model is consistent across the cross-validation folds suggesting that the model is less sensitive to variations in the data and is likely more robust."
   ]
  },
  {
   "cell_type": "code",
   "execution_count": 75,
   "id": "36eb6873-4338-4326-b534-84dc39d928ed",
   "metadata": {
    "tags": []
   },
   "outputs": [],
   "source": [
    "best_features = ['reco_policy_premium_log', 'city_code_group', 'health_indicator', 'reco_policy_cat_group', 'accomodation_type']"
   ]
  },
  {
   "cell_type": "code",
   "execution_count": 76,
   "id": "b44e6cc4-62a7-4ce1-9829-88b2b730e11e",
   "metadata": {
    "tags": []
   },
   "outputs": [],
   "source": [
    "X_full_train_selected = X_full_train[best_features]"
   ]
  },
  {
   "cell_type": "code",
   "execution_count": 77,
   "id": "fa1aaffa-80af-4792-8647-4d9070206ea6",
   "metadata": {
    "tags": []
   },
   "outputs": [
    {
     "data": {
      "text/html": [
       "<style>#sk-container-id-4 {color: black;}#sk-container-id-4 pre{padding: 0;}#sk-container-id-4 div.sk-toggleable {background-color: white;}#sk-container-id-4 label.sk-toggleable__label {cursor: pointer;display: block;width: 100%;margin-bottom: 0;padding: 0.3em;box-sizing: border-box;text-align: center;}#sk-container-id-4 label.sk-toggleable__label-arrow:before {content: \"▸\";float: left;margin-right: 0.25em;color: #696969;}#sk-container-id-4 label.sk-toggleable__label-arrow:hover:before {color: black;}#sk-container-id-4 div.sk-estimator:hover label.sk-toggleable__label-arrow:before {color: black;}#sk-container-id-4 div.sk-toggleable__content {max-height: 0;max-width: 0;overflow: hidden;text-align: left;background-color: #f0f8ff;}#sk-container-id-4 div.sk-toggleable__content pre {margin: 0.2em;color: black;border-radius: 0.25em;background-color: #f0f8ff;}#sk-container-id-4 input.sk-toggleable__control:checked~div.sk-toggleable__content {max-height: 200px;max-width: 100%;overflow: auto;}#sk-container-id-4 input.sk-toggleable__control:checked~label.sk-toggleable__label-arrow:before {content: \"▾\";}#sk-container-id-4 div.sk-estimator input.sk-toggleable__control:checked~label.sk-toggleable__label {background-color: #d4ebff;}#sk-container-id-4 div.sk-label input.sk-toggleable__control:checked~label.sk-toggleable__label {background-color: #d4ebff;}#sk-container-id-4 input.sk-hidden--visually {border: 0;clip: rect(1px 1px 1px 1px);clip: rect(1px, 1px, 1px, 1px);height: 1px;margin: -1px;overflow: hidden;padding: 0;position: absolute;width: 1px;}#sk-container-id-4 div.sk-estimator {font-family: monospace;background-color: #f0f8ff;border: 1px dotted black;border-radius: 0.25em;box-sizing: border-box;margin-bottom: 0.5em;}#sk-container-id-4 div.sk-estimator:hover {background-color: #d4ebff;}#sk-container-id-4 div.sk-parallel-item::after {content: \"\";width: 100%;border-bottom: 1px solid gray;flex-grow: 1;}#sk-container-id-4 div.sk-label:hover label.sk-toggleable__label {background-color: #d4ebff;}#sk-container-id-4 div.sk-serial::before {content: \"\";position: absolute;border-left: 1px solid gray;box-sizing: border-box;top: 0;bottom: 0;left: 50%;z-index: 0;}#sk-container-id-4 div.sk-serial {display: flex;flex-direction: column;align-items: center;background-color: white;padding-right: 0.2em;padding-left: 0.2em;position: relative;}#sk-container-id-4 div.sk-item {position: relative;z-index: 1;}#sk-container-id-4 div.sk-parallel {display: flex;align-items: stretch;justify-content: center;background-color: white;position: relative;}#sk-container-id-4 div.sk-item::before, #sk-container-id-4 div.sk-parallel-item::before {content: \"\";position: absolute;border-left: 1px solid gray;box-sizing: border-box;top: 0;bottom: 0;left: 50%;z-index: -1;}#sk-container-id-4 div.sk-parallel-item {display: flex;flex-direction: column;z-index: 1;position: relative;background-color: white;}#sk-container-id-4 div.sk-parallel-item:first-child::after {align-self: flex-end;width: 50%;}#sk-container-id-4 div.sk-parallel-item:last-child::after {align-self: flex-start;width: 50%;}#sk-container-id-4 div.sk-parallel-item:only-child::after {width: 0;}#sk-container-id-4 div.sk-dashed-wrapped {border: 1px dashed gray;margin: 0 0.4em 0.5em 0.4em;box-sizing: border-box;padding-bottom: 0.4em;background-color: white;}#sk-container-id-4 div.sk-label label {font-family: monospace;font-weight: bold;display: inline-block;line-height: 1.2em;}#sk-container-id-4 div.sk-label-container {text-align: center;}#sk-container-id-4 div.sk-container {/* jupyter's `normalize.less` sets `[hidden] { display: none; }` but bootstrap.min.css set `[hidden] { display: none !important; }` so we also need the `!important` here to be able to override the default hidden behavior on the sphinx rendered scikit-learn.org. See: https://github.com/scikit-learn/scikit-learn/issues/21755 */display: inline-block !important;position: relative;}#sk-container-id-4 div.sk-text-repr-fallback {display: none;}</style><div id=\"sk-container-id-4\" class=\"sk-top-container\"><div class=\"sk-text-repr-fallback\"><pre>Pipeline(steps=[(&#x27;preprocessor&#x27;,\n",
       "                 ColumnTransformer(transformers=[(&#x27;num&#x27;,\n",
       "                                                  Pipeline(steps=[(&#x27;scaler&#x27;,\n",
       "                                                                   StandardScaler())]),\n",
       "                                                  [&#x27;reco_policy_premium_log&#x27;]),\n",
       "                                                 (&#x27;cat&#x27;,\n",
       "                                                  Pipeline(steps=[(&#x27;onehot&#x27;,\n",
       "                                                                   OneHotEncoder(drop=&#x27;first&#x27;,\n",
       "                                                                                 handle_unknown=&#x27;ignore&#x27;,\n",
       "                                                                                 sparse_output=False))]),\n",
       "                                                  [&#x27;city_code_group&#x27;,\n",
       "                                                   &#x27;health_indicator&#x27;,\n",
       "                                                   &#x27;reco_policy_cat_group&#x27;,\n",
       "                                                   &#x27;accomodation_type&#x27;])])),\n",
       "                (&#x27;classif...\n",
       "                               eval_metric=None, feature_types=None, gamma=None,\n",
       "                               gpu_id=None, grow_policy=None,\n",
       "                               importance_type=None,\n",
       "                               interaction_constraints=None, learning_rate=None,\n",
       "                               max_bin=None, max_cat_threshold=None,\n",
       "                               max_cat_to_onehot=None, max_delta_step=None,\n",
       "                               max_depth=5, max_leaves=None, min_child_weight=1,\n",
       "                               missing=nan, monotone_constraints=None,\n",
       "                               n_estimators=100, n_jobs=None, nthread=12,\n",
       "                               num_parallel_tree=None, ...))])</pre><b>In a Jupyter environment, please rerun this cell to show the HTML representation or trust the notebook. <br />On GitHub, the HTML representation is unable to render, please try loading this page with nbviewer.org.</b></div><div class=\"sk-container\" hidden><div class=\"sk-item sk-dashed-wrapped\"><div class=\"sk-label-container\"><div class=\"sk-label sk-toggleable\"><input class=\"sk-toggleable__control sk-hidden--visually\" id=\"sk-estimator-id-21\" type=\"checkbox\" ><label for=\"sk-estimator-id-21\" class=\"sk-toggleable__label sk-toggleable__label-arrow\">Pipeline</label><div class=\"sk-toggleable__content\"><pre>Pipeline(steps=[(&#x27;preprocessor&#x27;,\n",
       "                 ColumnTransformer(transformers=[(&#x27;num&#x27;,\n",
       "                                                  Pipeline(steps=[(&#x27;scaler&#x27;,\n",
       "                                                                   StandardScaler())]),\n",
       "                                                  [&#x27;reco_policy_premium_log&#x27;]),\n",
       "                                                 (&#x27;cat&#x27;,\n",
       "                                                  Pipeline(steps=[(&#x27;onehot&#x27;,\n",
       "                                                                   OneHotEncoder(drop=&#x27;first&#x27;,\n",
       "                                                                                 handle_unknown=&#x27;ignore&#x27;,\n",
       "                                                                                 sparse_output=False))]),\n",
       "                                                  [&#x27;city_code_group&#x27;,\n",
       "                                                   &#x27;health_indicator&#x27;,\n",
       "                                                   &#x27;reco_policy_cat_group&#x27;,\n",
       "                                                   &#x27;accomodation_type&#x27;])])),\n",
       "                (&#x27;classif...\n",
       "                               eval_metric=None, feature_types=None, gamma=None,\n",
       "                               gpu_id=None, grow_policy=None,\n",
       "                               importance_type=None,\n",
       "                               interaction_constraints=None, learning_rate=None,\n",
       "                               max_bin=None, max_cat_threshold=None,\n",
       "                               max_cat_to_onehot=None, max_delta_step=None,\n",
       "                               max_depth=5, max_leaves=None, min_child_weight=1,\n",
       "                               missing=nan, monotone_constraints=None,\n",
       "                               n_estimators=100, n_jobs=None, nthread=12,\n",
       "                               num_parallel_tree=None, ...))])</pre></div></div></div><div class=\"sk-serial\"><div class=\"sk-item sk-dashed-wrapped\"><div class=\"sk-label-container\"><div class=\"sk-label sk-toggleable\"><input class=\"sk-toggleable__control sk-hidden--visually\" id=\"sk-estimator-id-22\" type=\"checkbox\" ><label for=\"sk-estimator-id-22\" class=\"sk-toggleable__label sk-toggleable__label-arrow\">preprocessor: ColumnTransformer</label><div class=\"sk-toggleable__content\"><pre>ColumnTransformer(transformers=[(&#x27;num&#x27;,\n",
       "                                 Pipeline(steps=[(&#x27;scaler&#x27;, StandardScaler())]),\n",
       "                                 [&#x27;reco_policy_premium_log&#x27;]),\n",
       "                                (&#x27;cat&#x27;,\n",
       "                                 Pipeline(steps=[(&#x27;onehot&#x27;,\n",
       "                                                  OneHotEncoder(drop=&#x27;first&#x27;,\n",
       "                                                                handle_unknown=&#x27;ignore&#x27;,\n",
       "                                                                sparse_output=False))]),\n",
       "                                 [&#x27;city_code_group&#x27;, &#x27;health_indicator&#x27;,\n",
       "                                  &#x27;reco_policy_cat_group&#x27;,\n",
       "                                  &#x27;accomodation_type&#x27;])])</pre></div></div></div><div class=\"sk-parallel\"><div class=\"sk-parallel-item\"><div class=\"sk-item\"><div class=\"sk-label-container\"><div class=\"sk-label sk-toggleable\"><input class=\"sk-toggleable__control sk-hidden--visually\" id=\"sk-estimator-id-23\" type=\"checkbox\" ><label for=\"sk-estimator-id-23\" class=\"sk-toggleable__label sk-toggleable__label-arrow\">num</label><div class=\"sk-toggleable__content\"><pre>[&#x27;reco_policy_premium_log&#x27;]</pre></div></div></div><div class=\"sk-serial\"><div class=\"sk-item\"><div class=\"sk-serial\"><div class=\"sk-item\"><div class=\"sk-estimator sk-toggleable\"><input class=\"sk-toggleable__control sk-hidden--visually\" id=\"sk-estimator-id-24\" type=\"checkbox\" ><label for=\"sk-estimator-id-24\" class=\"sk-toggleable__label sk-toggleable__label-arrow\">StandardScaler</label><div class=\"sk-toggleable__content\"><pre>StandardScaler()</pre></div></div></div></div></div></div></div></div><div class=\"sk-parallel-item\"><div class=\"sk-item\"><div class=\"sk-label-container\"><div class=\"sk-label sk-toggleable\"><input class=\"sk-toggleable__control sk-hidden--visually\" id=\"sk-estimator-id-25\" type=\"checkbox\" ><label for=\"sk-estimator-id-25\" class=\"sk-toggleable__label sk-toggleable__label-arrow\">cat</label><div class=\"sk-toggleable__content\"><pre>[&#x27;city_code_group&#x27;, &#x27;health_indicator&#x27;, &#x27;reco_policy_cat_group&#x27;, &#x27;accomodation_type&#x27;]</pre></div></div></div><div class=\"sk-serial\"><div class=\"sk-item\"><div class=\"sk-serial\"><div class=\"sk-item\"><div class=\"sk-estimator sk-toggleable\"><input class=\"sk-toggleable__control sk-hidden--visually\" id=\"sk-estimator-id-26\" type=\"checkbox\" ><label for=\"sk-estimator-id-26\" class=\"sk-toggleable__label sk-toggleable__label-arrow\">OneHotEncoder</label><div class=\"sk-toggleable__content\"><pre>OneHotEncoder(drop=&#x27;first&#x27;, handle_unknown=&#x27;ignore&#x27;, sparse_output=False)</pre></div></div></div></div></div></div></div></div></div></div><div class=\"sk-item\"><div class=\"sk-estimator sk-toggleable\"><input class=\"sk-toggleable__control sk-hidden--visually\" id=\"sk-estimator-id-27\" type=\"checkbox\" ><label for=\"sk-estimator-id-27\" class=\"sk-toggleable__label sk-toggleable__label-arrow\">XGBClassifier</label><div class=\"sk-toggleable__content\"><pre>XGBClassifier(base_score=None, booster=None, callbacks=None,\n",
       "              colsample_bylevel=None, colsample_bynode=None,\n",
       "              colsample_bytree=None, early_stopping_rounds=None,\n",
       "              enable_categorical=False, eta=0.01, eval_metric=None,\n",
       "              feature_types=None, gamma=None, gpu_id=None, grow_policy=None,\n",
       "              importance_type=None, interaction_constraints=None,\n",
       "              learning_rate=None, max_bin=None, max_cat_threshold=None,\n",
       "              max_cat_to_onehot=None, max_delta_step=None, max_depth=5,\n",
       "              max_leaves=None, min_child_weight=1, missing=nan,\n",
       "              monotone_constraints=None, n_estimators=100, n_jobs=None,\n",
       "              nthread=12, num_parallel_tree=None, ...)</pre></div></div></div></div></div></div></div>"
      ],
      "text/plain": [
       "Pipeline(steps=[('preprocessor',\n",
       "                 ColumnTransformer(transformers=[('num',\n",
       "                                                  Pipeline(steps=[('scaler',\n",
       "                                                                   StandardScaler())]),\n",
       "                                                  ['reco_policy_premium_log']),\n",
       "                                                 ('cat',\n",
       "                                                  Pipeline(steps=[('onehot',\n",
       "                                                                   OneHotEncoder(drop='first',\n",
       "                                                                                 handle_unknown='ignore',\n",
       "                                                                                 sparse_output=False))]),\n",
       "                                                  ['city_code_group',\n",
       "                                                   'health_indicator',\n",
       "                                                   'reco_policy_cat_group',\n",
       "                                                   'accomodation_type'])])),\n",
       "                ('classif...\n",
       "                               eval_metric=None, feature_types=None, gamma=None,\n",
       "                               gpu_id=None, grow_policy=None,\n",
       "                               importance_type=None,\n",
       "                               interaction_constraints=None, learning_rate=None,\n",
       "                               max_bin=None, max_cat_threshold=None,\n",
       "                               max_cat_to_onehot=None, max_delta_step=None,\n",
       "                               max_depth=5, max_leaves=None, min_child_weight=1,\n",
       "                               missing=nan, monotone_constraints=None,\n",
       "                               n_estimators=100, n_jobs=None, nthread=12,\n",
       "                               num_parallel_tree=None, ...))])"
      ]
     },
     "execution_count": 77,
     "metadata": {},
     "output_type": "execute_result"
    }
   ],
   "source": [
    "preprocessor_final = ColumnTransformer(\n",
    "    transformers=[\n",
    "        ('num', numerical_transformer, X_full_train_selected.select_dtypes(include = ['integer', 'float']).columns.tolist()),\n",
    "        ('cat', categorical_transformer, X_full_train_selected.select_dtypes(include = ['object']).columns.tolist()),\n",
    "])\n",
    "\n",
    "pipeline_best_model = Pipeline(steps=[\n",
    "    ('preprocessor', preprocessor_final),\n",
    "    ('classifier', xgb_model)\n",
    "])\n",
    "\n",
    "pipeline_best_model.fit(X_full_train_selected, y_full_train)\n"
   ]
  },
  {
   "cell_type": "markdown",
   "id": "ea01ae18-88d3-48cb-a566-7421417e8a4c",
   "metadata": {},
   "source": [
    "##### Save final model"
   ]
  },
  {
   "cell_type": "code",
   "execution_count": 78,
   "id": "d475fe5a-d26e-4469-95c2-33c8ddc01f29",
   "metadata": {
    "tags": []
   },
   "outputs": [],
   "source": [
    "# Save pipeline to a file\n",
    "with open('model/pipeline_best_model.pkl', 'wb') as f:\n",
    "    joblib.dump(pipeline_best_model, f)"
   ]
  },
  {
   "cell_type": "markdown",
   "id": "2f01928b-4045-4eab-bc22-5bc97a90c50a",
   "metadata": {
    "tags": []
   },
   "source": [
    "##### Evaluate final model"
   ]
  },
  {
   "cell_type": "code",
   "execution_count": 79,
   "id": "d7ec6244-7a2d-42ca-8b53-68f5f3f0c6a6",
   "metadata": {
    "tags": []
   },
   "outputs": [],
   "source": [
    "# load pipeline to a file\n",
    "with open('model/pipeline_best_model.pkl', 'rb') as f:\n",
    "    loaded_pipeline = joblib.load(f)"
   ]
  },
  {
   "cell_type": "code",
   "execution_count": 80,
   "id": "d3120fff-2be3-47f2-99d6-568dbb4044e7",
   "metadata": {
    "tags": []
   },
   "outputs": [],
   "source": [
    "y_proba = loaded_pipeline.predict_proba(X_test)[:, 1]\n",
    "y_pred = loaded_pipeline.predict(X_test)"
   ]
  },
  {
   "cell_type": "code",
   "execution_count": 81,
   "id": "633fa95a-91bc-4efb-978e-39fc791552f3",
   "metadata": {
    "tags": []
   },
   "outputs": [
    {
     "name": "stdout",
     "output_type": "stream",
     "text": [
      "0.712645944229042\n"
     ]
    }
   ],
   "source": [
    "print(roc_auc_score(y_pred, y_test))"
   ]
  },
  {
   "cell_type": "code",
   "execution_count": null,
   "id": "ed6099ee-1a36-4123-b6a5-c91ecb1c91c0",
   "metadata": {},
   "outputs": [],
   "source": []
  }
 ],
 "metadata": {
  "kernelspec": {
   "display_name": "Python 3 (ipykernel)",
   "language": "python",
   "name": "python3"
  },
  "language_info": {
   "codemirror_mode": {
    "name": "ipython",
    "version": 3
   },
   "file_extension": ".py",
   "mimetype": "text/x-python",
   "name": "python",
   "nbconvert_exporter": "python",
   "pygments_lexer": "ipython3",
   "version": "3.11.5"
  }
 },
 "nbformat": 4,
 "nbformat_minor": 5
}
